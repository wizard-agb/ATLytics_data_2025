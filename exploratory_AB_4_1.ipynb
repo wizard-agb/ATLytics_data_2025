{
 "cells": [
  {
   "cell_type": "code",
   "execution_count": null,
   "metadata": {},
   "outputs": [],
   "source": [
    "import pandas as pd\n",
    "import klib as kl\n",
    "\n",
    "import seaborn as sns\n",
    "import matplotlib.pyplot as plt\n"
   ]
  },
  {
   "cell_type": "code",
   "execution_count": null,
   "metadata": {},
   "outputs": [],
   "source": [
    "data = pd.read_csv('data/WIOA_GA_2022.csv')\n",
    "data.head()"
   ]
  },
  {
   "cell_type": "code",
   "execution_count": null,
   "metadata": {},
   "outputs": [],
   "source": [
    "field_lookups = pd.read_csv('reference_data/reference_table_lookups.csv').iloc[:,:6]\n",
    "field_lookups_dict = field_lookups[['DATA ELEMENT NO.', 'DATA ELEMENT NAME']].drop_duplicates()\n",
    "field_lookups_dict = dict(zip(field_lookups_dict['DATA ELEMENT NO.'], field_lookups_dict['DATA ELEMENT NAME']))"
   ]
  },
  {
   "cell_type": "code",
   "execution_count": null,
   "metadata": {},
   "outputs": [],
   "source": [
    "field_lookups.head(5)"
   ]
  },
  {
   "cell_type": "code",
   "execution_count": null,
   "metadata": {},
   "outputs": [],
   "source": [
    "\n",
    "df_cols = [col.replace('PIRL','') for col in  data.columns]\n",
    "columns = [field_lookups_dict.get(col, col) for col in df_cols]\n",
    "data.columns = columns\n",
    "\n",
    "data = kl.clean_column_names(data)\n",
    "\n",
    "data.head(5)"
   ]
  },
  {
   "cell_type": "code",
   "execution_count": null,
   "metadata": {},
   "outputs": [],
   "source": [
    "data.shape"
   ]
  },
  {
   "cell_type": "code",
   "execution_count": null,
   "metadata": {},
   "outputs": [],
   "source": [
    "# data.to_csv('data/with_column_names.csv')"
   ]
  },
  {
   "cell_type": "markdown",
   "metadata": {},
   "source": [
    "### Null Value Checks\n",
    "\n",
    "probably need to be handled. Likely with zero fill. "
   ]
  },
  {
   "cell_type": "code",
   "execution_count": null,
   "metadata": {},
   "outputs": [],
   "source": [
    "# change setting\n",
    "pd.set_option('display.max_rows', None)  # Show all rows\n"
   ]
  },
  {
   "cell_type": "markdown",
   "metadata": {},
   "source": [
    "### columns of interest\n",
    "\n",
    "\n",
    "foster_care_youth_status_at_program_entry_wioa\t\n",
    "homeless_participant,_homeless_children_and_youths,_or_runaway_youth_at_program_entry_wioa\t\n",
    "ex_offender_status_at_program_entry_wioa\t\n",
    "low_income_status_at_program_entry_wioa\t\n",
    "english_language_learner_at_program_entry_wioa\t\n",
    "basic_skills_deficient_low_levels_of_literacy_at_program_entry\t\n",
    "cultural_barriers_at_program_entry_wioa\t\n",
    "single_parent_at_program_entry_wioa\t\n",
    "displaced_homemaker_at_program_entry_wioa\n",
    "\n",
    "recipient_of_incumbent_worker_training\t\n",
    "rapid_response\t\n",
    "adult_education_wioa\t\n",
    "job_corps_wioa\t\n",
    "veterans_programs\t\n",
    "vocational_education\t\n",
    "vocational_rehabilitation_wioa\t\n",
    "wagner_peyser_employment_service_wioa\t\n",
    "employment_and_training_services_related_to_snap\n",
    "registered_apprenticeship_program\t\n",
    "national_dislocated_worker_grants_dwg\n",
    "\n",
    "date_of_program_entry_wioa\t\n",
    "date_of_program_exit_wioa\n",
    "\n",
    "received_training_wioa\n",
    "type_of_work_experience\n",
    "\n",
    "most_recent_date_of_self_service_activities\n",
    "most_recent_date_accessed_information_only_activities\n",
    "date_of_most_recent_reportable_individual_contact\n",
    "most_recent_date_received_basic_career_services_staff_assisted\n",
    "most_recent_date_received_basic_career_services_self_service_information_only\n",
    "date_of_first_basic_career_service_staff_assisted\n",
    "date_of_first_basic_career_service_self_service_information_only\n",
    "\n",
    "individual_with_a_disability_wioa\t\n",
    "category_of_disability\n",
    "employment_status_at_program_entry_wioa\n",
    "long_term_unemployed_at_program_entry_wioa\n",
    "occupational_code_of_most_recent_employment_prior_to_participation_if_available\n",
    "industry_code_of_employment_1st_quarter_prior_to_participation\t\n",
    "industry_code_of_employment_2nd_quarter_prior_to_participation\t\n",
    "industry_code_of_employment_3rd_quarter_prior_to_participation\n",
    "highest_educational_level_completed_at_program_entry_wioa\n",
    "school_status_at_program_entry_wioa\n",
    "eligible_training_provider_cip_code_wioa\n",
    "occupational_skills_training_code_hash_1\n",
    "\n",
    "type_of_employment_match_1st_quarter_after_exit_quarter_wioa\n",
    "type_of_employment_match_2nd_quarter_after_exit_quarter_wioa\n",
    "type_of_employment_match_3rd_quarter_after_exit_quarter_wioa\n",
    "type_of_employment_match_4th_quarter_after_exit_quarter_wioa\n",
    "industry_code_of_employment_1st_quarter_after_exit_quarter\t\n",
    "industry_code_of_employment_2nd_quarter_after_exit_quarter\t\n",
    "industry_code_of_employment_3rd_quarter_after_exit_quarter\t\n",
    "industry_code_of_employment_4th_quarter_after_exit_quarter\n",
    "\n",
    "retention_with_the_same_employer_in_the_2nd_quarter_and_the_4th_quarter_wioa\n",
    "\n",
    "wages_3rd_quarter_prior_to_participation_quarter\t\n",
    "wages_2nd_quarter_prior_to_participation_quarter\t\n",
    "wages_1st_quarter_prior_to_participation_quarter\t\n",
    "wages_1st_quarter_after_exit_quarter_wioa\t\n",
    "wages_2nd_quarter_after_exit_quarter_wioa\t\n",
    "wages_3rd_quarter_after_exit_quarter_wioa\t\n",
    "wages_4th_quarter_after_exit_quarter_wioa\n",
    "\n",
    "type_of_recognized_credential_wioa\n",
    "date_attained_recognized_credential_wioa\n",
    "\n",
    "wioa_median_earnings_quarter_2\n",
    "\n",
    "age_at_participation\n",
    "\n"
   ]
  },
  {
   "cell_type": "code",
   "execution_count": null,
   "metadata": {},
   "outputs": [],
   "source": [
    "# Demographic & Background Information\n",
    "demographics = [\n",
    "    \"foster_care_youth_status_at_program_entry_wioa\",\n",
    "    \"homeless_participant,_homeless_children_and_youths,_or_runaway_youth_at_program_entry_wioa\",\n",
    "    \"ex_offender_status_at_program_entry_wioa\",\n",
    "    \"low_income_status_at_program_entry_wioa\",\n",
    "    \"english_language_learner_at_program_entry_wioa\",\n",
    "    \"basic_skills_deficient_low_levels_of_literacy_at_program_entry\",\n",
    "    \"cultural_barriers_at_program_entry_wioa\",\n",
    "    \"single_parent_at_program_entry_wioa\",\n",
    "    \"displaced_homemaker_at_program_entry_wioa\",\n",
    "    \"individual_with_a_disability_wioa\",\n",
    "    \"category_of_disability\"\n",
    "]\n",
    "\n",
    "# Education & Training Information\n",
    "education_training = [\n",
    "    \"highest_educational_level_completed_at_program_entry_wioa\",\n",
    "    \"school_status_at_program_entry_wioa\",\n",
    "    \"adult_education_wioa\",\n",
    "    \"job_corps_wioa\",\n",
    "    \"vocational_education\",\n",
    "    \"vocational_rehabilitation_wioa\",\n",
    "    \"eligible_training_provider_cip_code_wioa\",\n",
    "    \"occupational_skills_training_code_hash_1\",\n",
    "    \"received_training_wioa\",\n",
    "    \"type_of_work_experience\",\n",
    "    \"type_of_recognized_credential_wioa\",\n",
    "    \"date_attained_recognized_credential_wioa\"\n",
    "]\n",
    "\n",
    "# Employment & Industry Information (Pre-Participation)\n",
    "employment_pre = [\n",
    "    \"employment_status_at_program_entry_wioa\",\n",
    "    \"long_term_unemployed_at_program_entry_wioa\",\n",
    "    \"occupational_code_of_most_recent_employment_prior_to_participation_if_available\",\n",
    "    \"industry_code_of_employment_1st_quarter_prior_to_participation\",\n",
    "    \"industry_code_of_employment_2nd_quarter_prior_to_participation\",\n",
    "    \"industry_code_of_employment_3rd_quarter_prior_to_participation\"\n",
    "]\n",
    "\n",
    "# Employment & Industry Information (Post-Exit)\n",
    "employment_post = [\n",
    "    \"type_of_employment_match_1st_quarter_after_exit_quarter_wioa\",\n",
    "    \"type_of_employment_match_2nd_quarter_after_exit_quarter_wioa\",\n",
    "    \"type_of_employment_match_3rd_quarter_after_exit_quarter_wioa\",\n",
    "    \"type_of_employment_match_4th_quarter_after_exit_quarter_wioa\",\n",
    "    \"industry_code_of_employment_1st_quarter_after_exit_quarter\",\n",
    "    \"industry_code_of_employment_2nd_quarter_after_exit_quarter\",\n",
    "    \"industry_code_of_employment_3rd_quarter_after_exit_quarter\",\n",
    "    \"industry_code_of_employment_4th_quarter_after_exit_quarter\",\n",
    "    \"retention_with_the_same_employer_in_the_2nd_quarter_and_the_4th_quarter_wioa\"\n",
    "]\n",
    "\n",
    "# Wages & Earnings\n",
    "wages_earnings = [\n",
    "    \"wages_3rd_quarter_prior_to_participation_quarter\",\n",
    "    \"wages_2nd_quarter_prior_to_participation_quarter\",\n",
    "    \"wages_1st_quarter_prior_to_participation_quarter\",\n",
    "    \"wages_1st_quarter_after_exit_quarter_wioa\",\n",
    "    \"wages_2nd_quarter_after_exit_quarter_wioa\",\n",
    "    \"wages_3rd_quarter_after_exit_quarter_wioa\",\n",
    "    \"wages_4th_quarter_after_exit_quarter_wioa\",\n",
    "    \"wioa_median_earnings_quarter_2\"\n",
    "]\n",
    "\n",
    "# Program Participation & Services Received\n",
    "program_participation = [\n",
    "    \"recipient_of_incumbent_worker_training\",\n",
    "    \"rapid_response\",\n",
    "    \"wagner_peyser_employment_service_wioa\",\n",
    "    \"employment_and_training_services_related_to_snap\",\n",
    "    \"registered_apprenticeship_program\",\n",
    "    \"national_dislocated_worker_grants_dwg\",\n",
    "    \"veterans_programs\"\n",
    "]\n",
    "\n",
    "# Program Entry & Exit Dates\n",
    "program_dates = [\n",
    "    \"date_of_program_entry_wioa\",\n",
    "    \"date_of_program_exit_wioa\"\n",
    "]\n",
    "\n",
    "# Career Services & Participation History\n",
    "career_services = [\n",
    "    \"most_recent_date_of_self_service_activities\",\n",
    "    \"most_recent_date_accessed_information_only_activities\",\n",
    "    \"date_of_most_recent_reportable_individual_contact\",\n",
    "    \"most_recent_date_received_basic_career_services_staff_assisted\",\n",
    "    \"most_recent_date_received_basic_career_services_self_service_information_only\",\n",
    "    \"date_of_first_basic_career_service_staff_assisted\",\n",
    "    \"date_of_first_basic_career_service_self_service_information_only\"\n",
    "]\n",
    "\n",
    "# Miscellaneous\n",
    "miscellaneous = [\"age_at_participation\"]\n"
   ]
  },
  {
   "cell_type": "code",
   "execution_count": null,
   "metadata": {},
   "outputs": [],
   "source": [
    "print(data.shape)\n",
    "all_columns = demographics + education_training + employment_pre + employment_post + wages_earnings + program_participation + program_dates + career_services + miscellaneous\n",
    "data = data[all_columns]\n",
    "print(data.shape)"
   ]
  },
  {
   "cell_type": "code",
   "execution_count": null,
   "metadata": {},
   "outputs": [],
   "source": [
    "naics_lookup = pd.read_csv('reference_data/2022_NAICS_Structure.csv')\n",
    "naics_lookup = naics_lookup.iloc[2:, 1:3]\n",
    "naics_lookup_dict = dict(zip(naics_lookup['Unnamed: 1'].astype(str), naics_lookup['Unnamed: 2']))\n",
    "\n",
    "cip_codes = pd.read_csv('reference_data/CipCode2010.csv')\n",
    "cip_codes['CIPCode'] = cip_codes['CIPCode'].astype(str).replace('.','')\n",
    "cip_codes_dict = dict(zip(cip_codes['CIPCode'], cip_codes['CIPTitle']))\n",
    "\n",
    "occupational_codes = pd.read_csv('reference_data/occupation_code_ref.csv')\n",
    "occupational_codes['O*NET-SOC Code'] = occupational_codes['O*NET-SOC Code'].astype(str).replace(r'[.,-]','', regex=True)\n",
    "occupational_codes_dict = dict(zip(occupational_codes['O*NET-SOC Code'], occupational_codes['Title']))\n"
   ]
  },
  {
   "cell_type": "code",
   "execution_count": null,
   "metadata": {},
   "outputs": [],
   "source": [
    "\n",
    "for col in all_columns:\n",
    "    data[col] = data[col].fillna('0').astype(int).astype(str)\n",
    "\n",
    "    # 9 means the data is not applicable to the specified row. so we can replace with 0.\n",
    "    if len(set(data[col].unique()) - (set(['0','1','9']))) == 0:\n",
    "        data[col] = data[col].str.replace('9', '0')\n",
    "        data[col] = pd.to_numeric(data[col], errors='coerce')  # Convert non-numeric to NaN\n",
    "        data[col] = data[col].fillna(0).astype(int)\n",
    "    \n",
    "    elif len(set(data[col].unique()) - (set(['0','1']))) == 0:\n",
    "        data[col] = pd.to_numeric(data[col], errors='coerce')\n",
    "        \n",
    "    elif 'date' in col:\n",
    "        print(data[col].unique())\n",
    "        data[col] = pd.to_datetime(data[col], format='%Y%m%d', errors='coerce')\n",
    "        \n",
    "    elif 'wages' in col or 'earnings' in col:\n",
    "        data[col] = pd.to_numeric(data[col], errors='coerce')\n",
    "    \n",
    "    elif 'industry_code' in col:\n",
    "        data[col] = data[col].map(naics_lookup_dict)\n",
    "\n",
    "    elif 'age' in col:\n",
    "        data[col] = pd.to_numeric(data[col], errors='coerce')\n",
    "        \n",
    "    # 2 is the same as 1, just 'verified with addtl info' and 9 is the same as 0\n",
    "    elif len(set(data[col].unique()) - (set(['0','1','2','9']))) == 0 or len(set(data[col].unique()) - (set(['0','1','2']))) == 0 or len(set(data[col].unique()) - (set(['0','1','4']))) == 0:\n",
    "        data[col] = data[col].str.replace('9', '0')\n",
    "        data[col] = data[col].str.replace('2', '1')\n",
    "        data[col] = data[col].str.replace('4', '1') # data entry error here\n",
    "        data[col] = pd.to_numeric(data[col], errors='coerce')\n",
    "   \n",
    "    elif col == 'type_of_work_experience':\n",
    "        work_experience_dict = {\n",
    "            '1': \"summer employment/internship\",\n",
    "            '2': \"non-summer internship/employment\",\n",
    "            '3': \"pre-apprenticeship program.\",\n",
    "            '4': \"job shadowing.\",\n",
    "            '5': \"on-the-job training\",\n",
    "            '6': \"transitional job\",\n",
    "            '7': \"other work experience.\",\n",
    "            '0': \"no work experience.\",\n",
    "            \"\": \"This data element does not apply to the participant.\"\n",
    "        }\n",
    "        data[col] = data[col].map(work_experience_dict)\n",
    "\n",
    "    elif col == 'type_of_recognized_credential_wioa':\n",
    "        education_credentials_dict = {\n",
    "            \"1\": \"Secondary School Diploma or Equivalency\",\n",
    "            \"2\": \"AA or AS Diploma/Degree\",\n",
    "            \"3\": \"BA or BS Diploma/Degree\",\n",
    "            \"4\": \"Occupational Licensure\",\n",
    "            \"5\": \"Occupational Certificate\",\n",
    "            \"6\": \"Occupational Certification\",\n",
    "            \"7\": \"Other Recognized Diploma, Degree, or Certificate\",\n",
    "            \"0\": \"No Recognized Credential\"\n",
    "        }\n",
    "        data[col] = data[col].map(education_credentials_dict)\n",
    "\n",
    "    elif col == 'employment_status_at_program_entry_wioa':\n",
    "        employment_status_dict = {\n",
    "            \"1\": \"Employed\",\n",
    "            \"2\": \"Employed, but Received Notice of Termination of Employment or Military Separation is Pending\",\n",
    "            \"3\": \"Not in Labor Force\",\n",
    "            \"0\": \"Unemployed\"\n",
    "        }\n",
    "        data[col] = data[col].map(employment_status_dict)\n",
    "\n",
    "    elif col == 'category_of_disability':\n",
    "        disability_status_dict = {\n",
    "            \"1\": \"Physical/Chronic Health Condition\",\n",
    "            \"2\": \"Physical/Mobility Impairment\",\n",
    "            \"3\": \"Mental or Psychiatric Disability\",\n",
    "            \"4\": \"Vision-related Disability\",\n",
    "            \"5\": \"Hearing-related Disability\",\n",
    "            \"6\": \"Learning Disability\",\n",
    "            \"7\": \"Cognitive/Intellectual Disability\",\n",
    "            \"9\": \"Participant did not disclose type of disability\",\n",
    "            \"0\": \"No Disability\"\n",
    "        }\n",
    "\n",
    "        data[col] = data[col].map(disability_status_dict)\n",
    "\n",
    "    elif col == 'highest_educational_level_completed_at_program_entry_wioa':\n",
    "        educational_attainment_dict = {\n",
    "            \"1\": \"Attained secondary school diploma\",\n",
    "            \"2\": \"Attained a secondary school equivalency\",\n",
    "            \"3\": \"Received a certificate of attendance/completion from an Individualized Education Program (IEP)\",\n",
    "            \"4\": \"Completed one or more years of postsecondary education\",\n",
    "            \"5\": \"Attained a postsecondary technical or vocational certificate (non-degree)\",\n",
    "            \"6\": \"Attained an Associate's degree\",\n",
    "            \"7\": \"Attained a Bachelor's degree\",\n",
    "            \"8\": \"Attained a degree beyond a Bachelor's degree\",\n",
    "            \"0\": \"No educational level completed\"\n",
    "        }\n",
    "\n",
    "        data[col] = data[col].map(educational_attainment_dict)\n",
    "\n",
    "    elif col == 'school_status_at_program_entry_wioa':\n",
    "        school_attendance_status_dict = {\n",
    "            \"1\": \"In-school, secondary school or less\",\n",
    "            \"2\": \"In-school, Alternative School\",\n",
    "            \"3\": \"In-school, Postsecondary school\",\n",
    "            \"4\": \"Not attending school or Secondary School Dropout\",\n",
    "            \"5\": \"Not attending school; secondary school graduate or has a recognized equivalent\",\n",
    "            \"6\": \"Not attending school; within age of compulsory school attendance\"\n",
    "        }\n",
    "\n",
    "        data[col] = data[col].map(school_attendance_status_dict)\n",
    "\n",
    "    elif col == 'eligible_training_provider_cip_code_wioa':\n",
    "        \n",
    "        data[col] = data[col].map(cip_codes_dict)\n",
    "\n",
    "    elif col == 'occupational_code_of_most_recent_employment_prior_to_participation_if_available' or col == 'occupational_skills_training_code_hash_1':\n",
    "\n",
    "        data[col] = data[col].map(occupational_codes_dict)\n",
    "\n"
   ]
  },
  {
   "cell_type": "markdown",
   "metadata": {},
   "source": [
    "#### AB column dive in"
   ]
  },
  {
   "cell_type": "code",
   "execution_count": null,
   "metadata": {},
   "outputs": [],
   "source": [
    "columns_for_ab = [\n",
    "    # Job Placement Rate\n",
    "    \"type_of_employment_match_1st_quarter_after_exit_quarter_wioa\",\n",
    "    \"type_of_employment_match_2nd_quarter_after_exit_quarter_wioa\",\n",
    "    \"type_of_employment_match_3rd_quarter_after_exit_quarter_wioa\",\n",
    "    \"type_of_employment_match_4th_quarter_after_exit_quarter_wioa\",\n",
    "    \"retention_with_the_same_employer_in_the_2nd_quarter_and_the_4th_quarter_wioa\",\n",
    "    \"industry_code_of_employment_1st_quarter_after_exit_quarter\",\n",
    "    \"industry_code_of_employment_2nd_quarter_after_exit_quarter\",\n",
    "    \"industry_code_of_employment_3rd_quarter_after_exit_quarter\",\n",
    "    \"industry_code_of_employment_4th_quarter_after_exit_quarter\",\n",
    "    \"date_of_program_exit_wioa\"\n",
    "]"
   ]
  },
  {
   "cell_type": "markdown",
   "metadata": {},
   "source": [
    "### consolidating industries into latest industry worked"
   ]
  },
  {
   "cell_type": "code",
   "execution_count": null,
   "metadata": {},
   "outputs": [],
   "source": [
    "# Select the relevant columns\n",
    "columns = [\n",
    "    \"industry_code_of_employment_1st_quarter_after_exit_quarter\",\n",
    "    \"industry_code_of_employment_2nd_quarter_after_exit_quarter\",\n",
    "    \"industry_code_of_employment_3rd_quarter_after_exit_quarter\",\n",
    "    \"industry_code_of_employment_4th_quarter_after_exit_quarter\"\n",
    "]\n",
    "\n",
    "# Use backfill to get the latest non-null industry code\n",
    "data[\"latest_industry_code_of_employment_after_exit_quarter\"] = data[columns].ffill(axis=1).iloc[:, -1]\n"
   ]
  },
  {
   "cell_type": "code",
   "execution_count": null,
   "metadata": {},
   "outputs": [],
   "source": [
    "data[\"latest_industry_code_of_employment_after_exit_quarter\"].value_counts()"
   ]
  },
  {
   "cell_type": "markdown",
   "metadata": {},
   "source": [
    "### Retention stats"
   ]
  },
  {
   "cell_type": "code",
   "execution_count": null,
   "metadata": {},
   "outputs": [],
   "source": [
    "data['retention_with_the_same_employer_in_the_2nd_quarter_and_the_4th_quarter_wioa'].value_counts()"
   ]
  },
  {
   "cell_type": "code",
   "execution_count": null,
   "metadata": {},
   "outputs": [],
   "source": [
    "industry_codes = data.groupby('latest_industry_code_of_employment_after_exit_quarter')['retention_with_the_same_employer_in_the_2nd_quarter_and_the_4th_quarter_wioa'].value_counts().reset_index()\n",
    "\n",
    "retained_industry_codes = industry_codes.loc[industry_codes.retention_with_the_same_employer_in_the_2nd_quarter_and_the_4th_quarter_wioa == 1].sort_values(['retention_with_the_same_employer_in_the_2nd_quarter_and_the_4th_quarter_wioa','count'], ascending=False)\n",
    "dropped_industry_codes = industry_codes.loc[industry_codes.retention_with_the_same_employer_in_the_2nd_quarter_and_the_4th_quarter_wioa == 0].sort_values(['retention_with_the_same_employer_in_the_2nd_quarter_and_the_4th_quarter_wioa','count'], ascending=False)"
   ]
  },
  {
   "cell_type": "code",
   "execution_count": null,
   "metadata": {},
   "outputs": [],
   "source": [
    "retained_industry_codes[1:21]"
   ]
  },
  {
   "cell_type": "code",
   "execution_count": null,
   "metadata": {},
   "outputs": [],
   "source": [
    "dropped_industry_codes[1:21]"
   ]
  },
  {
   "cell_type": "markdown",
   "metadata": {},
   "source": [
    "### Total Industry Counts "
   ]
  },
  {
   "cell_type": "code",
   "execution_count": null,
   "metadata": {},
   "outputs": [],
   "source": [
    "columns = [\n",
    "    'industry_code_of_employment_1st_quarter_after_exit_quarter',\n",
    "    \"industry_code_of_employment_2nd_quarter_after_exit_quarter\",\n",
    "    \"industry_code_of_employment_3rd_quarter_after_exit_quarter\",\n",
    "    \"industry_code_of_employment_4th_quarter_after_exit_quarter\"\n",
    "]\n",
    "\n",
    "\n",
    "df1 =  data[\"industry_code_of_employment_1st_quarter_after_exit_quarter\"].value_counts().reset_index()\n",
    "df2 = data[\"industry_code_of_employment_2nd_quarter_after_exit_quarter\"].value_counts().reset_index()\n",
    "df3 = data[\"industry_code_of_employment_3rd_quarter_after_exit_quarter\"].value_counts().reset_index()\n",
    "df4 = data[\"industry_code_of_employment_4th_quarter_after_exit_quarter\"].value_counts().reset_index()\n",
    "\n",
    "df1.columns = ['col1', 'count']\n",
    "df2.columns = ['col1', 'count']\n",
    "df3.columns = ['col1', 'count']\n",
    "df4.columns = ['col1', 'count']\n",
    "\n",
    "df = pd.concat([df1, df2, df3, df4])\n",
    "df = df.groupby('col1').sum().reset_index()\n",
    "df.sort_values('count', ascending=False)[:30]"
   ]
  },
  {
   "cell_type": "markdown",
   "metadata": {},
   "source": [
    "### Consolidating employment status to see if they were ever employed after the program\n"
   ]
  },
  {
   "cell_type": "code",
   "execution_count": null,
   "metadata": {},
   "outputs": [],
   "source": [
    "temp = data.copy()\n",
    "\n",
    "cols = [\"type_of_employment_match_1st_quarter_after_exit_quarter_wioa\",\n",
    "    \"type_of_employment_match_2nd_quarter_after_exit_quarter_wioa\",\n",
    "    \"type_of_employment_match_3rd_quarter_after_exit_quarter_wioa\",\n",
    "    \"type_of_employment_match_4th_quarter_after_exit_quarter_wioa\"\n",
    "]\n",
    "\n",
    "temp[cols] = temp[cols].replace(0,pd.NA)\n",
    "\n",
    "data['employment_status_after_program'] = temp[cols].bfill(axis=1).iloc[:, 0]\n",
    "\n",
    "data['employment_status_after_program'] = data['employment_status_after_program'].fillna(0)\n",
    "\n",
    "data['employment_status_after_program'].value_counts()"
   ]
  },
  {
   "cell_type": "markdown",
   "metadata": {},
   "source": [
    "#### Employment status at each quarter"
   ]
  },
  {
   "cell_type": "code",
   "execution_count": null,
   "metadata": {},
   "outputs": [],
   "source": [
    "\n",
    "# Define the relevant columns and corresponding quarter numbers\n",
    "quarters = {\n",
    "    \"type_of_employment_match_1st_quarter_after_exit_quarter_wioa\": 1,\n",
    "    \"type_of_employment_match_2nd_quarter_after_exit_quarter_wioa\": 2,\n",
    "    \"type_of_employment_match_3rd_quarter_after_exit_quarter_wioa\": 3,\n",
    "    \"type_of_employment_match_4th_quarter_after_exit_quarter_wioa\": 4,\n",
    "}\n",
    "\n",
    "# Process all quarters in a single step\n",
    "df_list = [\n",
    "    data[col].value_counts().reset_index().assign(quarter=quarter).rename(columns={\"index\": \"col1\", col: \"count\"})\n",
    "    for col, quarter in quarters.items()\n",
    "]\n",
    "\n",
    "# Concatenate all quarter data into one DataFrame\n",
    "df = pd.concat(df_list, ignore_index=True)\n",
    "\n",
    "\n",
    "\n"
   ]
  },
  {
   "cell_type": "code",
   "execution_count": null,
   "metadata": {},
   "outputs": [],
   "source": [
    "df.columns = ['col1', 'count', 'quarter']"
   ]
  },
  {
   "cell_type": "code",
   "execution_count": null,
   "metadata": {},
   "outputs": [],
   "source": [
    "# Plot the data in a grouped bar chart\n",
    "sns.barplot(x=\"quarter\", y=\"count\", hue=\"col1\", data=df)\n",
    "plt.xlabel(\"Quarter\")\n",
    "plt.ylabel(\"Count\")\n",
    "plt.title(\"Employment Status by Quarter\")\n",
    "plt.show()"
   ]
  },
  {
   "cell_type": "code",
   "execution_count": null,
   "metadata": {},
   "outputs": [],
   "source": [
    "# Filter the data for col1 == 1 and sort by quarter\n",
    "df_col1_1 = df[df[\"col1\"] == 1].sort_values(\"quarter\")\n",
    "\n",
    "# Calculate the percentage change\n",
    "df_col1_1[\"pct_change\"] = df_col1_1[\"count\"].pct_change() * 100\n",
    "\n",
    "df_col1_1"
   ]
  },
  {
   "cell_type": "code",
   "execution_count": null,
   "metadata": {},
   "outputs": [],
   "source": [
    "df_col1_1['pct_change'].mean()"
   ]
  },
  {
   "cell_type": "markdown",
   "metadata": {},
   "source": [
    "#### PCT Change by Industry"
   ]
  },
  {
   "cell_type": "code",
   "execution_count": null,
   "metadata": {},
   "outputs": [],
   "source": [
    "df1 = data.groupby('industry_code_of_employment_1st_quarter_after_exit_quarter')['type_of_employment_match_1st_quarter_after_exit_quarter_wioa'].value_counts().reset_index()\n",
    "df2 = data.groupby('industry_code_of_employment_2nd_quarter_after_exit_quarter')['type_of_employment_match_2nd_quarter_after_exit_quarter_wioa'].value_counts().reset_index()\n",
    "df3 = data.groupby('industry_code_of_employment_3rd_quarter_after_exit_quarter')['type_of_employment_match_3rd_quarter_after_exit_quarter_wioa'].value_counts().reset_index()\n",
    "df4 = data.groupby('industry_code_of_employment_4th_quarter_after_exit_quarter')['type_of_employment_match_4th_quarter_after_exit_quarter_wioa'].value_counts().reset_index()\n",
    "\n",
    "df1.columns = ['industry_code', 'employed', 'count']\n",
    "df2.columns = ['industry_code', 'employed', 'count']\n",
    "df3.columns = ['industry_code', 'employed', 'count']\n",
    "df4.columns = ['industry_code', 'employed', 'count']\n",
    "\n",
    "df1['quarter'] = 1\n",
    "df2['quarter'] = 2\n",
    "df3['quarter'] = 3\n",
    "df4['quarter'] = 4\n",
    "\n",
    "df = pd.concat([df1, df2, df3, df4])\n",
    "employed = df.loc[df.employed == 1].groupby(['industry_code', 'quarter'])['count'].sum().reset_index()\n",
    "unemployed = df.loc[df.employed == 0].groupby(['industry_code', 'quarter'])['count'].sum().reset_index()\n",
    "\n",
    "employed['pct_change'] = employed['count'].pct_change() \n",
    "unemployed['pct_change'] = unemployed['count'].pct_change()\n",
    "\n",
    "employed_group = employed.groupby('industry_code')['pct_change'].mean().sort_values(ascending=False)\n",
    "unemployed_group = unemployed.groupby('industry_code')['pct_change'].mean().sort_values(ascending=False)\n"
   ]
  },
  {
   "cell_type": "code",
   "execution_count": 89,
   "metadata": {},
   "outputs": [
    {
     "data": {
      "text/plain": [
       "industry_code\n",
       "Temporary Help Services                                                     124.747146\n",
       "Hotels (except Casino Hotels) and Motels                                     93.713948\n",
       "Security Guards and Patrol Services                                          88.554594\n",
       "Elementary and Secondary Schools                                             61.042195\n",
       "Department Stores                                                            58.686728\n",
       "Motion Picture and Video Production                                          50.998115\n",
       "Limited-Service Restaurants                                                  50.224985\n",
       "General Warehousing and Storage                                              42.155627\n",
       "Scheduled Passenger Air Transportation                                       41.794501\n",
       "Child Care Services                                                          40.762275\n",
       "All Other General Merchandise Retailers                                      36.393569\n",
       "Custom Computer Programming Services                                         36.217693\n",
       "Engineering Services                                                         35.794233\n",
       "Janitorial Services                                                          27.910923\n",
       "Telemarketing Bureaus and Other Contact Centers                              27.609173\n",
       "Tax Preparation Services                                                     27.142559\n",
       "Supermarkets and Other Grocery Retailers (except Convenience Retailers)      25.952878\n",
       "Poultry Processing                                                           24.560405\n",
       "New Car Dealers                                                              22.561019\n",
       "Wired Telecommunications Carriers                                            21.695000\n",
       "Name: pct_change, dtype: float64"
      ]
     },
     "execution_count": 89,
     "metadata": {},
     "output_type": "execute_result"
    }
   ],
   "source": [
    "employed_group[:20]"
   ]
  },
  {
   "cell_type": "code",
   "execution_count": 90,
   "metadata": {},
   "outputs": [
    {
     "data": {
      "text/plain": [
       "industry_code\n",
       "Other Electronic Component Manufacturing                      -0.613793\n",
       "Wineries                                                      -0.645652\n",
       "Deep Sea Freight Transportation                               -0.666667\n",
       "Bed-and-Breakfast Inns                                        -0.694444\n",
       "Port and Harbor Operations                                    -0.698214\n",
       "Dry, Condensed, and Evaporated Dairy Product Manufacturing    -0.800000\n",
       "Spring Manufacturing                                          -0.812500\n",
       "Line-Haul Railroads                                           -0.823529\n",
       "Other Communication and Energy Wire Manufacturing             -0.840000\n",
       "Power-Driven Handtool Manufacturing                           -0.850000\n",
       "Apple Orchards                                                -0.851852\n",
       "Tire Retreading                                               -0.875000\n",
       "Steel Wire Drawing                                            -0.882353\n",
       "Air and Gas Compressor Manufacturing                          -0.897436\n",
       "Research and Development in Nanotechnology                    -0.927273\n",
       "Potato Farming                                                -0.936170\n",
       "American Indian and Alaska Native Tribal Governments          -0.955224\n",
       "Inland Water Freight Transportation                           -0.964706\n",
       "Skiing Facilities                                             -0.969388\n",
       "Custom Roll Forming                                           -0.994152\n",
       "Name: pct_change, dtype: float64"
      ]
     },
     "execution_count": 90,
     "metadata": {},
     "output_type": "execute_result"
    }
   ],
   "source": [
    "employed_group[-20:]"
   ]
  },
  {
   "cell_type": "code",
   "execution_count": null,
   "metadata": {},
   "outputs": [],
   "source": []
  }
 ],
 "metadata": {
  "kernelspec": {
   "display_name": "Python 3",
   "language": "python",
   "name": "python3"
  },
  "language_info": {
   "codemirror_mode": {
    "name": "ipython",
    "version": 3
   },
   "file_extension": ".py",
   "mimetype": "text/x-python",
   "name": "python",
   "nbconvert_exporter": "python",
   "pygments_lexer": "ipython3",
   "version": "3.12.2"
  }
 },
 "nbformat": 4,
 "nbformat_minor": 2
}
