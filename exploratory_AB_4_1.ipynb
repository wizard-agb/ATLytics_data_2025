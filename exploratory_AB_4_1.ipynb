{
 "cells": [
  {
   "cell_type": "code",
   "execution_count": 46,
   "metadata": {},
   "outputs": [],
   "source": [
    "import pandas as pd\n",
    "import klib as kl\n",
    "\n",
    "import seaborn as sns\n",
    "import matplotlib.pyplot as plt\n",
    "import plotly.express as px\n"
   ]
  },
  {
   "cell_type": "code",
   "execution_count": 47,
   "metadata": {},
   "outputs": [
    {
     "name": "stderr",
     "output_type": "stream",
     "text": [
      "/var/folders/d4/rcb0hfcs0bzgr7z0mw72lc_w0000gn/T/ipykernel_44399/3140198450.py:1: DtypeWarning:\n",
      "\n",
      "Columns (95,185) have mixed types. Specify dtype option on import or set low_memory=False.\n",
      "\n"
     ]
    },
    {
     "data": {
      "text/html": [
       "<div>\n",
       "<style scoped>\n",
       "    .dataframe tbody tr th:only-of-type {\n",
       "        vertical-align: middle;\n",
       "    }\n",
       "\n",
       "    .dataframe tbody tr th {\n",
       "        vertical-align: top;\n",
       "    }\n",
       "\n",
       "    .dataframe thead th {\n",
       "        text-align: right;\n",
       "    }\n",
       "</style>\n",
       "<table border=\"1\" class=\"dataframe\">\n",
       "  <thead>\n",
       "    <tr style=\"text-align: right;\">\n",
       "      <th></th>\n",
       "      <th>PIRL100</th>\n",
       "      <th>PIRL108A</th>\n",
       "      <th>PIRL108B</th>\n",
       "      <th>PIRL201</th>\n",
       "      <th>PIRL202</th>\n",
       "      <th>PIRL203</th>\n",
       "      <th>PIRL204</th>\n",
       "      <th>PIRL205</th>\n",
       "      <th>PIRL206</th>\n",
       "      <th>PIRL207</th>\n",
       "      <th>...</th>\n",
       "      <th>CALC4034</th>\n",
       "      <th>CALC4035</th>\n",
       "      <th>CALC4036</th>\n",
       "      <th>CALC4037</th>\n",
       "      <th>CALC4038</th>\n",
       "      <th>CALC4039</th>\n",
       "      <th>CALC4040</th>\n",
       "      <th>CALC4041</th>\n",
       "      <th>REPORT_QUARTER</th>\n",
       "      <th>LOCAL_BOARD_NAME</th>\n",
       "    </tr>\n",
       "  </thead>\n",
       "  <tbody>\n",
       "    <tr>\n",
       "      <th>0</th>\n",
       "      <td>0eed4DL9UdF5</td>\n",
       "      <td>13050.0</td>\n",
       "      <td>NaN</td>\n",
       "      <td>1</td>\n",
       "      <td>1</td>\n",
       "      <td>9.0</td>\n",
       "      <td>0.0</td>\n",
       "      <td>0.0</td>\n",
       "      <td>0.0</td>\n",
       "      <td>0.0</td>\n",
       "      <td>...</td>\n",
       "      <td>0.0</td>\n",
       "      <td>0.0</td>\n",
       "      <td>0.0</td>\n",
       "      <td>0.0</td>\n",
       "      <td>0.0</td>\n",
       "      <td>18.0</td>\n",
       "      <td>9999.0</td>\n",
       "      <td>0.0</td>\n",
       "      <td>20230630</td>\n",
       "      <td>Georgia Mountains (Area 2)</td>\n",
       "    </tr>\n",
       "    <tr>\n",
       "      <th>1</th>\n",
       "      <td>0eedffcee0DU</td>\n",
       "      <td>13050.0</td>\n",
       "      <td>NaN</td>\n",
       "      <td>2</td>\n",
       "      <td>0</td>\n",
       "      <td>0.0</td>\n",
       "      <td>NaN</td>\n",
       "      <td>NaN</td>\n",
       "      <td>NaN</td>\n",
       "      <td>NaN</td>\n",
       "      <td>...</td>\n",
       "      <td>0.0</td>\n",
       "      <td>0.0</td>\n",
       "      <td>0.0</td>\n",
       "      <td>0.0</td>\n",
       "      <td>0.0</td>\n",
       "      <td>30.0</td>\n",
       "      <td>2021.0</td>\n",
       "      <td>0.0</td>\n",
       "      <td>20230630</td>\n",
       "      <td>Georgia Mountains (Area 2)</td>\n",
       "    </tr>\n",
       "    <tr>\n",
       "      <th>2</th>\n",
       "      <td>0eeeA4eFUa09</td>\n",
       "      <td>13250.0</td>\n",
       "      <td>13903.0</td>\n",
       "      <td>2</td>\n",
       "      <td>0</td>\n",
       "      <td>0.0</td>\n",
       "      <td>NaN</td>\n",
       "      <td>NaN</td>\n",
       "      <td>NaN</td>\n",
       "      <td>NaN</td>\n",
       "      <td>...</td>\n",
       "      <td>NaN</td>\n",
       "      <td>NaN</td>\n",
       "      <td>NaN</td>\n",
       "      <td>NaN</td>\n",
       "      <td>NaN</td>\n",
       "      <td>38.0</td>\n",
       "      <td>9999.0</td>\n",
       "      <td>0.0</td>\n",
       "      <td>20230630</td>\n",
       "      <td>Fulton County (Area 6)</td>\n",
       "    </tr>\n",
       "    <tr>\n",
       "      <th>3</th>\n",
       "      <td>0eeeUeUcaFDa</td>\n",
       "      <td>13250.0</td>\n",
       "      <td>13903.0</td>\n",
       "      <td>2</td>\n",
       "      <td>0</td>\n",
       "      <td>0.0</td>\n",
       "      <td>NaN</td>\n",
       "      <td>NaN</td>\n",
       "      <td>NaN</td>\n",
       "      <td>NaN</td>\n",
       "      <td>...</td>\n",
       "      <td>NaN</td>\n",
       "      <td>NaN</td>\n",
       "      <td>NaN</td>\n",
       "      <td>NaN</td>\n",
       "      <td>NaN</td>\n",
       "      <td>44.0</td>\n",
       "      <td>9999.0</td>\n",
       "      <td>0.0</td>\n",
       "      <td>20230630</td>\n",
       "      <td>Fulton County (Area 6)</td>\n",
       "    </tr>\n",
       "    <tr>\n",
       "      <th>4</th>\n",
       "      <td>0eefSS0ecabU</td>\n",
       "      <td>13250.0</td>\n",
       "      <td>13903.0</td>\n",
       "      <td>2</td>\n",
       "      <td>9</td>\n",
       "      <td>9.0</td>\n",
       "      <td>NaN</td>\n",
       "      <td>NaN</td>\n",
       "      <td>NaN</td>\n",
       "      <td>NaN</td>\n",
       "      <td>...</td>\n",
       "      <td>NaN</td>\n",
       "      <td>NaN</td>\n",
       "      <td>NaN</td>\n",
       "      <td>NaN</td>\n",
       "      <td>NaN</td>\n",
       "      <td>43.0</td>\n",
       "      <td>2021.0</td>\n",
       "      <td>0.0</td>\n",
       "      <td>20230630</td>\n",
       "      <td>Fulton County (Area 6)</td>\n",
       "    </tr>\n",
       "  </tbody>\n",
       "</table>\n",
       "<p>5 rows × 186 columns</p>\n",
       "</div>"
      ],
      "text/plain": [
       "        PIRL100  PIRL108A  PIRL108B  PIRL201  PIRL202  PIRL203  PIRL204  \\\n",
       "0  0eed4DL9UdF5   13050.0       NaN        1        1      9.0      0.0   \n",
       "1  0eedffcee0DU   13050.0       NaN        2        0      0.0      NaN   \n",
       "2  0eeeA4eFUa09   13250.0   13903.0        2        0      0.0      NaN   \n",
       "3  0eeeUeUcaFDa   13250.0   13903.0        2        0      0.0      NaN   \n",
       "4  0eefSS0ecabU   13250.0   13903.0        2        9      9.0      NaN   \n",
       "\n",
       "   PIRL205  PIRL206  PIRL207  ...  CALC4034  CALC4035  CALC4036  CALC4037  \\\n",
       "0      0.0      0.0      0.0  ...       0.0       0.0       0.0       0.0   \n",
       "1      NaN      NaN      NaN  ...       0.0       0.0       0.0       0.0   \n",
       "2      NaN      NaN      NaN  ...       NaN       NaN       NaN       NaN   \n",
       "3      NaN      NaN      NaN  ...       NaN       NaN       NaN       NaN   \n",
       "4      NaN      NaN      NaN  ...       NaN       NaN       NaN       NaN   \n",
       "\n",
       "   CALC4038  CALC4039  CALC4040  CALC4041  REPORT_QUARTER  \\\n",
       "0       0.0      18.0    9999.0       0.0        20230630   \n",
       "1       0.0      30.0    2021.0       0.0        20230630   \n",
       "2       NaN      38.0    9999.0       0.0        20230630   \n",
       "3       NaN      44.0    9999.0       0.0        20230630   \n",
       "4       NaN      43.0    2021.0       0.0        20230630   \n",
       "\n",
       "             LOCAL_BOARD_NAME  \n",
       "0  Georgia Mountains (Area 2)  \n",
       "1  Georgia Mountains (Area 2)  \n",
       "2      Fulton County (Area 6)  \n",
       "3      Fulton County (Area 6)  \n",
       "4      Fulton County (Area 6)  \n",
       "\n",
       "[5 rows x 186 columns]"
      ]
     },
     "execution_count": 47,
     "metadata": {},
     "output_type": "execute_result"
    }
   ],
   "source": [
    "data = pd.read_csv('data/WIOA_GA_2022.csv')\n",
    "data.head()"
   ]
  },
  {
   "cell_type": "code",
   "execution_count": 48,
   "metadata": {},
   "outputs": [],
   "source": [
    "field_lookups = pd.read_csv('reference_data/reference_table_lookups.csv').iloc[:,:6]\n",
    "field_lookups_dict = field_lookups[['DATA ELEMENT NO.', 'DATA ELEMENT NAME']].drop_duplicates()\n",
    "field_lookups_dict = dict(zip(field_lookups_dict['DATA ELEMENT NO.'], field_lookups_dict['DATA ELEMENT NAME']))"
   ]
  },
  {
   "cell_type": "code",
   "execution_count": 49,
   "metadata": {},
   "outputs": [
    {
     "data": {
      "text/html": [
       "<div>\n",
       "<style scoped>\n",
       "    .dataframe tbody tr th:only-of-type {\n",
       "        vertical-align: middle;\n",
       "    }\n",
       "\n",
       "    .dataframe tbody tr th {\n",
       "        vertical-align: top;\n",
       "    }\n",
       "\n",
       "    .dataframe thead th {\n",
       "        text-align: right;\n",
       "    }\n",
       "</style>\n",
       "<table border=\"1\" class=\"dataframe\">\n",
       "  <thead>\n",
       "    <tr style=\"text-align: right;\">\n",
       "      <th></th>\n",
       "      <th>DATA ELEMENT NO.</th>\n",
       "      <th>DATA ELEMENT NAME</th>\n",
       "      <th>DATA TYPE/ \\nFIELD LENGTH</th>\n",
       "      <th>DATA ELEMENT DEFINITIONS/INSTRUCTIONS</th>\n",
       "      <th>CODE VALUE</th>\n",
       "      <th>Notes</th>\n",
       "    </tr>\n",
       "  </thead>\n",
       "  <tbody>\n",
       "    <tr>\n",
       "      <th>0</th>\n",
       "      <td>SECTION A - INDIVIDUAL INFORMATION</td>\n",
       "      <td>NaN</td>\n",
       "      <td>NaN</td>\n",
       "      <td>NaN</td>\n",
       "      <td>NaN</td>\n",
       "      <td>NaN</td>\n",
       "    </tr>\n",
       "    <tr>\n",
       "      <th>1</th>\n",
       "      <td>SECTION A.01 - IDENTIFYING DATA</td>\n",
       "      <td>NaN</td>\n",
       "      <td>NaN</td>\n",
       "      <td>NaN</td>\n",
       "      <td>NaN</td>\n",
       "      <td>NaN</td>\n",
       "    </tr>\n",
       "    <tr>\n",
       "      <th>2</th>\n",
       "      <td>100</td>\n",
       "      <td>Unique Individual Identifier \\n(WIOA)</td>\n",
       "      <td>AN 12</td>\n",
       "      <td>Record the unique identification number assign...</td>\n",
       "      <td>XXXXXXXXXXXX</td>\n",
       "      <td>Encrypted</td>\n",
       "    </tr>\n",
       "    <tr>\n",
       "      <th>3</th>\n",
       "      <td>101</td>\n",
       "      <td>State Code of Residence \\n(WIOA)</td>\n",
       "      <td>AN 2</td>\n",
       "      <td>Record the 2-letter FIPS alpha code of the sta...</td>\n",
       "      <td>XX</td>\n",
       "      <td>This Item is blank in public use file to \\npre...</td>\n",
       "    </tr>\n",
       "    <tr>\n",
       "      <th>4</th>\n",
       "      <td>102</td>\n",
       "      <td>County Code of Residence</td>\n",
       "      <td>IN 3</td>\n",
       "      <td>Record the 3-digit FIPS Code of the County of ...</td>\n",
       "      <td>000</td>\n",
       "      <td>This Item is blank in public use file to \\npre...</td>\n",
       "    </tr>\n",
       "  </tbody>\n",
       "</table>\n",
       "</div>"
      ],
      "text/plain": [
       "                     DATA ELEMENT NO.                      DATA ELEMENT NAME  \\\n",
       "0  SECTION A - INDIVIDUAL INFORMATION                                    NaN   \n",
       "1     SECTION A.01 - IDENTIFYING DATA                                    NaN   \n",
       "2                                 100  Unique Individual Identifier \\n(WIOA)   \n",
       "3                                 101       State Code of Residence \\n(WIOA)   \n",
       "4                                 102               County Code of Residence   \n",
       "\n",
       "  DATA TYPE/ \\nFIELD LENGTH  \\\n",
       "0                       NaN   \n",
       "1                       NaN   \n",
       "2                     AN 12   \n",
       "3                      AN 2   \n",
       "4                      IN 3   \n",
       "\n",
       "               DATA ELEMENT DEFINITIONS/INSTRUCTIONS    CODE VALUE  \\\n",
       "0                                                NaN           NaN   \n",
       "1                                                NaN           NaN   \n",
       "2  Record the unique identification number assign...  XXXXXXXXXXXX   \n",
       "3  Record the 2-letter FIPS alpha code of the sta...            XX   \n",
       "4  Record the 3-digit FIPS Code of the County of ...           000   \n",
       "\n",
       "                                               Notes  \n",
       "0                                                NaN  \n",
       "1                                                NaN  \n",
       "2                                          Encrypted  \n",
       "3  This Item is blank in public use file to \\npre...  \n",
       "4  This Item is blank in public use file to \\npre...  "
      ]
     },
     "execution_count": 49,
     "metadata": {},
     "output_type": "execute_result"
    }
   ],
   "source": [
    "field_lookups.head(5)"
   ]
  },
  {
   "cell_type": "code",
   "execution_count": 50,
   "metadata": {},
   "outputs": [
    {
     "data": {
      "text/html": [
       "<div>\n",
       "<style scoped>\n",
       "    .dataframe tbody tr th:only-of-type {\n",
       "        vertical-align: middle;\n",
       "    }\n",
       "\n",
       "    .dataframe tbody tr th {\n",
       "        vertical-align: top;\n",
       "    }\n",
       "\n",
       "    .dataframe thead th {\n",
       "        text-align: right;\n",
       "    }\n",
       "</style>\n",
       "<table border=\"1\" class=\"dataframe\">\n",
       "  <thead>\n",
       "    <tr style=\"text-align: right;\">\n",
       "      <th></th>\n",
       "      <th>unique_individual_identifier_wioa</th>\n",
       "      <th>108a</th>\n",
       "      <th>108b</th>\n",
       "      <th>sex_wioa</th>\n",
       "      <th>individual_with_a_disability_wioa</th>\n",
       "      <th>category_of_disability</th>\n",
       "      <th>individual_with_a_disability_sdda_services</th>\n",
       "      <th>individual_with_a_disability_lsmha_services</th>\n",
       "      <th>individual_with_a_disability_medicaid_hcbs_services</th>\n",
       "      <th>individual_with_a_disability_work_setting</th>\n",
       "      <th>...</th>\n",
       "      <th>a_program_of_study_leading_to_a_baccalaureate_degree</th>\n",
       "      <th>a_program_of_study_leading_to_a_community_college_certificate_of_completion</th>\n",
       "      <th>a_program_of_study_leading_to_a_secondary_school_diploma_or_its_equivalent</th>\n",
       "      <th>a_program_of_study_leading_to_employment</th>\n",
       "      <th>a_program_of_study_leading_to_a_measurable_skills_gain</th>\n",
       "      <th>age_at_participation</th>\n",
       "      <th>program_year_of_exit</th>\n",
       "      <th>served_by_veteran_s_programs</th>\n",
       "      <th>report_quarter</th>\n",
       "      <th>local_board_name</th>\n",
       "    </tr>\n",
       "  </thead>\n",
       "  <tbody>\n",
       "    <tr>\n",
       "      <th>0</th>\n",
       "      <td>0eed4DL9UdF5</td>\n",
       "      <td>13050.0</td>\n",
       "      <td>NaN</td>\n",
       "      <td>1</td>\n",
       "      <td>1</td>\n",
       "      <td>9.0</td>\n",
       "      <td>0.0</td>\n",
       "      <td>0.0</td>\n",
       "      <td>0.0</td>\n",
       "      <td>0.0</td>\n",
       "      <td>...</td>\n",
       "      <td>0.0</td>\n",
       "      <td>0.0</td>\n",
       "      <td>0.0</td>\n",
       "      <td>0.0</td>\n",
       "      <td>0.0</td>\n",
       "      <td>18.0</td>\n",
       "      <td>9999.0</td>\n",
       "      <td>0.0</td>\n",
       "      <td>20230630</td>\n",
       "      <td>Georgia Mountains (Area 2)</td>\n",
       "    </tr>\n",
       "    <tr>\n",
       "      <th>1</th>\n",
       "      <td>0eedffcee0DU</td>\n",
       "      <td>13050.0</td>\n",
       "      <td>NaN</td>\n",
       "      <td>2</td>\n",
       "      <td>0</td>\n",
       "      <td>0.0</td>\n",
       "      <td>NaN</td>\n",
       "      <td>NaN</td>\n",
       "      <td>NaN</td>\n",
       "      <td>NaN</td>\n",
       "      <td>...</td>\n",
       "      <td>0.0</td>\n",
       "      <td>0.0</td>\n",
       "      <td>0.0</td>\n",
       "      <td>0.0</td>\n",
       "      <td>0.0</td>\n",
       "      <td>30.0</td>\n",
       "      <td>2021.0</td>\n",
       "      <td>0.0</td>\n",
       "      <td>20230630</td>\n",
       "      <td>Georgia Mountains (Area 2)</td>\n",
       "    </tr>\n",
       "    <tr>\n",
       "      <th>2</th>\n",
       "      <td>0eeeA4eFUa09</td>\n",
       "      <td>13250.0</td>\n",
       "      <td>13903.0</td>\n",
       "      <td>2</td>\n",
       "      <td>0</td>\n",
       "      <td>0.0</td>\n",
       "      <td>NaN</td>\n",
       "      <td>NaN</td>\n",
       "      <td>NaN</td>\n",
       "      <td>NaN</td>\n",
       "      <td>...</td>\n",
       "      <td>NaN</td>\n",
       "      <td>NaN</td>\n",
       "      <td>NaN</td>\n",
       "      <td>NaN</td>\n",
       "      <td>NaN</td>\n",
       "      <td>38.0</td>\n",
       "      <td>9999.0</td>\n",
       "      <td>0.0</td>\n",
       "      <td>20230630</td>\n",
       "      <td>Fulton County (Area 6)</td>\n",
       "    </tr>\n",
       "    <tr>\n",
       "      <th>3</th>\n",
       "      <td>0eeeUeUcaFDa</td>\n",
       "      <td>13250.0</td>\n",
       "      <td>13903.0</td>\n",
       "      <td>2</td>\n",
       "      <td>0</td>\n",
       "      <td>0.0</td>\n",
       "      <td>NaN</td>\n",
       "      <td>NaN</td>\n",
       "      <td>NaN</td>\n",
       "      <td>NaN</td>\n",
       "      <td>...</td>\n",
       "      <td>NaN</td>\n",
       "      <td>NaN</td>\n",
       "      <td>NaN</td>\n",
       "      <td>NaN</td>\n",
       "      <td>NaN</td>\n",
       "      <td>44.0</td>\n",
       "      <td>9999.0</td>\n",
       "      <td>0.0</td>\n",
       "      <td>20230630</td>\n",
       "      <td>Fulton County (Area 6)</td>\n",
       "    </tr>\n",
       "    <tr>\n",
       "      <th>4</th>\n",
       "      <td>0eefSS0ecabU</td>\n",
       "      <td>13250.0</td>\n",
       "      <td>13903.0</td>\n",
       "      <td>2</td>\n",
       "      <td>9</td>\n",
       "      <td>9.0</td>\n",
       "      <td>NaN</td>\n",
       "      <td>NaN</td>\n",
       "      <td>NaN</td>\n",
       "      <td>NaN</td>\n",
       "      <td>...</td>\n",
       "      <td>NaN</td>\n",
       "      <td>NaN</td>\n",
       "      <td>NaN</td>\n",
       "      <td>NaN</td>\n",
       "      <td>NaN</td>\n",
       "      <td>43.0</td>\n",
       "      <td>2021.0</td>\n",
       "      <td>0.0</td>\n",
       "      <td>20230630</td>\n",
       "      <td>Fulton County (Area 6)</td>\n",
       "    </tr>\n",
       "  </tbody>\n",
       "</table>\n",
       "<p>5 rows × 186 columns</p>\n",
       "</div>"
      ],
      "text/plain": [
       "  unique_individual_identifier_wioa     108a     108b  sex_wioa  \\\n",
       "0                      0eed4DL9UdF5  13050.0      NaN         1   \n",
       "1                      0eedffcee0DU  13050.0      NaN         2   \n",
       "2                      0eeeA4eFUa09  13250.0  13903.0         2   \n",
       "3                      0eeeUeUcaFDa  13250.0  13903.0         2   \n",
       "4                      0eefSS0ecabU  13250.0  13903.0         2   \n",
       "\n",
       "   individual_with_a_disability_wioa  category_of_disability  \\\n",
       "0                                  1                     9.0   \n",
       "1                                  0                     0.0   \n",
       "2                                  0                     0.0   \n",
       "3                                  0                     0.0   \n",
       "4                                  9                     9.0   \n",
       "\n",
       "   individual_with_a_disability_sdda_services  \\\n",
       "0                                         0.0   \n",
       "1                                         NaN   \n",
       "2                                         NaN   \n",
       "3                                         NaN   \n",
       "4                                         NaN   \n",
       "\n",
       "   individual_with_a_disability_lsmha_services  \\\n",
       "0                                          0.0   \n",
       "1                                          NaN   \n",
       "2                                          NaN   \n",
       "3                                          NaN   \n",
       "4                                          NaN   \n",
       "\n",
       "   individual_with_a_disability_medicaid_hcbs_services  \\\n",
       "0                                                0.0     \n",
       "1                                                NaN     \n",
       "2                                                NaN     \n",
       "3                                                NaN     \n",
       "4                                                NaN     \n",
       "\n",
       "   individual_with_a_disability_work_setting  ...  \\\n",
       "0                                        0.0  ...   \n",
       "1                                        NaN  ...   \n",
       "2                                        NaN  ...   \n",
       "3                                        NaN  ...   \n",
       "4                                        NaN  ...   \n",
       "\n",
       "   a_program_of_study_leading_to_a_baccalaureate_degree  \\\n",
       "0                                                0.0      \n",
       "1                                                0.0      \n",
       "2                                                NaN      \n",
       "3                                                NaN      \n",
       "4                                                NaN      \n",
       "\n",
       "   a_program_of_study_leading_to_a_community_college_certificate_of_completion  \\\n",
       "0                                                0.0                             \n",
       "1                                                0.0                             \n",
       "2                                                NaN                             \n",
       "3                                                NaN                             \n",
       "4                                                NaN                             \n",
       "\n",
       "   a_program_of_study_leading_to_a_secondary_school_diploma_or_its_equivalent  \\\n",
       "0                                                0.0                            \n",
       "1                                                0.0                            \n",
       "2                                                NaN                            \n",
       "3                                                NaN                            \n",
       "4                                                NaN                            \n",
       "\n",
       "   a_program_of_study_leading_to_employment  \\\n",
       "0                                       0.0   \n",
       "1                                       0.0   \n",
       "2                                       NaN   \n",
       "3                                       NaN   \n",
       "4                                       NaN   \n",
       "\n",
       "   a_program_of_study_leading_to_a_measurable_skills_gain  \\\n",
       "0                                                0.0        \n",
       "1                                                0.0        \n",
       "2                                                NaN        \n",
       "3                                                NaN        \n",
       "4                                                NaN        \n",
       "\n",
       "   age_at_participation  program_year_of_exit  served_by_veteran_s_programs  \\\n",
       "0                  18.0                9999.0                           0.0   \n",
       "1                  30.0                2021.0                           0.0   \n",
       "2                  38.0                9999.0                           0.0   \n",
       "3                  44.0                9999.0                           0.0   \n",
       "4                  43.0                2021.0                           0.0   \n",
       "\n",
       "   report_quarter            local_board_name  \n",
       "0        20230630  Georgia Mountains (Area 2)  \n",
       "1        20230630  Georgia Mountains (Area 2)  \n",
       "2        20230630      Fulton County (Area 6)  \n",
       "3        20230630      Fulton County (Area 6)  \n",
       "4        20230630      Fulton County (Area 6)  \n",
       "\n",
       "[5 rows x 186 columns]"
      ]
     },
     "execution_count": 50,
     "metadata": {},
     "output_type": "execute_result"
    }
   ],
   "source": [
    "\n",
    "df_cols = [col.replace('PIRL','') for col in  data.columns]\n",
    "columns = [field_lookups_dict.get(col, col) for col in df_cols]\n",
    "data.columns = columns\n",
    "\n",
    "data = kl.clean_column_names(data)\n",
    "\n",
    "data.head(5)"
   ]
  },
  {
   "cell_type": "code",
   "execution_count": 51,
   "metadata": {},
   "outputs": [
    {
     "data": {
      "text/plain": [
       "['unique_individual_identifier_wioa',\n",
       " '108a',\n",
       " '108b',\n",
       " 'sex_wioa',\n",
       " 'individual_with_a_disability_wioa',\n",
       " 'category_of_disability',\n",
       " 'individual_with_a_disability_sdda_services',\n",
       " 'individual_with_a_disability_lsmha_services',\n",
       " 'individual_with_a_disability_medicaid_hcbs_services',\n",
       " 'individual_with_a_disability_work_setting',\n",
       " 'individual_with_a_disability_type_of_customized_employment_services_received',\n",
       " 'individual_with_a_disability_financial_capability',\n",
       " 'ethnicity_hispanic_latino_wioa',\n",
       " 'american_indian_alaska_native_wioa',\n",
       " 'asian_wioa',\n",
       " 'black_african_american_wioa',\n",
       " 'native_hawaiian_other_pacific_islander_wioa',\n",
       " 'white_wioa',\n",
       " 'veteran_status',\n",
       " 'eligible_veteran_status',\n",
       " 'campaign_veteran',\n",
       " 'disabled_veteran',\n",
       " 'date_of_actual_military_separation',\n",
       " 'transitioning_service_member',\n",
       " 'tap_workshop_in_3_prior_years',\n",
       " 'homeless_veterans_reintegration_program_participant',\n",
       " 'other_significant_barrier_to_employment',\n",
       " 'active_duty_military_spouse',\n",
       " 'employment_status_at_program_entry_wioa',\n",
       " 'long_term_unemployed_at_program_entry_wioa',\n",
       " 'occupational_code_of_most_recent_employment_prior_to_participation_if_available',\n",
       " 'industry_code_of_employment_1st_quarter_prior_to_participation',\n",
       " 'industry_code_of_employment_2nd_quarter_prior_to_participation',\n",
       " 'industry_code_of_employment_3rd_quarter_prior_to_participation',\n",
       " 'highest_school_grade_completed_at_program_entry_wioa',\n",
       " 'highest_educational_level_completed_at_program_entry_wioa',\n",
       " 'school_status_at_program_entry_wioa',\n",
       " 'date_of_actual_dislocation',\n",
       " 'migrant_and_seasonal_farmworker_designation_as_defined_at_20_cfr_651_10',\n",
       " 'temporary_assistance_to_needy_families_tanf',\n",
       " 'exhausting_tanf_within_2_years_part_a_title_iv_of_the_social_security_act_at_program_entry_wioa',\n",
       " 'supplemental_security_income_ssi_social_security_disability_insurance_ssdi',\n",
       " 'supplemental_nutrition_assistance_program_snap',\n",
       " 'other_public_assistance_recipient',\n",
       " 'pregnant_or_parenting_youth',\n",
       " 'youth_who_needs_additional_assistance',\n",
       " 'foster_care_youth_status_at_program_entry_wioa',\n",
       " 'homeless_participant,_homeless_children_and_youths,_or_runaway_youth_at_program_entry_wioa',\n",
       " 'ex_offender_status_at_program_entry_wioa',\n",
       " 'low_income_status_at_program_entry_wioa',\n",
       " 'english_language_learner_at_program_entry_wioa',\n",
       " 'basic_skills_deficient_low_levels_of_literacy_at_program_entry',\n",
       " 'cultural_barriers_at_program_entry_wioa',\n",
       " 'single_parent_at_program_entry_wioa',\n",
       " 'displaced_homemaker_at_program_entry_wioa',\n",
       " 'eligible_migrant_and_seasonal_farmworker_status_wioa_sec_167',\n",
       " 'date_of_program_entry_wioa',\n",
       " 'date_of_program_exit_wioa',\n",
       " 'adult_wioa',\n",
       " '904',\n",
       " 'youth_wioa',\n",
       " 'date_of_first_wioa_youth_service',\n",
       " 'recipient_of_incumbent_worker_training',\n",
       " 'rapid_response',\n",
       " 'adult_education_wioa',\n",
       " 'job_corps_wioa',\n",
       " 'veterans_programs',\n",
       " 'vocational_education',\n",
       " 'vocational_rehabilitation_wioa',\n",
       " 'wagner_peyser_employment_service_wioa',\n",
       " 'employment_and_training_services_related_to_snap',\n",
       " 'other_wioa_or_non_wioa_programs',\n",
       " 'other_reasons_for_exit_wioa',\n",
       " 'pay_for_performance',\n",
       " 'registered_apprenticeship_program',\n",
       " 'national_dislocated_worker_grants_dwg',\n",
       " 'accountability_exit_status',\n",
       " 'date_of_first_basic_career_service_self_service_information_only',\n",
       " 'date_of_first_basic_career_service_staff_assisted',\n",
       " 'most_recent_date_received_basic_career_services_self_service_information_only',\n",
       " 'most_recent_date_received_basic_career_services_staff_assisted',\n",
       " 'date_of_most_recent_reportable_individual_contact',\n",
       " 'most_recent_date_accessed_information_only_activities',\n",
       " 'most_recent_date_of_self_service_activities',\n",
       " 'most_recent_date_received_staff_assisted_career_guidance_services',\n",
       " 'most_recent_date_received_workforce_information_services',\n",
       " 'most_recent_date_received_staff_assisted_job_search_activities',\n",
       " 'most_recent_date_referred_to_employment',\n",
       " 'date_of_first_individualized_career_service',\n",
       " 'most_recent_date_received_individualized_career_service',\n",
       " 'date_individual_employment_plan_created',\n",
       " 'type_of_work_experience',\n",
       " 'received_pre_vocational_activities',\n",
       " 'transitional_jobs',\n",
       " 'received_training_wioa',\n",
       " 'eligible_training_provider_name_training_service_hash_1_wioa',\n",
       " 'date_entered_training_hash_1_wioa',\n",
       " 'type_of_training_service_hash_1_wioa',\n",
       " 'eligible_training_provider_cip_code_wioa',\n",
       " 'occupational_skills_training_code_hash_1',\n",
       " 'training_completed_hash_1',\n",
       " 'date_completed,_or_withdrew_from,_training_hash_1',\n",
       " 'established_individual_training_account_ita',\n",
       " 'pell_grant_recipient',\n",
       " 'training_povided_virtual_online',\n",
       " 'participated_in_postsecondary_education_during_program_participation_wioa',\n",
       " 'received_training_from_program_s_operated_by_the_private_sector',\n",
       " 'employed_in_1st_quarter_after_exit_quarter_wioa',\n",
       " 'type_of_employment_match_1st_quarter_after_exit_quarter_wioa',\n",
       " 'employed_in_2nd_quarter_after_exit_quarter_wioa',\n",
       " 'type_of_employment_match_2nd_quarter_after_exit_quarter_wioa',\n",
       " 'employed_in_3rd_quarter_after_exit_quarter_wioa',\n",
       " 'type_of_employment_match_3rd_quarter_after_exit_quarter_wioa',\n",
       " 'employed_in_4th_quarter_after_exit_quarter_wioa',\n",
       " 'type_of_employment_match_4th_quarter_after_exit_quarter_wioa',\n",
       " 'industry_code_of_employment_1st_quarter_after_exit_quarter',\n",
       " 'industry_code_of_employment_2nd_quarter_after_exit_quarter',\n",
       " 'industry_code_of_employment_3rd_quarter_after_exit_quarter',\n",
       " 'industry_code_of_employment_4th_quarter_after_exit_quarter',\n",
       " 'retention_with_the_same_employer_in_the_2nd_quarter_and_the_4th_quarter_wioa',\n",
       " 'wages_3rd_quarter_prior_to_participation_quarter',\n",
       " 'wages_2nd_quarter_prior_to_participation_quarter',\n",
       " 'wages_1st_quarter_prior_to_participation_quarter',\n",
       " 'wages_1st_quarter_after_exit_quarter_wioa',\n",
       " 'wages_2nd_quarter_after_exit_quarter_wioa',\n",
       " 'wages_3rd_quarter_after_exit_quarter_wioa',\n",
       " 'wages_4th_quarter_after_exit_quarter_wioa',\n",
       " 'type_of_recognized_credential_wioa',\n",
       " 'date_attained_recognized_credential_wioa',\n",
       " 'type_of_recognized_credential_hash_2_wioa',\n",
       " 'date_attained_recognized_credential_hash_2_wioa',\n",
       " 'type_of_recognized_credential_hash_3_wioa',\n",
       " 'date_attained_recognized_credential_hash_3_wioa',\n",
       " 'date_of_most_recent_measurable_skill_gains_educational_functioning_level_efl_wioa',\n",
       " 'date_of_most_recent_measurable_skill_gains_postsecondary_transcript_report_card_wioa',\n",
       " 'date_of_most_recent_measurable_skill_gains_secondary_transcript_report_card_wioa',\n",
       " 'date_of_most_recent_measurable_skill_gains_training_milestone_wioa',\n",
       " 'date_of_most_recent_measurable_skill_gains_skills_progression_wioa',\n",
       " 'date_enrolled_during_program_participation_in_an_education_or_training_program_leading_to_a_recognized_postsecondary_credential_or_employment_wioa',\n",
       " 'school_status_at_exit',\n",
       " 'date_completed,_during_program_participation,_an_education_or_training_program_leading_to_a_recognized_postsecondary_credential_or_employment_wioa',\n",
       " 'date_attained_graduate_post_graduate_degree_wioa',\n",
       " 'state_postal_abbreviation',\n",
       " 'served_by_an_adult_funding_stream',\n",
       " 'served_by_a_dislocated_worker_funding_stream',\n",
       " 'served_by_a_youth_funding_stream',\n",
       " 'served_by_a_dislocated_worker_grant',\n",
       " 'received_services_under_the_wagner_peyser_act',\n",
       " 'reportable_individual',\n",
       " 'wioa_measurable_skill_gains',\n",
       " 'achievement_of_at_least_one_educational_functioning_level_of_a_participant_in_an_education_program_that_provides_instruction_below_the_post_secondary_level',\n",
       " 'attainment_of_a_high_school_diploma_or_its_equivalent',\n",
       " 'transcript_or_report_card_for_either_secondary_or_post_secondary_education_that_shows_a_participant_is_achieving_the_state_unit_s_academic_standards',\n",
       " 'satisfactory_or_better_progress_report,_towards_established_milestones_from_an_employer_training_provider_who_is_providing_training',\n",
       " 'successful_completion_of_an_exam_that_is_required_for_a_particular_occupation,_progress_in_attaining_technical_or_occupational_skills_as_evidenced_by_trade_related_benchmarks_such_as_knowledge_based_exams',\n",
       " 'wioa_employment_rate_quarter_2',\n",
       " 'wioa_youth_employment_rate_quarter_2',\n",
       " 'wioa_median_earnings_quarter_2',\n",
       " 'wioa_youth_median_earnings_quarter_2',\n",
       " 'wioa_employment_rate_quarter_4',\n",
       " 'wioa_youth_employment_rate_quarter_4',\n",
       " 'wioa_credential_rate',\n",
       " 'race_ethnicity_single_response',\n",
       " 'no_disability',\n",
       " 'physical_chronic_health_condition',\n",
       " 'physical_mobility_impairment',\n",
       " 'mental_or_psychiatric_disability',\n",
       " 'vision_related_disability',\n",
       " 'hearing_related_disability',\n",
       " 'learning_disability',\n",
       " 'cognitive_intellectual_disability',\n",
       " 'participant_did_not_disclose_type_of_disability',\n",
       " 'a_program_of_study_leading_to_an_industry_recognized_certificate_or_certification',\n",
       " 'a_program_of_study_leading_to_a_certificate_of_completion_of_an_apprenticeship',\n",
       " 'a_program_of_study_leading_to_a_license_recognized_by_the_state_involved_or_the_federal_government',\n",
       " 'a_program_of_study_leading_to_an_associate_degree',\n",
       " 'a_program_of_study_leading_to_a_baccalaureate_degree',\n",
       " 'a_program_of_study_leading_to_a_community_college_certificate_of_completion',\n",
       " 'a_program_of_study_leading_to_a_secondary_school_diploma_or_its_equivalent',\n",
       " 'a_program_of_study_leading_to_employment',\n",
       " 'a_program_of_study_leading_to_a_measurable_skills_gain',\n",
       " 'age_at_participation',\n",
       " 'program_year_of_exit',\n",
       " 'served_by_veteran_s_programs',\n",
       " 'report_quarter',\n",
       " 'local_board_name']"
      ]
     },
     "execution_count": 51,
     "metadata": {},
     "output_type": "execute_result"
    }
   ],
   "source": [
    "list(data.columns)"
   ]
  },
  {
   "cell_type": "markdown",
   "metadata": {},
   "source": [
    "### Null Value Checks\n",
    "\n",
    "probably need to be handled. Likely with zero fill. "
   ]
  },
  {
   "cell_type": "code",
   "execution_count": 52,
   "metadata": {},
   "outputs": [],
   "source": [
    "# change setting\n",
    "pd.set_option('display.max_rows', None)  # Show all rows\n"
   ]
  },
  {
   "cell_type": "code",
   "execution_count": 53,
   "metadata": {},
   "outputs": [],
   "source": [
    "# Demographic & Background Information\n",
    "demographics = [\n",
    "    \"foster_care_youth_status_at_program_entry_wioa\",\n",
    "    \"homeless_participant,_homeless_children_and_youths,_or_runaway_youth_at_program_entry_wioa\",\n",
    "    \"ex_offender_status_at_program_entry_wioa\",\n",
    "    \"low_income_status_at_program_entry_wioa\",\n",
    "    \"english_language_learner_at_program_entry_wioa\",\n",
    "    \"basic_skills_deficient_low_levels_of_literacy_at_program_entry\",\n",
    "    \"cultural_barriers_at_program_entry_wioa\",\n",
    "    \"single_parent_at_program_entry_wioa\",\n",
    "    \"displaced_homemaker_at_program_entry_wioa\",\n",
    "    \"individual_with_a_disability_wioa\",\n",
    "    \"category_of_disability\"\n",
    "]\n",
    "\n",
    "# Education & Training Information\n",
    "education_training = [\n",
    "    \"highest_educational_level_completed_at_program_entry_wioa\",\n",
    "    \"school_status_at_program_entry_wioa\",\n",
    "    \"adult_education_wioa\",\n",
    "    \"job_corps_wioa\",\n",
    "    \"vocational_education\",\n",
    "    \"vocational_rehabilitation_wioa\",\n",
    "    \"eligible_training_provider_cip_code_wioa\",\n",
    "    \"occupational_skills_training_code_hash_1\",\n",
    "    \"received_training_wioa\",\n",
    "    \"type_of_work_experience\",\n",
    "    \"type_of_recognized_credential_wioa\",\n",
    "    \"date_attained_recognized_credential_wioa\"\n",
    "]\n",
    "\n",
    "# Employment & Industry Information (Pre-Participation)\n",
    "employment_pre = [\n",
    "    \"employment_status_at_program_entry_wioa\",\n",
    "    \"long_term_unemployed_at_program_entry_wioa\",\n",
    "    \"occupational_code_of_most_recent_employment_prior_to_participation_if_available\",\n",
    "    \"industry_code_of_employment_1st_quarter_prior_to_participation\",\n",
    "    \"industry_code_of_employment_2nd_quarter_prior_to_participation\",\n",
    "    \"industry_code_of_employment_3rd_quarter_prior_to_participation\"\n",
    "]\n",
    "\n",
    "# Employment & Industry Information (Post-Exit)\n",
    "employment_post = [\n",
    "    \"type_of_employment_match_1st_quarter_after_exit_quarter_wioa\",\n",
    "    \"type_of_employment_match_2nd_quarter_after_exit_quarter_wioa\",\n",
    "    \"type_of_employment_match_3rd_quarter_after_exit_quarter_wioa\",\n",
    "    \"type_of_employment_match_4th_quarter_after_exit_quarter_wioa\",\n",
    "    \"industry_code_of_employment_1st_quarter_after_exit_quarter\",\n",
    "    \"industry_code_of_employment_2nd_quarter_after_exit_quarter\",\n",
    "    \"industry_code_of_employment_3rd_quarter_after_exit_quarter\",\n",
    "    \"industry_code_of_employment_4th_quarter_after_exit_quarter\",\n",
    "    \"retention_with_the_same_employer_in_the_2nd_quarter_and_the_4th_quarter_wioa\"\n",
    "]\n",
    "\n",
    "# Wages & Earnings\n",
    "wages_earnings = [\n",
    "    \"wages_3rd_quarter_prior_to_participation_quarter\",\n",
    "    \"wages_2nd_quarter_prior_to_participation_quarter\",\n",
    "    \"wages_1st_quarter_prior_to_participation_quarter\",\n",
    "    \"wages_1st_quarter_after_exit_quarter_wioa\",\n",
    "    \"wages_2nd_quarter_after_exit_quarter_wioa\",\n",
    "    \"wages_3rd_quarter_after_exit_quarter_wioa\",\n",
    "    \"wages_4th_quarter_after_exit_quarter_wioa\",\n",
    "    \"wioa_median_earnings_quarter_2\"\n",
    "]\n",
    "\n",
    "# Program Participation & Services Received\n",
    "program_participation = [\n",
    "    \"recipient_of_incumbent_worker_training\",\n",
    "    \"rapid_response\",\n",
    "    \"wagner_peyser_employment_service_wioa\",\n",
    "    \"employment_and_training_services_related_to_snap\",\n",
    "    \"registered_apprenticeship_program\",\n",
    "    \"national_dislocated_worker_grants_dwg\",\n",
    "    \"veterans_programs\"\n",
    "]\n",
    "\n",
    "# Program Entry & Exit Dates\n",
    "program_dates = [\n",
    "    \"date_of_program_entry_wioa\",\n",
    "    \"date_of_program_exit_wioa\"\n",
    "]\n",
    "\n",
    "# Career Services & Participation History\n",
    "career_services = [\n",
    "    \"most_recent_date_of_self_service_activities\",\n",
    "    \"most_recent_date_accessed_information_only_activities\",\n",
    "    \"date_of_most_recent_reportable_individual_contact\",\n",
    "    \"most_recent_date_received_basic_career_services_staff_assisted\",\n",
    "    \"most_recent_date_received_basic_career_services_self_service_information_only\",\n",
    "    \"date_of_first_basic_career_service_staff_assisted\",\n",
    "    \"date_of_first_basic_career_service_self_service_information_only\"\n",
    "]\n",
    "\n",
    "# Miscellaneous\n",
    "miscellaneous = [\"age_at_participation\"]\n"
   ]
  },
  {
   "cell_type": "code",
   "execution_count": 54,
   "metadata": {},
   "outputs": [
    {
     "name": "stdout",
     "output_type": "stream",
     "text": [
      "(370930, 186)\n",
      "(370930, 63)\n"
     ]
    }
   ],
   "source": [
    "print(data.shape)\n",
    "all_columns = demographics + education_training + employment_pre + employment_post + wages_earnings + program_participation + program_dates + career_services + miscellaneous\n",
    "data = data[all_columns]\n",
    "print(data.shape)"
   ]
  },
  {
   "cell_type": "code",
   "execution_count": 55,
   "metadata": {},
   "outputs": [],
   "source": [
    "naics_lookup = pd.read_csv('reference_data/2022_NAICS_Structure.csv')\n",
    "naics_lookup = naics_lookup.iloc[2:, 1:3]\n",
    "naics_lookup_dict = dict(zip(naics_lookup['Unnamed: 1'].astype(str), naics_lookup['Unnamed: 2']))\n",
    "\n",
    "cip_codes = pd.read_csv('reference_data/CipCode2010.csv')\n",
    "cip_codes['CIPCode'] = cip_codes['CIPCode'].astype(str).replace('.','')\n",
    "cip_codes_dict = dict(zip(cip_codes['CIPCode'], cip_codes['CIPTitle']))\n",
    "\n",
    "occupational_codes = pd.read_csv('reference_data/occupation_code_ref.csv')\n",
    "occupational_codes['O*NET-SOC Code'] = occupational_codes['O*NET-SOC Code'].astype(str).replace(r'[.,-]','', regex=True)\n",
    "occupational_codes_dict = dict(zip(occupational_codes['O*NET-SOC Code'], occupational_codes['Title']))\n"
   ]
  },
  {
   "cell_type": "code",
   "execution_count": 56,
   "metadata": {},
   "outputs": [
    {
     "name": "stdout",
     "output_type": "stream",
     "text": [
      "['20230626' '20210508' '0' ... '20190103' '20191014' '20220212']\n",
      "['20230605' '20190724' '20230327' ... '20230204' '20181201' '20150325']\n",
      "['0' '20210802' '20220314' '20221012' '20210729' '20210617' '20221215'\n",
      " '20220922' '20220623' '20210301' '20210813' '20210630' '20210203'\n",
      " '20210829' '20220307' '20220902' '20210705' '20230328' '20220302'\n",
      " '20220131' '20220503' '20220722' '20221006' '20220316' '20230207'\n",
      " '20211230' '20220901' '20221229' '20210604' '20211109' '20220322'\n",
      " '20220215' '20220113' '20220928' '20210712' '20220915' '20220526'\n",
      " '20210715' '20211215' '20220825' '20211217' '20220520' '20220919'\n",
      " '20220111' '20210610' '20220802' '20211006' '20220223' '20221014'\n",
      " '20210626' '20211122' '20220308' '20220513' '20230109' '20210924'\n",
      " '20221108' '20221228' '20230112' '20211008' '20210325' '20230315'\n",
      " '20210330' '20220524' '20210629' '20210902' '20210513' '20220511'\n",
      " '20221020' '20220708' '20230329' '20211013' '20220114' '20220701'\n",
      " '20210922' '20220824' '20221230' '20230130' '20210208' '20210723'\n",
      " '20220124' '20230203' '20210111' '20210730' '20211221' '20220531'\n",
      " '20210701' '20211028' '20210522' '20210721' '20221027' '20220803'\n",
      " '20220506' '20210305' '20221231' '20221221' '20220106' '20220407'\n",
      " '20220413' '20211203' '20220819' '20211130' '20221101' '20220728'\n",
      " '20230322' '20210706' '20220713' '20230318' '20211231' '20221011'\n",
      " '20210528' '20210216' '20230331' '20220208' '20210209' '20221209'\n",
      " '20210517' '20220613' '20221214' '20210512' '20220718' '20210611'\n",
      " '20210223' '20230201' '20220707' '20230206' '20230307' '20220323'\n",
      " '20221130' '20210224' '20210831' '20210427' '20210708' '20210204'\n",
      " '20220125' '20220712' '20210624' '20220324' '20230125' '20210726'\n",
      " '20220418' '20221026' '20210910' '20211216' '20230214' '20221222'\n",
      " '20221121' '20211101' '20220321' '20210202' '20220617' '20210825'\n",
      " '20210326' '20221114' '20221107' '20210728' '20220909' '20210401'\n",
      " '20210113' '20210920' '20210112' '20210716' '20210719' '20220225'\n",
      " '20210628' '20221003' '20221123' '20230213' '20210201' '20211116'\n",
      " '20220525' '20211119' '20220504' '20220411' '20210506' '20210310'\n",
      " '20220927' '20211020' '20220711' '20210331' '20220104' '20210519'\n",
      " '20210405' '20210614' '20211102' '20210901' '20210819' '20210526'\n",
      " '20220127' '20230220' '20220721' '20210316' '20211206' '20210923'\n",
      " '20210205' '20220110' '20220614' '20210907' '20220630' '20220331'\n",
      " '20210618' '20211021' '20220502' '20221018' '20210409' '20210419'\n",
      " '20210621' '20220706' '20210623' '20230217' '20220216' '20210104'\n",
      " '20211201' '20221128' '20210811' '20230327' '20210518' '20210911'\n",
      " '20220830' '20210915' '20220512' '20220627' '20220406' '20210319'\n",
      " '20211129' '20211007' '20220328' '20220725' '20220119' '20210622'\n",
      " '20210927' '20220816' '20220607' '20221109' '20220105' '20220510'\n",
      " '20230314' '20220912' '20211202' '20210615' '20220330' '20220228'\n",
      " '20220420' '20220412' '20221115' '20230323' '20210803' '20221104'\n",
      " '20221207' '20221116' '20230227' '20210119' '20220823' '20211208'\n",
      " '20230123' '20210308' '20220801' '20211029' '20210105' '20210408'\n",
      " '20221007' '20220107' '20220419' '20220201' '20230202' '20220930'\n",
      " '20220315' '20210106' '20221117' '20210309' '20211011' '20210329'\n",
      " '20211110' '20211214' '20230208' '20210118' '20230209' '20210511'\n",
      " '20220926' '20230111' '20210707' '20210507' '20210809' '20221202'\n",
      " '20210109' '20211124' '20210711' '20210226' '20220729' '20220908'\n",
      " '20210121' '20211117' '20220610' '20210127' '20221001' '20220301'\n",
      " '20210317' '20210627' '20230330' '20220715' '20210407' '20210608'\n",
      " '20230413' '20210714' '20221024' '20220210' '20230313' '20220629'\n",
      " '20210503' '20211118' '20210816' '20220727' '20210128' '20210412'\n",
      " '20220214' '20220325' '20220829' '20220509' '20221028' '20211123'\n",
      " '20220621' '20210524' '20210917' '20210609' '20210909' '20230113'\n",
      " '20210916' '20210420' '20210820' '20221031' '20230127' '20230101'\n",
      " '20211104' '20221010' '20210414' '20220427' '20220906' '20230309'\n",
      " '20211105' '20220126' '20220401' '20211025' '20210215' '20220818'\n",
      " '20210702' '20211222' '20230106' '20221219' '20220812' '20220624'\n",
      " '20210810' '20220615' '20211220' '20210429' '20220726' '20220329'\n",
      " '20220923' '20221212' '20210914' '20210720' '20221208' '20220103'\n",
      " '20230216' '20210602' '20210510' '20220527' '20210603' '20220505'\n",
      " '20220603' '20230117' '20221025' '20210806' '20210913' '20220221'\n",
      " '20210928' '20230110' '20220913' '20211212' '20210217' '20221110'\n",
      " '20220608' '20220811' '20211210' '20220808' '20220809' '20230119'\n",
      " '20210107' '20220805' '20221019' '20230104' '20230427' '20221122'\n",
      " '20221103' '20221227' '20210727' '20220602' '20210211' '20211005'\n",
      " '20220920' '20221129' '20220203' '20220616' '20210114' '20210416'\n",
      " '20220408' '20221205' '20220804' '20210925' '20210304' '20220317'\n",
      " '20211103' '20230302' '20230120' '20210424' '20210612' '20230321'\n",
      " '20220622' '20210417' '20210318' '20210616' '20210428' '20211026'\n",
      " '20210514' '20230303' '20230105' '20210827' '20210930' '20210126'\n",
      " '20210812' '20230131' '20210722' '20220222' '20210421' '20211016'\n",
      " '20220817' '20220628' '20210713' '20210805' '20220118' '20210709'\n",
      " '20210206' '20211019' '20210125' '20210620' '20230301' '20220404'\n",
      " '20230320' '20221201' '20210823' '20221013' '20211015' '20211022'\n",
      " '20210219' '20210521' '20221102' '20221220' '20210212' '20220204'\n",
      " '20220303' '20210324' '20220421' '20210625' '20220311' '20220518'\n",
      " '20220714' '20210525' '20210115' '20210313' '20221118' '20221004'\n",
      " '20220112' '20210120' '20220207' '20211012' '20220720' '20210311'\n",
      " '20220929' '20220209' '20230306' '20210814' '20220609' '20230417'\n",
      " '20210607' '20220519' '20210430' '20211207' '20221021' '20230228'\n",
      " '20220304' '20210426' '20230324' '20210817' '20220202' '20210406'\n",
      " '20210929' '20220226' '20220731' '20210410' '20210222' '20230222'\n",
      " '20220523' '20220425' '20220831' '20230224' '20210830' '20210824'\n",
      " '20211225' '20220601' '20230311' '20230118' '20220309' '20221017'\n",
      " '20221206' '20230508' '20230210' '20210908' '20220914' '20210703'\n",
      " '20221216' '20230103' '20210826' '20210323' '20211209' '20230221'\n",
      " '20220422' '20230215' '20210818' '20211227' '20220814' '20210218'\n",
      " '20220916' '20210210' '20210312' '20230126' '20230418' '20211027'\n",
      " '20211228' '20211014' '20210129' '20211229' '20210302' '20210505'\n",
      " '20220705' '20230310' '20220822' '20220211' '20220810' '20211001'\n",
      " '20220120' '20220921' '20220426' '20220318' '20211004' '20210520'\n",
      " '20220101' '20210225' '20220907' '20210527' '20220516' '20220405'\n",
      " '20210804' '20211108' '20211023' '20220517' '20220719' '20221213'\n",
      " '20210801' '20230316' '20220428' '20210508' '20210704' '20210315'\n",
      " '20210422' '20210828' '20220310' '20220606' '20210423' '20230308'\n",
      " '20210921' '20220709' '20220815' '20210904' '20230223' '20220522'\n",
      " '20211111' '20210515' '20210303' '20210504' '20210710' '20211018'\n",
      " '20220218' '20220121' '20210123' '20210101' '20220409' '20210322'\n",
      " '20220224' '20210531' '20220205' '20210906' '20230124' '20210413'\n",
      " '20230317' '20211002' '20210220' '20211213' '20220312' '20220414'\n",
      " '20210501' '20210108' '20210122' '20220429' '20210821' '20211113'\n",
      " '20210601' '20220217' '20221119' '20210808' '20220508' '20211226'\n",
      " '20221022' '20220128' '20210529' '20221005' '20210415' '20210822'\n",
      " '20220826' '20211112' '20210227' '20220813' '20210403' '20220129'\n",
      " '20210320' '20211106' '20220903' '20221124' '20211115' '20220501'\n",
      " '20220620' '20220320' '20211010' '20220924' '20220327' '20230509'\n",
      " '20220604' '20230211' '20210102' '20210724' '20230212' '20210402'\n",
      " '20210509' '20230121' '20221111' '20210807' '20220821' '20210725'\n",
      " '20230511' '20210731' '20210903' '20230403' '20220530' '20210815'\n",
      " '20230510' '20210314' '20210213' '20220403' '20210523' '20220430'\n",
      " '20210117' '20220529' '20220115' '20210717' '20211009' '20220402'\n",
      " '20210131' '20220123' '20210912' '20230225' '20210404' '20210516'\n",
      " '20210116' '20221105' '20230505' '20210306' '20230430' '20230420'\n",
      " '20210328' '20220424' '20230107' '20211120' '20221223' '20230404'\n",
      " '20210718' '20220212' '20210207' '20220108' '20230414' '20220514'\n",
      " '20220313' '20220507' '20230516' '20211125' '20211218' '20220117'\n",
      " '20220605' '20210130' '20220206' '20230504' '20220326' '20230623'\n",
      " '20220306' '20211017' '20220528' '20211031' '20220917' '20230410'\n",
      " '20230426' '20230421' '20220122' '20230627' '20220618' '20210221'\n",
      " '20220905' '20230326' '20221203' '20220702' '20220911' '20210605'\n",
      " '20220820' '20220219' '20210613' '20210418' '20230502' '20211127'\n",
      " '20230512' '20221112' '20221210' '20211211' '20220416' '20210214'\n",
      " '20220910' '20230128' '20220116' '20210124' '20221225' '20230419'\n",
      " '20230102' '20230620' '20230108' '20230411' '20210530' '20211030'\n",
      " '20230425' '20221015' '20221126' '20220130' '20230424' '20221113'\n",
      " '20210110' '20230405' '20221023' '20220417' '20230428' '20221204'\n",
      " '20230501' '20230218' '20220415' '20210307' '20210606' '20230401'\n",
      " '20220827' '20230412' '20220305' '20220716' '20220227' '20211219'\n",
      " '20220423' '20230114' '20210321' '20210228' '20220806' '20221029'\n",
      " '20220625' '20220102' '20220213' '20230506' '20220730' '20220724'\n",
      " '20211128' '20210905' '20210926' '20221211' '20230325' '20221120'\n",
      " '20230503' '20221125' '20221030' '20211204' '20230612' '20220515'\n",
      " '20220626' '20221016' '20230116' '20220723' '20230226' '20220612'\n",
      " '20210918' '20211121' '20230406' '20230518' '20230525' '20211024'\n",
      " '20210919' '20210502' '20210327' '20230416' '20230515' '20220220'\n",
      " '20221008' '20210103' '20230630' '20230219' '20230408' '20220704'\n",
      " '20211107' '20220611' '20220619' '20230115' '20230312' '20230415'\n",
      " '20230304' '20221127' '20230305' '20220710' '20220521' '20230319'\n",
      " '20210619' '20230422' '20221226' '20221106' '20220319' '20210411'\n",
      " '20221218' '20211223' '20230606']\n",
      "['0' '20210521' '20230612' ... '20180409' '20171218' '20180627']\n",
      "['0' '20210521' '20230404' ... '20180415' '20200510' '20170306']\n",
      "['20230531' '20190620' '20230612' ... '20190413' '20150325' '20230712']\n",
      "['0' '20210802' '20230404' ... '20200716' '20180713' '20200721']\n",
      "['20230602' '20210521' '20230612' ... '20160201' '20180701' '20171130']\n",
      "['0' '20190724' '20230327' ... '20181201' '20150325' '20171130']\n",
      "['20230531' '20190617' '20230321' ... '20170827' '20151028' '20190615']\n"
     ]
    }
   ],
   "source": [
    "\n",
    "for col in all_columns:\n",
    "    data[col] = data[col].fillna('0').astype(int).astype(str)\n",
    "\n",
    "    # 9 means the data is not applicable to the specified row. so we can replace with 0.\n",
    "    if len(set(data[col].unique()) - (set(['0','1','9']))) == 0:\n",
    "        data[col] = data[col].str.replace('9', '0')\n",
    "        data[col] = pd.to_numeric(data[col], errors='coerce')  # Convert non-numeric to NaN\n",
    "        data[col] = data[col].fillna(0).astype(int)\n",
    "    \n",
    "    elif len(set(data[col].unique()) - (set(['0','1']))) == 0:\n",
    "        data[col] = pd.to_numeric(data[col], errors='coerce')\n",
    "        \n",
    "    elif 'date' in col:\n",
    "        print(data[col].unique())\n",
    "        data[col] = pd.to_datetime(data[col], format='%Y%m%d', errors='coerce')\n",
    "        \n",
    "    elif 'wages' in col or 'earnings' in col:\n",
    "        data[col] = pd.to_numeric(data[col], errors='coerce')\n",
    "    \n",
    "    elif 'industry_code' in col:\n",
    "        data[col] = data[col].map(naics_lookup_dict)\n",
    "\n",
    "    elif 'age' in col:\n",
    "        data[col] = pd.to_numeric(data[col], errors='coerce')\n",
    "        \n",
    "    # 2 is the same as 1, just 'verified with addtl info' and 9 is the same as 0\n",
    "    elif len(set(data[col].unique()) - (set(['0','1','2','9']))) == 0 or len(set(data[col].unique()) - (set(['0','1','2']))) == 0 or len(set(data[col].unique()) - (set(['0','1','4']))) == 0:\n",
    "        data[col] = data[col].str.replace('9', '0')\n",
    "        data[col] = data[col].str.replace('2', '1')\n",
    "        data[col] = data[col].str.replace('4', '1') # data entry error here\n",
    "        data[col] = pd.to_numeric(data[col], errors='coerce')\n",
    "   \n",
    "    elif col == 'type_of_work_experience':\n",
    "        work_experience_dict = {\n",
    "            '1': \"summer employment/internship\",\n",
    "            '2': \"non-summer internship/employment\",\n",
    "            '3': \"pre-apprenticeship program.\",\n",
    "            '4': \"job shadowing.\",\n",
    "            '5': \"on-the-job training\",\n",
    "            '6': \"transitional job\",\n",
    "            '7': \"other work experience.\",\n",
    "            '0': \"no work experience.\",\n",
    "            \"\": \"This data element does not apply to the participant.\"\n",
    "        }\n",
    "        data[col] = data[col].map(work_experience_dict)\n",
    "\n",
    "    elif col == 'type_of_recognized_credential_wioa':\n",
    "        education_credentials_dict = {\n",
    "            \"1\": \"Secondary School Diploma or Equivalency\",\n",
    "            \"2\": \"AA or AS Diploma/Degree\",\n",
    "            \"3\": \"BA or BS Diploma/Degree\",\n",
    "            \"4\": \"Occupational Licensure\",\n",
    "            \"5\": \"Occupational Certificate\",\n",
    "            \"6\": \"Occupational Certification\",\n",
    "            \"7\": \"Other Recognized Diploma, Degree, or Certificate\",\n",
    "            \"0\": \"No Recognized Credential\"\n",
    "        }\n",
    "        data[col] = data[col].map(education_credentials_dict)\n",
    "\n",
    "    elif col == 'employment_status_at_program_entry_wioa':\n",
    "        employment_status_dict = {\n",
    "            \"1\": \"Employed\",\n",
    "            \"2\": \"Employed, but Received Notice of Termination of Employment or Military Separation is Pending\",\n",
    "            \"3\": \"Not in Labor Force\",\n",
    "            \"0\": \"Unemployed\"\n",
    "        }\n",
    "        data[col] = data[col].map(employment_status_dict)\n",
    "\n",
    "    elif col == 'category_of_disability':\n",
    "        disability_status_dict = {\n",
    "            \"1\": \"Physical/Chronic Health Condition\",\n",
    "            \"2\": \"Physical/Mobility Impairment\",\n",
    "            \"3\": \"Mental or Psychiatric Disability\",\n",
    "            \"4\": \"Vision-related Disability\",\n",
    "            \"5\": \"Hearing-related Disability\",\n",
    "            \"6\": \"Learning Disability\",\n",
    "            \"7\": \"Cognitive/Intellectual Disability\",\n",
    "            \"9\": \"Participant did not disclose type of disability\",\n",
    "            \"0\": \"No Disability\"\n",
    "        }\n",
    "\n",
    "        data[col] = data[col].map(disability_status_dict)\n",
    "\n",
    "    elif col == 'highest_educational_level_completed_at_program_entry_wioa':\n",
    "        educational_attainment_dict = {\n",
    "            \"1\": \"Attained secondary school diploma\",\n",
    "            \"2\": \"Attained a secondary school equivalency\",\n",
    "            \"3\": \"Received a certificate of attendance/completion from an Individualized Education Program (IEP)\",\n",
    "            \"4\": \"Completed one or more years of postsecondary education\",\n",
    "            \"5\": \"Attained a postsecondary technical or vocational certificate (non-degree)\",\n",
    "            \"6\": \"Attained an Associate's degree\",\n",
    "            \"7\": \"Attained a Bachelor's degree\",\n",
    "            \"8\": \"Attained a degree beyond a Bachelor's degree\",\n",
    "            \"0\": \"No educational level completed\"\n",
    "        }\n",
    "\n",
    "        data[col] = data[col].map(educational_attainment_dict)\n",
    "\n",
    "    elif col == 'school_status_at_program_entry_wioa':\n",
    "        school_attendance_status_dict = {\n",
    "            \"1\": \"In-school, secondary school or less\",\n",
    "            \"2\": \"In-school, Alternative School\",\n",
    "            \"3\": \"In-school, Postsecondary school\",\n",
    "            \"4\": \"Not attending school or Secondary School Dropout\",\n",
    "            \"5\": \"Not attending school; secondary school graduate or has a recognized equivalent\",\n",
    "            \"6\": \"Not attending school; within age of compulsory school attendance\"\n",
    "        }\n",
    "\n",
    "        data[col] = data[col].map(school_attendance_status_dict)\n",
    "\n",
    "    elif col == 'eligible_training_provider_cip_code_wioa':\n",
    "        \n",
    "        data[col] = data[col].map(cip_codes_dict)\n",
    "\n",
    "    elif col == 'occupational_code_of_most_recent_employment_prior_to_participation_if_available' or col == 'occupational_skills_training_code_hash_1':\n",
    "\n",
    "        data[col] = data[col].map(occupational_codes_dict)\n",
    "\n"
   ]
  },
  {
   "cell_type": "markdown",
   "metadata": {},
   "source": [
    "#### AB column dive in"
   ]
  },
  {
   "cell_type": "code",
   "execution_count": 57,
   "metadata": {},
   "outputs": [],
   "source": [
    "columns_for_ab = [\n",
    "    # Job Placement Rate\n",
    "    \"type_of_employment_match_1st_quarter_after_exit_quarter_wioa\",\n",
    "    \"type_of_employment_match_2nd_quarter_after_exit_quarter_wioa\",\n",
    "    \"type_of_employment_match_3rd_quarter_after_exit_quarter_wioa\",\n",
    "    \"type_of_employment_match_4th_quarter_after_exit_quarter_wioa\",\n",
    "    \"retention_with_the_same_employer_in_the_2nd_quarter_and_the_4th_quarter_wioa\",\n",
    "    \"industry_code_of_employment_1st_quarter_after_exit_quarter\",\n",
    "    \"industry_code_of_employment_2nd_quarter_after_exit_quarter\",\n",
    "    \"industry_code_of_employment_3rd_quarter_after_exit_quarter\",\n",
    "    \"industry_code_of_employment_4th_quarter_after_exit_quarter\",\n",
    "    \"date_of_program_exit_wioa\"\n",
    "]"
   ]
  },
  {
   "cell_type": "markdown",
   "metadata": {},
   "source": [
    "### consolidating industries into latest industry worked"
   ]
  },
  {
   "cell_type": "code",
   "execution_count": 58,
   "metadata": {},
   "outputs": [
    {
     "name": "stderr",
     "output_type": "stream",
     "text": [
      "/var/folders/d4/rcb0hfcs0bzgr7z0mw72lc_w0000gn/T/ipykernel_44399/3445616446.py:10: FutureWarning:\n",
      "\n",
      "Downcasting object dtype arrays on .fillna, .ffill, .bfill is deprecated and will change in a future version. Call result.infer_objects(copy=False) instead. To opt-in to the future behavior, set `pd.set_option('future.no_silent_downcasting', True)`\n",
      "\n"
     ]
    }
   ],
   "source": [
    "# Select the relevant columns\n",
    "columns = [\n",
    "    \"industry_code_of_employment_1st_quarter_after_exit_quarter\",\n",
    "    \"industry_code_of_employment_2nd_quarter_after_exit_quarter\",\n",
    "    \"industry_code_of_employment_3rd_quarter_after_exit_quarter\",\n",
    "    \"industry_code_of_employment_4th_quarter_after_exit_quarter\"\n",
    "]\n",
    "\n",
    "# Use backfill to get the latest non-null industry code\n",
    "data[\"latest_industry_code_of_employment_after_exit_quarter\"] = data[columns].ffill(axis=1).iloc[:, -1]\n"
   ]
  },
  {
   "cell_type": "code",
   "execution_count": 59,
   "metadata": {},
   "outputs": [
    {
     "data": {
      "text/plain": [
       "latest_industry_code_of_employment_after_exit_quarter\n",
       "Temporary Help Services                                                                                                    12682\n",
       "Professional Employer Organizations                                                                                         3675\n",
       "Limited-Service Restaurants                                                                                                 3648\n",
       "Full-Service Restaurants                                                                                                    3553\n",
       "General Medical and Surgical Hospitals                                                                                      3189\n",
       "General Warehousing and Storage                                                                                             3149\n",
       "Elementary and Secondary Schools                                                                                            2719\n",
       "Department Stores                                                                                                           2514\n",
       "Offices of Physicians (except Mental Health Specialists)                                                                    1878\n",
       "Hotels (except Casino Hotels) and Motels                                                                                    1794\n",
       "Executive and Legislative Offices, Combined                                                                                 1691\n",
       "Supermarkets and Other Grocery Retailers (except Convenience Retailers)                                                     1683\n",
       "All Other General Merchandise Retailers                                                                                     1595\n",
       "Telemarketing Bureaus and Other Contact Centers                                                                             1575\n",
       "Security Guards and Patrol Services                                                                                         1308\n",
       "Employment Placement Agencies                                                                                               1246\n",
       "Insurance Agencies and Brokerages                                                                                           1246\n",
       "Computer Systems Design Services                                                                                            1229\n",
       "Corporate, Subsidiary, and Regional Managing Offices                                                                        1121\n",
       "Motion Picture and Video Production                                                                                         1117\n",
       "Home Health Care Services                                                                                                   1101\n",
       "Wholesale Trade Agents and Brokers                                                                                          1052\n",
       "Gasoline Stations with Convenience Stores                                                                                   1013\n",
       "General Freight Trucking, Long-Distance, Truckload                                                                          1003\n",
       "Couriers and Express Delivery Services                                                                                       981\n",
       "Child Care Services                                                                                                          976\n",
       "Custom Computer Programming Services                                                                                         945\n",
       "Engineering Services                                                                                                         929\n",
       "Other Individual and Family Services                                                                                         906\n",
       "Colleges, Universities, and Professional Schools                                                                             897\n",
       "Nursing Care Facilities (Skilled Nursing Facilities)                                                                         872\n",
       "Services for the Elderly and Persons with Disabilities                                                                       855\n",
       "Janitorial Services                                                                                                          820\n",
       "Administrative Management and General Management Consulting Services                                                         796\n",
       "Home Centers                                                                                                                 778\n",
       "Computing Infrastructure Providers, Data Processing, Web Hosting, and Related Services                                       777\n",
       "Food Service Contractors                                                                                                     774\n",
       "Freight Transportation Arrangement                                                                                           768\n",
       "Clothing and Clothing Accessories Retailers                                                                                  756\n",
       "Office Administrative Services                                                                                               755\n",
       "General Freight Trucking, Long-Distance, Less Than Truckload                                                                 754\n",
       "Scheduled Passenger Air Transportation                                                                                       747\n",
       "Commercial Banking                                                                                                           667\n",
       "Plumbing, Heating, and Air-Conditioning Contractors                                                                          648\n",
       "Poultry Processing                                                                                                           623\n",
       "Electrical Contractors and Other Wiring Installation Contractors                                                             600\n",
       "New Car Dealers                                                                                                              535\n",
       "Offices of Dentists                                                                                                          531\n",
       "Landscaping Services                                                                                                         502\n",
       "Facilities Support Services                                                                                                  500\n",
       "Offices of Lawyers                                                                                                           498\n",
       "Software Publishers                                                                                                          467\n",
       "Commercial and Institutional Building Construction                                                                           446\n",
       "General Freight Trucking, Local                                                                                              433\n",
       "Residential Property Managers                                                                                                410\n",
       "Assisted Living Facilities for the Elderly                                                                                   409\n",
       "Electronics and Appliance Retailers                                                                                          402\n",
       "Automotive Parts and Accessories Retailers                                                                                   401\n",
       "Pharmacies and Drug Retailers                                                                                                380\n",
       "Vocational Rehabilitation Services                                                                                           380\n",
       "Tax Preparation Services                                                                                                     369\n",
       "Wired Telecommunications Carriers                                                                                            365\n",
       "Payroll Services                                                                                                             363\n",
       "Marketing Consulting Services                                                                                                361\n",
       "Other Airport Operations                                                                                                     360\n",
       "Fiber, Yarn, and Thread Mills                                                                                                359\n",
       "Lessors of Residential Buildings and Dwellings                                                                               358\n",
       "Direct Property and Casualty Insurance Carriers                                                                              342\n",
       "General Line Grocery Merchant Wholesalers                                                                                    340\n",
       "All Other Support Services                                                                                                   333\n",
       "Research and Development in the Physical, Engineering, and Life Sciences (except Nanotechnology and Biotechnology)           331\n",
       "Outpatient Mental Health and Substance Abuse Centers                                                                         310\n",
       "Snack and Nonalcoholic Beverage Bars                                                                                         297\n",
       "Claims Adjusting                                                                                                             295\n",
       "Other Grocery and Related Products Merchant Wholesalers                                                                      281\n",
       "Power and Communication Line and Related Structures Construction                                                             275\n",
       "Other Accounting Services                                                                                                    256\n",
       "Used Car Dealers                                                                                                             255\n",
       "Golf Courses and Country Clubs                                                                                               248\n",
       "Human Resources Consulting Services                                                                                          246\n",
       "Other General Government Support                                                                                             246\n",
       "Industrial Machinery and Equipment Merchant Wholesalers                                                                      238\n",
       "Collection Agencies                                                                                                          237\n",
       "Furniture Retailers                                                                                                          237\n",
       "All Other Professional, Scientific, and Technical Services                                                                   231\n",
       "Direct Health and Medical Insurance Carriers                                                                                 227\n",
       "Parking Lots and Garages                                                                                                     227\n",
       "Refrigerated Warehousing and Storage                                                                                         225\n",
       "Offices of Physical, Occupational and Speech Therapists, and Audiologists                                                    222\n",
       "Pharmacy Benefit Management and Other Third Party Administration of Insurance and Pension Funds                              221\n",
       "Medical, Dental, and Hospital Equipment and Supplies Merchant Wholesalers                                                    220\n",
       "Offices of Real Estate Agents and Brokers                                                                                    219\n",
       "All Other Plastics Product Manufacturing                                                                                     216\n",
       "Site Preparation Contractors                                                                                                 213\n",
       "Battery Manufacturing                                                                                                        213\n",
       "Specialized Freight (except Used Goods) Trucking, Long-Distance                                                              213\n",
       "Medical Laboratories                                                                                                         211\n",
       "Highway, Street, and Bridge Construction                                                                                     209\n",
       "Truck, Utility Trailer, and RV (Recreational Vehicle) Rental and Leasing                                                     207\n",
       "Direct Life Insurance Carriers                                                                                               207\n",
       "Sporting Goods Retailers                                                                                                     202\n",
       "Real Estate Credit                                                                                                           200\n",
       "Caterers                                                                                                                     200\n",
       "Warehouse Clubs and Supercenters                                                                                             196\n",
       "Animal (except Poultry) Slaughtering                                                                                         192\n",
       "Offices of Certified Public Accountants                                                                                      192\n",
       "Other Computer Related Services                                                                                              190\n",
       "Computer and Computer Peripheral Equipment and Software Merchant Wholesalers                                                 189\n",
       "Air-Conditioning and Warm Air Heating Equipment and Commercial and Industrial Refrigeration Equipment Manufacturing          187\n",
       "Carpet and Rug Mills                                                                                                         187\n",
       "Fitness and Recreational Sports Centers                                                                                      186\n",
       "Travel Agencies                                                                                                              183\n",
       "Credit Unions                                                                                                                179\n",
       "Motor Vehicle Supplies and New Parts Merchant Wholesalers                                                                    178\n",
       "Other Motor Vehicle Parts Manufacturing                                                                                      174\n",
       "Solid Waste Collection                                                                                                       174\n",
       "Administration of Public Health Programs                                                                                     173\n",
       "Correctional Institutions                                                                                                    172\n",
       "Continuing Care Retirement Communities                                                                                       170\n",
       "Other Residential Care Facilities                                                                                            170\n",
       "Commercial and Industrial Machinery and Equipment (except Automotive and Electronic) Repair and Maintenance                  170\n",
       "Process, Physical Distribution, and Logistics Consulting Services                                                            170\n",
       "Financial Transactions Processing, Reserve, and Clearinghouse Activities                                                     169\n",
       "Commercial Printing (except Screen and Books)                                                                                169\n",
       "Executive Search Services                                                                                                    168\n",
       "Telephone Answering Services                                                                                                 166\n",
       "Commercial Bakeries                                                                                                          166\n",
       "Residential Remodelers                                                                                                       160\n",
       "All Other Telecommunications                                                                                                 159\n",
       "New Single-Family Housing Construction (except For-Sale Builders)                                                            158\n",
       "Poultry and Poultry Product Merchant Wholesalers                                                                             158\n",
       "Ambulance Services                                                                                                           157\n",
       "Exterminating and Pest Control Services                                                                                      154\n",
       "Other Building Equipment Contractors                                                                                         154\n",
       "All Other Specialty Trade Contractors                                                                                        153\n",
       "Lessors of Nonresidential Buildings (except Miniwarehouses)                                                                  153\n",
       "General Automotive Repair                                                                                                    153\n",
       "Specialized Freight (except Used Goods) Trucking, Local                                                                      152\n",
       "Residential Mental Health and Substance Abuse Facilities                                                                     149\n",
       "Junior Colleges                                                                                                              147\n",
       "Veterinary Services                                                                                                          147\n",
       "Lumber, Plywood, Millwork, and Wood Panel Merchant Wholesalers                                                               143\n",
       "Civic and Social Organizations                                                                                               142\n",
       "Convention and Trade Show Organizers                                                                                         142\n",
       "Blood and Organ Banks                                                                                                        142\n",
       "Security Systems Services (except Locksmiths)                                                                                142\n",
       "Passenger Car Rental                                                                                                         141\n",
       "Local Messengers and Local Delivery                                                                                          141\n",
       "Industrial and Personal Service Paper Merchant Wholesalers                                                                   140\n",
       "Educational Support Services                                                                                                 140\n",
       "Nonresidential Property Managers                                                                                             139\n",
       "All Other Home Furnishings Retailers                                                                                         138\n",
       "Tire Dealers                                                                                                                 137\n",
       "Gift, Novelty, and Souvenir Retailers                                                                                        136\n",
       "Other Social Advocacy Organizations                                                                                          136\n",
       "Perishable Prepared Food Manufacturing                                                                                       135\n",
       "Sawmills                                                                                                                     133\n",
       "Industrial Building Construction                                                                                             129\n",
       "Administration of Human Resource Programs (except Education, Public Health, and Veterans' Affairs Programs)                  127\n",
       "Drinking Places (Alcoholic Beverages)                                                                                        126\n",
       "Other Management Consulting Services                                                                                         126\n",
       "All Other Miscellaneous Retailers                                                                                            125\n",
       "Other Building Material Dealers                                                                                              124\n",
       "Used Household and Office Goods Moving                                                                                       124\n",
       "Kidney Dialysis Centers                                                                                                      124\n",
       "Farm and Garden Machinery and Equipment Merchant Wholesalers                                                                 123\n",
       "Automobile and Other Motor Vehicle Merchant Wholesalers                                                                      123\n",
       "Sales Financing                                                                                                              123\n",
       "Child and Youth Services                                                                                                     121\n",
       "Mixed Mode Transit Systems                                                                                                   120\n",
       "All Other Outpatient Care Centers                                                                                            120\n",
       "Construction Machinery Manufacturing                                                                                         120\n",
       "Wireless Telecommunications Carriers (except Satellite)                                                                      120\n",
       "Motor Vehicle Body Manufacturing                                                                                             120\n",
       "Electronic and Precision Equipment Repair and Maintenance                                                                    119\n",
       "Electrical Apparatus and Equipment, Wiring Supplies, and Related Equipment Merchant Wholesalers                              119\n",
       "Beer, Wine, and Liquor Retailers                                                                                             118\n",
       "Car Washes                                                                                                                   118\n",
       "Lessors of Miniwarehouses and Self-Storage Units                                                                             116\n",
       "Other Warehousing and Storage                                                                                                116\n",
       "Cafeterias, Grill Buffets, and Buffets                                                                                       115\n",
       "All Other Transportation Equipment Manufacturing                                                                             114\n",
       "Aircraft Manufacturing                                                                                                       114\n",
       "Shoe Retailers                                                                                                               114\n",
       "Water and Sewer Line and Related Structures Construction                                                                     114\n",
       "Optical Goods Retailers                                                                                                      114\n",
       "Cosmetics, Beauty Supplies, and Perfume Retailers                                                                            114\n",
       "Automotive Body, Paint, and Interior Repair and Maintenance                                                                  113\n",
       "All Other Miscellaneous Ambulatory Health Care Services                                                                      112\n",
       "Metal Window and Door Manufacturing                                                                                          112\n",
       "Indoor and Outdoor Display Advertising                                                                                       112\n",
       "Truck Trailer Manufacturing                                                                                                  111\n",
       "Beauty Salons                                                                                                                109\n",
       "Advertising Agencies                                                                                                         108\n",
       "Motor Vehicle Metal Stamping                                                                                                 107\n",
       "Postharvest Crop Activities (except Cotton Ginning)                                                                          107\n",
       "All Other Insurance Related Activities                                                                                       107\n",
       "Machine Shops                                                                                                                104\n",
       "Other Building Finishing Contractors                                                                                         104\n",
       "Used Merchandise Retailers                                                                                                   104\n",
       "All Other Amusement and Recreation Industries                                                                                103\n",
       "Recyclable Material Merchant Wholesalers                                                                                     103\n",
       "Automobile and Light Duty Motor Vehicle Manufacturing                                                                        102\n",
       "Electric Power Distribution                                                                                                  101\n",
       "Construction and Mining (except Oil Well) Machinery and Equipment Merchant Wholesalers                                       101\n",
       "Human Rights Organizations                                                                                                   100\n",
       "Other Support Activities for Road Transportation                                                                              99\n",
       "Other Snack Food Manufacturing                                                                                                98\n",
       "Home Furnishing Merchant Wholesalers                                                                                          98\n",
       "Psychiatric and Substance Abuse Hospitals                                                                                     98\n",
       "Computer Facilities Management Services                                                                                       98\n",
       "Other Services to Buildings and Dwellings                                                                                     97\n",
       "Other Support Activities for Air Transportation                                                                               97\n",
       "Investment Banking and Securities Intermediation                                                                              97\n",
       "Regulation and Administration of Transportation Programs                                                                      96\n",
       "All Other Travel Arrangement and Reservation Services                                                                         96\n",
       "Marketing Research and Public Opinion Polling                                                                                 95\n",
       "Sheet Metal Work Manufacturing                                                                                                94\n",
       "Other Technical and Trade Schools                                                                                             93\n",
       "Consumer Lending                                                                                                              93\n",
       "Other Gasoline Stations                                                                                                       93\n",
       "Media Streaming Distribution Services, Social Networks, and Other Media Networks and Content Providers                        93\n",
       "Meat Processed from Carcasses                                                                                                 92\n",
       "Hardware Retailers                                                                                                            92\n",
       "Paper Bag and Coated and Treated Paper Manufacturing                                                                          92\n",
       "Wine and Distilled Alcoholic Beverage Merchant Wholesalers                                                                    92\n",
       "Pet Care (except Veterinary) Services                                                                                         91\n",
       "Other Personal Care Services                                                                                                  91\n",
       "Roofing Contractors                                                                                                           90\n",
       "Bus and Other Motor Vehicle Transit Systems                                                                                   89\n",
       "Freestanding Ambulatory Surgical and Emergency Centers                                                                        89\n",
       "Poured Concrete Foundation and Structure Contractors                                                                          89\n",
       "Offices of All Other Miscellaneous Health Practitioners                                                                       89\n",
       "Research and Development in Biotechnology (except Nanobiotechnology)                                                          89\n",
       "Other Scientific and Technical Consulting Services                                                                            88\n",
       "Clothing and Clothing Accessories Merchant Wholesalers                                                                        88\n",
       "All Other Personal Services                                                                                                   87\n",
       "Metal Service Centers and Other Metal Merchant Wholesalers                                                                    87\n",
       "International, Secondary Market, and All Other Nondepository Credit Intermediation                                            87\n",
       "Ready-Mix Concrete Manufacturing                                                                                              85\n",
       "Major Household Appliance Manufacturing                                                                                       84\n",
       "Hobby, Toy, and Game Retailers                                                                                                84\n",
       "Packaged Frozen Food Merchant Wholesalers                                                                                     83\n",
       "Floor Covering Retailers                                                                                                      83\n",
       "Aircraft Engine and Engine Parts Manufacturing                                                                                83\n",
       "Offices of Other Holding Companies                                                                                            83\n",
       "Private Households                                                                                                            83\n",
       "Other Concrete Product Manufacturing                                                                                          82\n",
       "Fresh Fruit and Vegetable Merchant Wholesalers                                                                                82\n",
       "Finish Carpentry Contractors                                                                                                  81\n",
       "Other Services Related to Advertising                                                                                         81\n",
       "Air Traffic Control                                                                                                           81\n",
       "Drycleaning and Laundry Services (except Coin-Operated)                                                                       80\n",
       "Broadwoven Fabric Mills                                                                                                       80\n",
       "Wood Container and Pallet Manufacturing                                                                                       80\n",
       "Offices of Chiropractors                                                                                                      80\n",
       "Other Heavy and Civil Engineering Construction                                                                                79\n",
       "Special Needs Transportation                                                                                                  79\n",
       "Soft Drink Manufacturing                                                                                                      79\n",
       "Consumer Electronics and Appliances Rental                                                                                    78\n",
       "Wood Kitchen Cabinet and Countertop Manufacturing                                                                             78\n",
       "Other Commercial Equipment Merchant Wholesalers                                                                               77\n",
       "Hardware Merchant Wholesalers                                                                                                 77\n",
       "Corrugated and Solid Fiber Box Manufacturing                                                                                  76\n",
       "Hardwood Veneer and Plywood Manufacturing                                                                                     76\n",
       "Copper Rolling, Drawing, Extruding, and Alloying                                                                              76\n",
       "Drugs and Druggists' Sundries Merchant Wholesalers                                                                            75\n",
       "Motor Vehicle Seating and Interior Trim Manufacturing                                                                         75\n",
       "Mortgage and Nonmortgage Loan Brokers                                                                                         74\n",
       "Other Chemical and Allied Products Merchant Wholesalers                                                                       74\n",
       "Sanitary Paper Product Manufacturing                                                                                          73\n",
       "Portfolio Management and Investment Advice                                                                                    73\n",
       "Packaging and Labeling Services                                                                                               73\n",
       "Folding Paperboard Box Manufacturing                                                                                          71\n",
       "Surgical Appliance and Supplies Manufacturing                                                                                 71\n",
       "Plumbing and Heating Equipment and Supplies (Hydronics) Merchant Wholesalers                                                  71\n",
       "Painting and Wall Covering Contractors                                                                                        70\n",
       "Fuel Dealers                                                                                                                  69\n",
       "Support Activities for Rail Transportation                                                                                    69\n",
       "All Other Transit and Ground Passenger Transportation                                                                         69\n",
       "Polystyrene Foam Product Manufacturing                                                                                        68\n",
       "Home Health Equipment Rental                                                                                                  68\n",
       "Other Vegetable (except Potato) and Melon Farming                                                                             68\n",
       "Stationery and Office Supplies Merchant Wholesalers                                                                           67\n",
       "Automotive Oil Change and Lubrication Shops                                                                                   67\n",
       "Paint and Coating Manufacturing                                                                                               67\n",
       "Boat Building                                                                                                                 66\n",
       "Amusement and Theme Parks                                                                                                     65\n",
       "Industrial Supplies Merchant Wholesalers                                                                                      65\n",
       "Flat Glass Manufacturing                                                                                                      63\n",
       "Paperboard Mills                                                                                                              62\n",
       "Other Farm Product Raw Material Merchant Wholesalers                                                                          62\n",
       "Web Search Portals and All Other Information Services                                                                         61\n",
       "Cut and Sew Apparel Manufacturing (except Contractors)                                                                        61\n",
       "Other Foundation, Structure, and Building Exterior Contractors                                                                60\n",
       "Apparel Knitting Mills                                                                                                        60\n",
       "Pet and Pet Supplies Retailers                                                                                                59\n",
       "Plastics Bottle Manufacturing                                                                                                 58\n",
       "Specialty (except Psychiatric and Substance Abuse) Hospitals                                                                  58\n",
       "Offices of Optometrists                                                                                                       57\n",
       "Furniture Merchant Wholesalers                                                                                                57\n",
       "Office Supplies and Stationery Retailers                                                                                      57\n",
       "Emergency and Other Relief Services                                                                                           57\n",
       "Residential Intellectual and Developmental Disability Facilities                                                              57\n",
       "Wood Window and Door Manufacturing                                                                                            57\n",
       "Jewelry Retailers                                                                                                             55\n",
       "Architectural Services                                                                                                        55\n",
       "Vending Machine Operators                                                                                                     55\n",
       "Brick, Stone, and Related Construction Material Merchant Wholesalers                                                          55\n",
       "Other Miscellaneous Nondurable Goods Merchant Wholesalers                                                                     55\n",
       "Offices of Physicians, Mental Health Specialists                                                                              55\n",
       "Roasted Nuts and Peanut Butter Manufacturing                                                                                  55\n",
       "Mattress Manufacturing                                                                                                        54\n",
       "Meat and Meat Product Merchant Wholesalers                                                                                    54\n",
       "Diagnostic Imaging Centers                                                                                                    54\n",
       "Travel Trailer and Camper Manufacturing                                                                                       54\n",
       "Convenience Retailers                                                                                                         54\n",
       "Other Activities Related to Real Estate                                                                                       54\n",
       "Industrial Truck, Tractor, Trailer, and Stacker Machinery Manufacturing                                                       53\n",
       "Motorcycle, ATV, and All Other Motor Vehicle Dealers                                                                          53\n",
       "Testing Laboratories and Services                                                                                             52\n",
       "Tire Manufacturing (except Retreading)                                                                                        52\n",
       "Credit Bureaus                                                                                                                52\n",
       "Other Electronic Parts and Equipment Merchant Wholesalers                                                                     52\n",
       "Nursery, Garden Center, and Farm Supply Retailers                                                                             51\n",
       "Drywall and Insulation Contractors                                                                                            51\n",
       "Offices of Mental Health Practitioners (except Physicians)                                                                    51\n",
       "Fabricated Structural Metal Manufacturing                                                                                     50\n",
       "Marine Cargo Handling                                                                                                         50\n",
       "Other Commercial and Industrial Machinery and Equipment Rental and Leasing                                                    50\n",
       "Other Business Service Centers (including Copy Shops)                                                                         50\n",
       "All Other Consumer Goods Rental                                                                                               49\n",
       "Business Associations                                                                                                         49\n",
       "Administration of Urban Planning and Community and Rural Development                                                          49\n",
       "Petroleum and Petroleum Products Merchant Wholesalers (except Bulk Stations and Terminals)                                    48\n",
       "All Other Industrial Machinery Manufacturing                                                                                  48\n",
       "Public Relations Agencies                                                                                                     48\n",
       "Other Direct Insurance (except Life, Health, and Medical) Carriers                                                            48\n",
       "Pharmaceutical Preparation Manufacturing                                                                                      48\n",
       "Voluntary Health Organizations                                                                                                48\n",
       "Promoters of Performing Arts, Sports, and Similar Events with Facilities                                                      47\n",
       "New Multifamily Housing Construction (except For-Sale Builders)                                                               47\n",
       "Curtain and Linen Mills                                                                                                       47\n",
       "Other Millwork (including Flooring)                                                                                           47\n",
       "Prefabricated Metal Building and Component Manufacturing                                                                      47\n",
       "Household Appliances, Electric Housewares, and Consumer Electronics Merchant Wholesalers                                      47\n",
       "Linen Supply                                                                                                                  47\n",
       "Political Organizations                                                                                                       47\n",
       "Administration of Housing Programs                                                                                            46\n",
       "Power, Distribution, and Specialty Transformer Manufacturing                                                                  46\n",
       "Breweries                                                                                                                     46\n",
       "Plastics Pipe and Pipe Fitting Manufacturing                                                                                  46\n",
       "All Other Miscellaneous Manufacturing                                                                                         46\n",
       "Structural Steel and Precast Concrete Contractors                                                                             45\n",
       "Other Similar Organizations (except Business, Professional, Labor, and Political Organizations)                               45\n",
       "Motor Vehicle Towing                                                                                                          45\n",
       "Photography Studios, Portrait                                                                                                 45\n",
       "Other Activities Related to Credit Intermediation                                                                             45\n",
       "Motion Picture Theaters (except Drive-Ins)                                                                                    44\n",
       "Sign Manufacturing                                                                                                            44\n",
       "Land Subdivision                                                                                                              44\n",
       "Other Engine Equipment Manufacturing                                                                                          44\n",
       "Tobacco, Electronic Cigarette, and Other Smoking Supplies Retailers                                                           44\n",
       "Newspaper Publishers                                                                                                          44\n",
       "Refrigeration Equipment and Supplies Merchant Wholesalers                                                                     44\n",
       "Natural Gas Distribution                                                                                                      43\n",
       "Showcase, Partition, Shelving, and Locker Manufacturing                                                                       42\n",
       "Masonry Contractors                                                                                                           42\n",
       "Motor Vehicle Brake System Manufacturing                                                                                      42\n",
       "Metal Coating, Engraving (except Jewelry and Silverware), and Allied Services to Manufacturers                                42\n",
       "Public Finance Activities                                                                                                     42\n",
       "Flooring Contractors                                                                                                          42\n",
       "National Security                                                                                                             42\n",
       "All Other Publishers                                                                                                          42\n",
       "Administration of Conservation Programs                                                                                       41\n",
       "Clay Building Material and Refractories Manufacturing                                                                         41\n",
       "Bowling Centers                                                                                                               41\n",
       "Sports Teams and Clubs                                                                                                        41\n",
       "Adhesive Manufacturing                                                                                                        40\n",
       "Metal Can Manufacturing                                                                                                       40\n",
       "Other Paperboard Container Manufacturing                                                                                      40\n",
       "Unlaminated Plastics Film and Sheet (except Packaging) Manufacturing                                                          40\n",
       "Remediation Services                                                                                                          40\n",
       "Siding Contractors                                                                                                            40\n",
       "Cookie and Cracker Manufacturing                                                                                              39\n",
       "Interior Design Services                                                                                                      39\n",
       "Logging                                                                                                                       38\n",
       "Farm Supplies Merchant Wholesalers                                                                                            38\n",
       "Other Community Housing Services                                                                                              38\n",
       "Water Supply and Irrigation Systems                                                                                           38\n",
       "Exam Preparation and Tutoring                                                                                                 38\n",
       "Legislative Bodies                                                                                                            38\n",
       "Fruit and Vegetable Canning                                                                                                   37\n",
       "Dog and Cat Food Manufacturing                                                                                                37\n",
       "Other Miscellaneous Durable Goods Merchant Wholesalers                                                                        37\n",
       "Warm Air Heating and Air-Conditioning Equipment and Supplies Merchant Wholesalers                                             37\n",
       "Office Equipment Merchant Wholesalers                                                                                         37\n",
       "Investigation and Personal Background Check Services                                                                          36\n",
       "Motor Vehicle Gasoline Engine and Engine Parts Manufacturing                                                                  36\n",
       "Confectionery Merchant Wholesalers                                                                                            36\n",
       "Theater Companies and Dinner Theaters                                                                                         36\n",
       "Spice and Extract Manufacturing                                                                                               35\n",
       "Temporary Shelters                                                                                                            35\n",
       "Florists                                                                                                                      35\n",
       "Translation and Interpretation Services                                                                                       35\n",
       "All Other Rubber Product Manufacturing                                                                                        35\n",
       "Industrial Launderers                                                                                                         35\n",
       "All Other Legal Services                                                                                                      35\n",
       "Television Broadcasting Stations                                                                                              34\n",
       "Dry Pasta, Dough, and Flour Mixes Manufacturing from Purchased Flour                                                          34\n",
       "Sports and Recreation Instruction                                                                                             34\n",
       "All Other Health and Personal Care Retailers                                                                                  34\n",
       "Other Aircraft Parts and Auxiliary Equipment Manufacturing                                                                    34\n",
       "Armored Car Services                                                                                                          34\n",
       "Motor Vehicle Steering and Suspension Components (except Spring) Manufacturing                                                34\n",
       "New Housing For-Sale Builders                                                                                                 34\n",
       "Cotton Ginning                                                                                                                34\n",
       "Flower, Nursery Stock, and Florists' Supplies Merchant Wholesalers                                                            34\n",
       "Upholstered Household Furniture Manufacturing                                                                                 34\n",
       "Recreational Vehicle Dealers                                                                                                  33\n",
       "HMO Medical Centers                                                                                                           33\n",
       "All Other Miscellaneous Textile Product Mills                                                                                 33\n",
       "All Other Miscellaneous Chemical Product and Preparation Manufacturing                                                        33\n",
       "Family Planning Centers                                                                                                       33\n",
       "Police Protection                                                                                                             33\n",
       "Computer Terminal and Other Computer Peripheral Equipment Manufacturing                                                       32\n",
       "Libraries and Archives                                                                                                        32\n",
       "Plastics Material and Resin Manufacturing                                                                                     32\n",
       "Nonwoven Fabric Mills                                                                                                         32\n",
       "Materials Recovery Facilities                                                                                                 32\n",
       "Administration of Education Programs                                                                                          32\n",
       "Textile and Fabric Finishing Mills                                                                                            31\n",
       "Tire and Tube Merchant Wholesalers                                                                                            31\n",
       "Mineral Wool Manufacturing                                                                                                    31\n",
       "Fiber Optic Cable Manufacturing                                                                                               31\n",
       "Iron Foundries                                                                                                                31\n",
       "Nursery and Tree Production                                                                                                   31\n",
       "Coin-Operated Laundries and Drycleaners                                                                                       31\n",
       "Other Professional Equipment and Supplies Merchant Wholesalers                                                                31\n",
       "Independent Artists, Writers, and Performers                                                                                  31\n",
       "All Other Business Support Services                                                                                           31\n",
       "School and Employee Bus Transportation                                                                                        31\n",
       "Electronic Computer Manufacturing                                                                                             31\n",
       "Commercial Screen Printing                                                                                                    31\n",
       "Limousine Service                                                                                                             31\n",
       "Kaolin, Clay, and Ceramic and Refractory Minerals Mining                                                                      30\n",
       "Funeral Homes and Funeral Services                                                                                            30\n",
       "Graphic Design Services                                                                                                       30\n",
       "Professional Organizations                                                                                                    30\n",
       "Toilet Preparation Manufacturing                                                                                              30\n",
       "Farm Labor Contractors and Crew Leaders                                                                                       30\n",
       "Private Mail Centers                                                                                                          29\n",
       "Paper Mills                                                                                                                   29\n",
       "Environmental Consulting Services                                                                                             29\n",
       "Credit Card Issuing                                                                                                           29\n",
       "Polish and Other Sanitation Good Manufacturing                                                                                29\n",
       "Service Establishment Equipment and Supplies Merchant Wholesalers                                                             29\n",
       "Courts                                                                                                                        29\n",
       "Promoters of Performing Arts, Sports, and Similar Events without Facilities                                                   29\n",
       "Sporting and Recreational Goods and Supplies Merchant Wholesalers                                                             29\n",
       "Beer and Ale Merchant Wholesalers                                                                                             29\n",
       "Amusement Arcades                                                                                                             28\n",
       "Retail Bakeries                                                                                                               28\n",
       "All Other Miscellaneous Food Manufacturing                                                                                    28\n",
       "Plastics Bag and Pouch Manufacturing                                                                                          28\n",
       "Hazardous Waste Treatment and Disposal                                                                                        28\n",
       "Petroleum Bulk Stations and Terminals                                                                                         28\n",
       "Other Waste Collection                                                                                                        28\n",
       "Document Preparation Services                                                                                                 28\n",
       "Other Aluminum Rolling, Drawing, and Extruding                                                                                28\n",
       "Instruments and Related Products Manufacturing for Measuring, Displaying, and Controlling Industrial Process Variables        27\n",
       "Metal Tank (Heavy Gauge) Manufacturing                                                                                        27\n",
       "All Other Miscellaneous Waste Management Services                                                                             27\n",
       "Surgical and Medical Instrument Manufacturing                                                                                 27\n",
       "Computer Training                                                                                                             27\n",
       "Motor Vehicle Transmission and Power Train Parts Manufacturing                                                                27\n",
       "Tobacco Product and Electronic Cigarette Merchant Wholesalers                                                                 26\n",
       "All Other Traveler Accommodation                                                                                              26\n",
       "Mobile Food Services                                                                                                          26\n",
       "Manufactured Home (Mobile Home) Manufacturing                                                                                 26\n",
       "Small Arms, Ordnance, and Ordnance Accessories Manufacturing                                                                  26\n",
       "Other Basic Inorganic Chemical Manufacturing                                                                                  26\n",
       "Frozen Specialty Food Manufacturing                                                                                           26\n",
       "Switchgear and Switchboard Apparatus Manufacturing                                                                            25\n",
       "Directory and Mailing List Publishers                                                                                         25\n",
       "Fastener, Button, Needle, and Pin Manufacturing                                                                               25\n",
       "Other Animal Food Manufacturing                                                                                               25\n",
       "Prefabricated Wood Building Manufacturing                                                                                     25\n",
       "Roofing, Siding, and Insulation Material Merchant Wholesalers                                                                 25\n",
       "Glass and Glazing Contractors                                                                                                 25\n",
       "General Rental Centers                                                                                                        25\n",
       "All Other Support Activities for Transportation                                                                               25\n",
       "Automotive Glass Replacement Shops                                                                                            25\n",
       "Rubber and Plastics Hoses and Belting Manufacturing                                                                           24\n",
       "Cut Stone and Stone Product Manufacturing                                                                                     24\n",
       "Rubber Product Manufacturing for Mechanical Use                                                                               24\n",
       "Motor Vehicle Electrical and Electronic Equipment Manufacturing                                                               24\n",
       "All Other Specialty Food Retailers                                                                                            23\n",
       "Bottled Water Manufacturing                                                                                                   23\n",
       "All Other Miscellaneous Fabricated Metal Product Manufacturing                                                                23\n",
       "Fruit and Vegetable Retailers                                                                                                 23\n",
       "Food (Health) Supplement Retailers                                                                                            23\n",
       "Plastics Plumbing Fixture Manufacturing                                                                                       22\n",
       "Electroplating, Plating, Polishing, Anodizing, and Coloring                                                                   22\n",
       "Construction, Mining, and Forestry Machinery and Equipment Rental and Leasing                                                 22\n",
       "Periodical Publishers                                                                                                         22\n",
       "Flavoring Syrup and Concentrate Manufacturing                                                                                 22\n",
       "Industrial Valve Manufacturing                                                                                                22\n",
       "Glass Container Manufacturing                                                                                                 22\n",
       "Measuring, Dispensing, and Other Pumping Equipment Manufacturing                                                              22\n",
       "Breakfast Cereal Manufacturing                                                                                                22\n",
       "Telecommunications Resellers                                                                                                  22\n",
       "Administration of Veterans' Affairs                                                                                           22\n",
       "Frozen Cakes, Pies, and Other Pastries Manufacturing                                                                          22\n",
       "Professional and Management Development Training                                                                              22\n",
       "Regulation, Licensing, and Inspection of Miscellaneous Commercial Sectors                                                     22\n",
       "Parole Offices and Probation Offices                                                                                          21\n",
       "Pesticide and Other Agricultural Chemical Manufacturing                                                                       21\n",
       "Mayonnaise, Dressing, and Other Prepared Sauce Manufacturing                                                                  21\n",
       "Trusts, Estates, and Agency Accounts                                                                                          21\n",
       "All Other Miscellaneous Wood Product Manufacturing                                                                            21\n",
       "Other Gambling Industries                                                                                                     21\n",
       "Zoos and Botanical Gardens                                                                                                    21\n",
       "Research and Development in the Social Sciences and Humanities                                                                21\n",
       "Artificial and Synthetic Fibers and Filaments Manufacturing                                                                   21\n",
       "Coffee and Tea Manufacturing                                                                                                  21\n",
       "Religious Organizations                                                                                                       21\n",
       "Offices of Podiatrists                                                                                                        20\n",
       "Oil and Gas Pipeline and Related Structures Construction                                                                      20\n",
       "Ball and Roller Bearing Manufacturing                                                                                         20\n",
       "Flight Training                                                                                                               20\n",
       "Other Construction Material Merchant Wholesalers                                                                              20\n",
       "Hardware Manufacturing                                                                                                        20\n",
       "Engineered Wood Member Manufacturing                                                                                          20\n",
       "Seafood Product Preparation and Packaging                                                                                     20\n",
       "Power Boiler and Heat Exchanger Manufacturing                                                                                 20\n",
       "Printed Circuit Assembly (Electronic Assembly) Manufacturing                                                                  19\n",
       "Agents and Managers for Artists, Athletes, Entertainers, and Other Public Figures                                             19\n",
       "Surveying and Mapping (except Geophysical) Services                                                                           19\n",
       "Farm Machinery and Equipment Manufacturing                                                                                    19\n",
       "Reinsurance Carriers                                                                                                          18\n",
       "Title Abstract and Settlement Offices                                                                                         18\n",
       "Soap and Other Detergent Manufacturing                                                                                        18\n",
       "Other Grantmaking and Giving Services                                                                                         18\n",
       "Transportation Equipment and Supplies (except Motor Vehicle) Merchant Wholesalers                                             18\n",
       "Nuclear Electric Power Generation                                                                                             18\n",
       "Gasket, Packing, and Sealing Device Manufacturing                                                                             18\n",
       "Tour Operators                                                                                                                18\n",
       "Lawn and Garden Tractor and Home Lawn and Garden Equipment Manufacturing                                                      18\n",
       "Legal Counsel and Prosecution                                                                                                 18\n",
       "Dairy Product (except Dried or Canned) Merchant Wholesalers                                                                   18\n",
       "Gypsum Product Manufacturing                                                                                                  18\n",
       "Specialized Automotive Repair                                                                                                 18\n",
       "Labor Unions and Similar Labor Organizations                                                                                  18\n",
       "Commercial and Service Industry Machinery Manufacturing                                                                       17\n",
       "Plastics Packaging Film and Sheet (including Laminated) Manufacturing                                                         17\n",
       "Photographic Equipment and Supplies Merchant Wholesalers                                                                      17\n",
       "Appliance Repair and Maintenance                                                                                              17\n",
       "Commercial, Industrial, and Institutional Electric Lighting Fixture Manufacturing                                             17\n",
       "Charter Bus Industry                                                                                                          17\n",
       "Musical Groups and Artists                                                                                                    17\n",
       "Dental Laboratories                                                                                                           17\n",
       "Ornamental and Architectural Metal Work Manufacturing                                                                         17\n",
       "Secondary Smelting, Refining, and Alloying of Nonferrous Metal (except Copper and Aluminum)                                   17\n",
       "Crushed and Broken Granite Mining and Quarrying                                                                               17\n",
       "Stationery Product Manufacturing                                                                                              17\n",
       "Precision Turned Product Manufacturing                                                                                        17\n",
       "Carpet and Upholstery Cleaning Services                                                                                       16\n",
       "Nonscheduled Chartered Passenger Air Transportation                                                                           16\n",
       "Photographic Film, Paper, Plate, Chemical, and Copy Toner Manufacturing                                                       16\n",
       "Community Food Services                                                                                                       16\n",
       "Fine Arts Schools                                                                                                             16\n",
       "Regulation of Agricultural Marketing and Commodities                                                                          16\n",
       "Book Retailers and News Dealers                                                                                               16\n",
       "Other Noncitrus Fruit Farming                                                                                                 16\n",
       "Barber Shops                                                                                                                  16\n",
       "Unlaminated Plastics Profile Shape Manufacturing                                                                              16\n",
       "Food Product Machinery Manufacturing                                                                                          16\n",
       "Executive Offices                                                                                                             15\n",
       "Passenger Car Leasing                                                                                                         15\n",
       "Biological Product (except Diagnostic) Manufacturing                                                                          15\n",
       "Poultry Hatcheries                                                                                                            15\n",
       "Synthetic Dye and Pigment Manufacturing                                                                                       15\n",
       "Urethane and Other Foam Product (except Polystyrene) Manufacturing                                                            15\n",
       "Plastics Materials and Basic Forms and Shapes Merchant Wholesalers                                                            15\n",
       "Ammunition (except Small Arms) Manufacturing                                                                                  15\n",
       "Cement Manufacturing                                                                                                          15\n",
       "Building Inspection Services                                                                                                  15\n",
       "All Other Automotive Repair and Maintenance                                                                                   15\n",
       "Miscellaneous Intermediation                                                                                                  15\n",
       "Special Die and Tool, Die Set, Jig, and Fixture Manufacturing                                                                 14\n",
       "Health and Welfare Funds                                                                                                      14\n",
       "Other Crushed and Broken Stone Mining and Quarrying                                                                           14\n",
       "Petroleum Refineries                                                                                                          14\n",
       "Piece Goods, Notions, and Other Dry Goods Merchant Wholesalers                                                                14\n",
       "Current-Carrying Wiring Device Manufacturing                                                                                  14\n",
       "Metal Crown, Closure, and Other Metal Stamping (except Automotive)                                                            14\n",
       "Outdoor Power Equipment Retailers                                                                                             14\n",
       "Cut Stock, Resawing Lumber, and Planing                                                                                       14\n",
       "Other Personal and Household Goods Repair and Maintenance                                                                     14\n",
       "Fluid Power Cylinder and Actuator Manufacturing                                                                               14\n",
       "Other Food Crops Grown Under Cover                                                                                            13\n",
       "All Other Converted Paper Product Manufacturing                                                                               13\n",
       "Paint, Varnish, and Supplies Merchant Wholesalers                                                                             13\n",
       "Medicinal and Botanical Manufacturing                                                                                         13\n",
       "Packing and Crating                                                                                                           13\n",
       "Custom Architectural Woodwork and Millwork Manufacturing                                                                      13\n",
       "Electromedical and Electrotherapeutic Apparatus Manufacturing                                                                 13\n",
       "Grantmaking Foundations                                                                                                       13\n",
       "Meat Retailers                                                                                                                13\n",
       "Book Publishers                                                                                                               13\n",
       "Berry (except Strawberry) Farming                                                                                             13\n",
       "Paint and Wallpaper Retailers                                                                                                 13\n",
       "Office Machinery and Equipment Rental and Leasing                                                                             13\n",
       "Broilers and Other Meat Type Chicken Production                                                                               13\n",
       "Support Activities for Nonmetallic Minerals (except Fuels) Mining                                                             13\n",
       "Trust, Fiduciary, and Custody Activities                                                                                      13\n",
       "Radio Broadcasting Stations                                                                                                   13\n",
       "Institutional Furniture Manufacturing                                                                                         13\n",
       "Book, Periodical, and Newspaper Merchant Wholesalers                                                                          13\n",
       "Cemeteries and Crematories                                                                                                    12\n",
       "Farm Product Warehousing and Storage                                                                                          12\n",
       "Peanut Farming                                                                                                                12\n",
       "Wood Preservation                                                                                                             12\n",
       "Support Activities for Printing                                                                                               12\n",
       "Solid Waste Landfill                                                                                                          12\n",
       "Ice Cream and Frozen Dessert Manufacturing                                                                                    12\n",
       "Scenic and Sightseeing Transportation, Land                                                                                   12\n",
       "Teleproduction and Other Postproduction Services                                                                              12\n",
       "Automobile Driving Schools                                                                                                    12\n",
       "Tree Nut Farming                                                                                                              12\n",
       "Sawmill, Woodworking, and Paper Machinery Manufacturing                                                                       12\n",
       "Plumbing Fixture Fitting and Trim Manufacturing                                                                               12\n",
       "Radio and Television Broadcasting and Wireless Communications Equipment Manufacturing                                         12\n",
       "Other Measuring and Controlling Device Manufacturing                                                                          12\n",
       "Office Supplies (except Paper) Manufacturing                                                                                  12\n",
       "Fats and Oils Refining and Blending                                                                                           12\n",
       "Museums                                                                                                                       12\n",
       "Recreational and Vacation Camps (except Campgrounds)                                                                          11\n",
       "Manufactured (Mobile) Home Dealers                                                                                            11\n",
       "Direct Title Insurance Carriers                                                                                               11\n",
       "Support Activities for Oil and Gas Operations                                                                                 11\n",
       "Tortilla Manufacturing                                                                                                        11\n",
       "Environment, Conservation and Wildlife Organizations                                                                          11\n",
       "All Other Miscellaneous Nonmetallic Mineral Product Manufacturing                                                             11\n",
       "Heavy Duty Truck Manufacturing                                                                                                11\n",
       "Cotton Farming                                                                                                                11\n",
       "Chicken Egg Production                                                                                                        11\n",
       "Office Furniture (except Wood) Manufacturing                                                                                  11\n",
       "Court Reporting and Stenotype Services                                                                                        11\n",
       "Sewing, Needlework, and Piece Goods Retailers                                                                                 11\n",
       "Interurban and Rural Bus Transportation                                                                                       11\n",
       "Lessors of Nonfinancial Intangible Assets (except Copyrighted Works)                                                          11\n",
       "Convention and Visitors Bureaus                                                                                               11\n",
       "Footwear Manufacturing                                                                                                        11\n",
       "Sporting and Athletic Goods Manufacturing                                                                                     11\n",
       "Miscellaneous Financial Investment Activities                                                                                 11\n",
       "Glass Product Manufacturing Made of Purchased Glass                                                                           11\n",
       "Diet and Weight Reducing Centers                                                                                              10\n",
       "Cane Sugar Manufacturing                                                                                                      10\n",
       "Lessors of Other Real Estate Property                                                                                         10\n",
       "Casino Hotels                                                                                                                 10\n",
       "Window Treatment Retailers                                                                                                    10\n",
       "Other Insurance Funds                                                                                                         10\n",
       "Textile Bag and Canvas Mills                                                                                                  10\n",
       "Mechanical Power Transmission Equipment Manufacturing                                                                         10\n",
       "Other Pressed and Blown Glass and Glassware Manufacturing                                                                     10\n",
       "Fluid Power Pump and Motor Manufacturing                                                                                      10\n",
       "Ice Manufacturing                                                                                                             10\n",
       "In-Vitro Diagnostic Substance Manufacturing                                                                                   10\n",
       "Jewelry, Watch, Precious Stone, and Precious Metal Merchant Wholesalers                                                       10\n",
       "Fabricated Pipe and Pipe Fitting Manufacturing                                                                                10\n",
       "All Other Miscellaneous Schools and Instruction                                                                               10\n",
       "Plate Work Manufacturing                                                                                                      10\n",
       "RV (Recreational Vehicle) Parks and Campgrounds                                                                               10\n",
       "Nail Salons                                                                                                                   10\n",
       "Fish and Seafood Merchant Wholesalers                                                                                         10\n",
       "Rooming and Boarding Houses, Dormitories, and Workers' Camps                                                                  10\n",
       "Luggage and Leather Goods Retailers                                                                                           10\n",
       "Pottery, Ceramics, and Plumbing Fixture Manufacturing                                                                          9\n",
       "Wood Office Furniture Manufacturing                                                                                            9\n",
       "Septic Tank and Related Services                                                                                               9\n",
       "Tile and Terrazzo Contractors                                                                                                  9\n",
       "Machine Tool Manufacturing                                                                                                     9\n",
       "Conveyor and Conveying Equipment Manufacturing                                                                                 9\n",
       "Cheese Manufacturing                                                                                                           9\n",
       "Nature Parks and Other Similar Institutions                                                                                    9\n",
       "Drilling Oil and Gas Wells                                                                                                     9\n",
       "Dairy Cattle and Milk Production                                                                                               9\n",
       "Confectionery Manufacturing from Purchased Chocolate                                                                           9\n",
       "Custom Compounding of Purchased Resins                                                                                         9\n",
       "Marinas                                                                                                                        9\n",
       "Cosmetology and Barber Schools                                                                                                 9\n",
       "Casinos (except Casino Hotels)                                                                                                 9\n",
       "Language Schools                                                                                                               9\n",
       "Confectionery and Nut Retailers                                                                                                9\n",
       "All Other Miscellaneous General Purpose Machinery Manufacturing                                                                8\n",
       "Printing Ink Manufacturing                                                                                                     8\n",
       "Media Representatives                                                                                                          8\n",
       "Other Metal Container Manufacturing                                                                                            8\n",
       "Fabric Coating Mills                                                                                                           8\n",
       "Iron and Steel Pipe and Tube Manufacturing from Purchased Steel                                                                8\n",
       "Motor Vehicle Parts (Used) Merchant Wholesalers                                                                                8\n",
       "Postal Service                                                                                                                 8\n",
       "Semiconductor and Related Device Manufacturing                                                                                 8\n",
       "Landscape Architectural Services                                                                                               8\n",
       "Repossession Services                                                                                                          8\n",
       "Reupholstery and Furniture Repair                                                                                              8\n",
       "Other Spectator Sports                                                                                                         8\n",
       "Capacitor, Resistor, Coil, Transformer, and Other Inductor Manufacturing                                                       8\n",
       "Commercial Air, Rail, and Water Transportation Equipment Rental and Leasing                                                    8\n",
       "Commercial Photography                                                                                                         8\n",
       "Aluminum Sheet, Plate, and Foil Manufacturing                                                                                  8\n",
       "Packaging Machinery Manufacturing                                                                                              8\n",
       "Pulp Mills                                                                                                                     8\n",
       "Search, Detection, Navigation, Guidance, Aeronautical, and Nautical System and Instrument Manufacturing                        8\n",
       "Toy and Hobby Goods and Supplies Merchant Wholesalers                                                                          7\n",
       "Hazardous Waste Collection                                                                                                     7\n",
       "Administration of Air and Water Resource and Solid Waste Management Programs                                                   7\n",
       "Other Financial Vehicles                                                                                                       7\n",
       "Metal Heat Treating                                                                                                            7\n",
       "Rope, Cordage, Twine, Tire Cord, and Tire Fabric Mills                                                                         7\n",
       "Nonchocolate Confectionery Manufacturing                                                                                       7\n",
       "Automatic Environmental Control Manufacturing for Residential, Commercial, and Appliance Use                                   7\n",
       "Fossil Fuel Electric Power Generation                                                                                          7\n",
       "Household Furniture (except Wood and Upholstered) Manufacturing                                                                7\n",
       "Advertising Material Distribution Services                                                                                     7\n",
       "Locksmiths                                                                                                                     7\n",
       "Framing Contractors                                                                                                            7\n",
       "Construction Sand and Gravel Mining                                                                                            7\n",
       "Hunting and Trapping                                                                                                           7\n",
       "Other Nonhazardous Waste Treatment and Disposal                                                                                7\n",
       "Cut and Sew Apparel Contractors                                                                                                6\n",
       "Solar Electric Power Generation                                                                                                6\n",
       "Fire Protection                                                                                                                6\n",
       "Asphalt Shingle and Coating Materials Manufacturing                                                                            6\n",
       "Irradiation Apparatus Manufacturing                                                                                            6\n",
       "Ophthalmic Goods Merchant Wholesalers                                                                                          6\n",
       "Offices of Real Estate Appraisers                                                                                              6\n",
       "Industrial Sand Mining                                                                                                         6\n",
       "Footwear Merchant Wholesalers                                                                                                  6\n",
       "Monetary Authorities-Central Bank                                                                                              6\n",
       "Port and Harbor Operations                                                                                                     6\n",
       "Ground or Treated Mineral and Earth Manufacturing                                                                              6\n",
       "Floriculture Production                                                                                                        6\n",
       "Totalizing Fluid Meter and Counting Device Manufacturing                                                                       6\n",
       "Scenic and Sightseeing Transportation, Water                                                                                   6\n",
       "Reconstituted Wood Product Manufacturing                                                                                       5\n",
       "Distilleries                                                                                                                   5\n",
       "Other Fabricated Wire Product Manufacturing                                                                                    5\n",
       "Coal and Other Mineral and Ore Merchant Wholesalers                                                                            5\n",
       "Media Buying Agencies                                                                                                          5\n",
       "Direct Mail Advertising                                                                                                        5\n",
       "Musical Instrument and Supplies Retailers                                                                                      5\n",
       "Softwood Veneer and Plywood Manufacturing                                                                                      5\n",
       "Coastal and Great Lakes Passenger Transportation                                                                               5\n",
       "Industrial Design Services                                                                                                     5\n",
       "Fluid Milk Manufacturing                                                                                                       5\n",
       "Home and Garden Equipment Repair and Maintenance                                                                               5\n",
       "Other Performing Arts Companies                                                                                                5\n",
       "Concrete Block and Brick Manufacturing                                                                                         5\n",
       "Motor and Generator Manufacturing                                                                                              5\n",
       "Photofinishing Laboratories (except One-Hour)                                                                                  5\n",
       "Motion Picture and Video Distribution                                                                                          5\n",
       "Guided Missile and Space Vehicle Manufacturing                                                                                 5\n",
       "Instrument Manufacturing for Measuring and Testing Electricity and Electrical Signals                                          5\n",
       "Soybean and Other Oilseed Processing                                                                                           5\n",
       "Bolt, Nut, Screw, Rivet, and Washer Manufacturing                                                                              5\n",
       "Synthetic Rubber Manufacturing                                                                                                 5\n",
       "Other Electronic Component Manufacturing                                                                                       5\n",
       "Fertilizer (Mixing Only) Manufacturing                                                                                         5\n",
       "Nonferrous Forging                                                                                                             5\n",
       "Apiculture                                                                                                                     5\n",
       "Apprenticeship Training                                                                                                        4\n",
       "Nonupholstered Wood Household Furniture Manufacturing                                                                          4\n",
       "Steel Wire Drawing                                                                                                             4\n",
       "Heating Equipment (except Warm Air Furnaces) Manufacturing                                                                     4\n",
       "All Other Miscellaneous Crop Farming                                                                                           4\n",
       "Asphalt Paving Mixture and Block Manufacturing                                                                                 4\n",
       "Commodity Contracts Intermediation                                                                                             4\n",
       "Industrial Process Furnace and Oven Manufacturing                                                                              4\n",
       "Sound Recording Studios                                                                                                        4\n",
       "Boat Dealers                                                                                                                   4\n",
       "Other Nonmetallic Mineral Mining and Quarrying                                                                                 4\n",
       "Support Activities for Forestry                                                                                                4\n",
       "Elevator and Moving Stairway Manufacturing                                                                                     4\n",
       "Other Leather and Allied Product Manufacturing                                                                                 4\n",
       "Doll, Toy, and Game Manufacturing                                                                                              4\n",
       "Fish and Seafood Retailers                                                                                                     4\n",
       "Beef Cattle Ranching and Farming                                                                                               4\n",
       "Forest Nurseries and Gathering of Forest Products                                                                              4\n",
       "Support Activities for Animal Production                                                                                       4\n",
       "Iron and Steel Mills and Ferroalloy Manufacturing                                                                              4\n",
       "Rendering and Meat Byproduct Processing                                                                                        4\n",
       "Research and Development in Nanotechnology                                                                                     4\n",
       "Recreational Goods Rental                                                                                                      4\n",
       "Industrial Mold Manufacturing                                                                                                  4\n",
       "Skiing Facilities                                                                                                              3\n",
       "Noncurrent-Carrying Wiring Device Manufacturing                                                                                3\n",
       "Apple Orchards                                                                                                                 3\n",
       "Other Communication and Energy Wire Manufacturing                                                                              3\n",
       "Other Sound Recording Industries                                                                                               3\n",
       "Cutting Tool and Machine Tool Accessory Manufacturing                                                                          3\n",
       "Relay and Industrial Control Manufacturing                                                                                     3\n",
       "Racetracks                                                                                                                     3\n",
       "Military Armored Vehicle, Tank, and Tank Component Manufacturing                                                               3\n",
       "Other Metal Valve and Pipe Fitting Manufacturing                                                                               3\n",
       "Bed-and-Breakfast Inns                                                                                                         3\n",
       "Administration of General Economic Programs                                                                                    3\n",
       "Ship Building and Repairing                                                                                                    3\n",
       "Alumina Refining and Primary Aluminum Production                                                                               3\n",
       "Soil Preparation, Planting, and Cultivating                                                                                    3\n",
       "Deep Sea Freight Transportation                                                                                                3\n",
       "Strawberry Farming                                                                                                             3\n",
       "Securities and Commodity Exchanges                                                                                             3\n",
       "Line-Haul Railroads                                                                                                            3\n",
       "Oil and Gas Field Machinery and Equipment Manufacturing                                                                        3\n",
       "Savings Institutions and Other Depository Credit Intermediation                                                                3\n",
       "Guided Missile and Space Vehicle Propulsion Unit and Propulsion Unit Parts Manufacturing                                       3\n",
       "Narrow Fabric Mills and Schiffli Machine Embroidery                                                                            3\n",
       "Deep Sea Passenger Transportation                                                                                              3\n",
       "Taxi and Ridesharing Services                                                                                                  3\n",
       "Power-Driven Handtool Manufacturing                                                                                            3\n",
       "Tire Retreading                                                                                                                3\n",
       "All Other Miscellaneous Electrical Equipment and Component Manufacturing                                                       2\n",
       "Frozen Fruit, Juice, and Vegetable Manufacturing                                                                               2\n",
       "Printing and Writing Paper Merchant Wholesalers                                                                                2\n",
       "Cyclic Crude, Intermediate, and Gum and Wood Chemical Manufacturing                                                            2\n",
       "Nonferrous Metal Die-Casting Foundries                                                                                         2\n",
       "Dry, Condensed, and Evaporated Dairy Product Manufacturing                                                                     2\n",
       "Art Dealers                                                                                                                    2\n",
       "Speed Changer, Industrial High-Speed Drive, and Gear Manufacturing                                                             2\n",
       "Potato Farming                                                                                                                 2\n",
       "Other Specialized Design Services                                                                                              2\n",
       "Spring Manufacturing                                                                                                           2\n",
       "Fluid Power Valve and Hose Fitting Manufacturing                                                                               2\n",
       "American Indian and Alaska Native Tribal Governments                                                                           2\n",
       "Formal Wear and Costume Rental                                                                                                 2\n",
       "All Other Basic Organic Chemical Manufacturing                                                                                 2\n",
       "Inland Water Freight Transportation                                                                                            2\n",
       "Scheduled Freight Air Transportation                                                                                           2\n",
       "Wineries                                                                                                                       2\n",
       "Custom Roll Forming                                                                                                            1\n",
       "Inland Water Passenger Transportation                                                                                          1\n",
       "Pension Funds                                                                                                                  1\n",
       "Saw Blade and Handtool Manufacturing                                                                                           1\n",
       "Coastal and Great Lakes Freight Transportation                                                                                 1\n",
       "Air and Gas Compressor Manufacturing                                                                                           1\n",
       "Name: count, dtype: int64"
      ]
     },
     "execution_count": 59,
     "metadata": {},
     "output_type": "execute_result"
    }
   ],
   "source": [
    "data[\"latest_industry_code_of_employment_after_exit_quarter\"].value_counts()"
   ]
  },
  {
   "cell_type": "markdown",
   "metadata": {},
   "source": [
    "### Retention stats"
   ]
  },
  {
   "cell_type": "code",
   "execution_count": 60,
   "metadata": {},
   "outputs": [
    {
     "data": {
      "text/plain": [
       "retention_with_the_same_employer_in_the_2nd_quarter_and_the_4th_quarter_wioa\n",
       "0    325189\n",
       "1     45741\n",
       "Name: count, dtype: int64"
      ]
     },
     "execution_count": 60,
     "metadata": {},
     "output_type": "execute_result"
    }
   ],
   "source": [
    "data['retention_with_the_same_employer_in_the_2nd_quarter_and_the_4th_quarter_wioa'].value_counts()"
   ]
  },
  {
   "cell_type": "code",
   "execution_count": 61,
   "metadata": {},
   "outputs": [],
   "source": [
    "industry_codes = data.groupby('latest_industry_code_of_employment_after_exit_quarter')['retention_with_the_same_employer_in_the_2nd_quarter_and_the_4th_quarter_wioa'].value_counts().reset_index()\n",
    "\n",
    "retained_industry_codes = industry_codes.loc[industry_codes.retention_with_the_same_employer_in_the_2nd_quarter_and_the_4th_quarter_wioa == 1].sort_values(['retention_with_the_same_employer_in_the_2nd_quarter_and_the_4th_quarter_wioa','count'], ascending=False)\n",
    "dropped_industry_codes = industry_codes.loc[industry_codes.retention_with_the_same_employer_in_the_2nd_quarter_and_the_4th_quarter_wioa == 0].sort_values(['retention_with_the_same_employer_in_the_2nd_quarter_and_the_4th_quarter_wioa','count'], ascending=False)"
   ]
  },
  {
   "cell_type": "code",
   "execution_count": 62,
   "metadata": {},
   "outputs": [],
   "source": [
    "retained_industry_codes.columns = ['industry_code', 'retained_flag', 'count_of_retained_employment']\n",
    "dropped_industry_codes.columns = ['industry_code', 'dropped_flag', 'count_of_dropped_employment']"
   ]
  },
  {
   "cell_type": "code",
   "execution_count": 63,
   "metadata": {},
   "outputs": [],
   "source": [
    "retained_industry_codes.to_csv('dashboard_data/retained_industry_codes.csv')\n",
    "dropped_industry_codes.to_csv('dashboard_data/dropped_industry_codes.csv')"
   ]
  },
  {
   "cell_type": "code",
   "execution_count": 64,
   "metadata": {},
   "outputs": [
    {
     "data": {
      "text/html": [
       "<div>\n",
       "<style scoped>\n",
       "    .dataframe tbody tr th:only-of-type {\n",
       "        vertical-align: middle;\n",
       "    }\n",
       "\n",
       "    .dataframe tbody tr th {\n",
       "        vertical-align: top;\n",
       "    }\n",
       "\n",
       "    .dataframe thead th {\n",
       "        text-align: right;\n",
       "    }\n",
       "</style>\n",
       "<table border=\"1\" class=\"dataframe\">\n",
       "  <thead>\n",
       "    <tr style=\"text-align: right;\">\n",
       "      <th></th>\n",
       "      <th>industry_code</th>\n",
       "      <th>retained_flag</th>\n",
       "      <th>count_of_retained_employment</th>\n",
       "    </tr>\n",
       "  </thead>\n",
       "  <tbody>\n",
       "    <tr>\n",
       "      <th>611</th>\n",
       "      <td>General Medical and Surgical Hospitals</td>\n",
       "      <td>1</td>\n",
       "      <td>1446</td>\n",
       "    </tr>\n",
       "    <tr>\n",
       "      <th>463</th>\n",
       "      <td>Elementary and Secondary Schools</td>\n",
       "      <td>1</td>\n",
       "      <td>1247</td>\n",
       "    </tr>\n",
       "    <tr>\n",
       "      <th>615</th>\n",
       "      <td>General Warehousing and Storage</td>\n",
       "      <td>1</td>\n",
       "      <td>1210</td>\n",
       "    </tr>\n",
       "    <tr>\n",
       "      <th>589</th>\n",
       "      <td>Full-Service Restaurants</td>\n",
       "      <td>1</td>\n",
       "      <td>1175</td>\n",
       "    </tr>\n",
       "    <tr>\n",
       "      <th>1285</th>\n",
       "      <td>Professional Employer Organizations</td>\n",
       "      <td>1</td>\n",
       "      <td>1122</td>\n",
       "    </tr>\n",
       "    <tr>\n",
       "      <th>405</th>\n",
       "      <td>Department Stores</td>\n",
       "      <td>1</td>\n",
       "      <td>1056</td>\n",
       "    </tr>\n",
       "    <tr>\n",
       "      <th>778</th>\n",
       "      <td>Limited-Service Restaurants</td>\n",
       "      <td>1</td>\n",
       "      <td>974</td>\n",
       "    </tr>\n",
       "    <tr>\n",
       "      <th>981</th>\n",
       "      <td>Offices of Physicians (except Mental Health Sp...</td>\n",
       "      <td>1</td>\n",
       "      <td>794</td>\n",
       "    </tr>\n",
       "    <tr>\n",
       "      <th>485</th>\n",
       "      <td>Executive and Legislative Offices, Combined</td>\n",
       "      <td>1</td>\n",
       "      <td>735</td>\n",
       "    </tr>\n",
       "    <tr>\n",
       "      <th>669</th>\n",
       "      <td>Hotels (except Casino Hotels) and Motels</td>\n",
       "      <td>1</td>\n",
       "      <td>627</td>\n",
       "    </tr>\n",
       "    <tr>\n",
       "      <th>1493</th>\n",
       "      <td>Supermarkets and Other Grocery Retailers (exce...</td>\n",
       "      <td>1</td>\n",
       "      <td>573</td>\n",
       "    </tr>\n",
       "    <tr>\n",
       "      <th>301</th>\n",
       "      <td>Computer Systems Design Services</td>\n",
       "      <td>1</td>\n",
       "      <td>495</td>\n",
       "    </tr>\n",
       "    <tr>\n",
       "      <th>49</th>\n",
       "      <td>All Other General Merchandise Retailers</td>\n",
       "      <td>1</td>\n",
       "      <td>480</td>\n",
       "    </tr>\n",
       "    <tr>\n",
       "      <th>1618</th>\n",
       "      <td>Wholesale Trade Agents and Brokers</td>\n",
       "      <td>1</td>\n",
       "      <td>472</td>\n",
       "    </tr>\n",
       "    <tr>\n",
       "      <th>1408</th>\n",
       "      <td>Security Guards and Patrol Services</td>\n",
       "      <td>1</td>\n",
       "      <td>467</td>\n",
       "    </tr>\n",
       "    <tr>\n",
       "      <th>1523</th>\n",
       "      <td>Telemarketing Bureaus and Other Contact Centers</td>\n",
       "      <td>1</td>\n",
       "      <td>463</td>\n",
       "    </tr>\n",
       "    <tr>\n",
       "      <th>720</th>\n",
       "      <td>Insurance Agencies and Brokerages</td>\n",
       "      <td>1</td>\n",
       "      <td>457</td>\n",
       "    </tr>\n",
       "    <tr>\n",
       "      <th>344</th>\n",
       "      <td>Corporate, Subsidiary, and Regional Managing O...</td>\n",
       "      <td>1</td>\n",
       "      <td>452</td>\n",
       "    </tr>\n",
       "    <tr>\n",
       "      <th>274</th>\n",
       "      <td>Colleges, Universities, and Professional Schools</td>\n",
       "      <td>1</td>\n",
       "      <td>420</td>\n",
       "    </tr>\n",
       "    <tr>\n",
       "      <th>663</th>\n",
       "      <td>Home Health Care Services</td>\n",
       "      <td>1</td>\n",
       "      <td>392</td>\n",
       "    </tr>\n",
       "  </tbody>\n",
       "</table>\n",
       "</div>"
      ],
      "text/plain": [
       "                                          industry_code  retained_flag  \\\n",
       "611             General Medical and Surgical Hospitals               1   \n",
       "463                   Elementary and Secondary Schools               1   \n",
       "615                    General Warehousing and Storage               1   \n",
       "589                           Full-Service Restaurants               1   \n",
       "1285                Professional Employer Organizations              1   \n",
       "405                                  Department Stores               1   \n",
       "778                        Limited-Service Restaurants               1   \n",
       "981   Offices of Physicians (except Mental Health Sp...              1   \n",
       "485        Executive and Legislative Offices, Combined               1   \n",
       "669           Hotels (except Casino Hotels) and Motels               1   \n",
       "1493  Supermarkets and Other Grocery Retailers (exce...              1   \n",
       "301                   Computer Systems Design Services               1   \n",
       "49             All Other General Merchandise Retailers               1   \n",
       "1618                Wholesale Trade Agents and Brokers               1   \n",
       "1408               Security Guards and Patrol Services               1   \n",
       "1523   Telemarketing Bureaus and Other Contact Centers               1   \n",
       "720                  Insurance Agencies and Brokerages               1   \n",
       "344   Corporate, Subsidiary, and Regional Managing O...              1   \n",
       "274   Colleges, Universities, and Professional Schools               1   \n",
       "663                           Home Health Care Services              1   \n",
       "\n",
       "      count_of_retained_employment  \n",
       "611                           1446  \n",
       "463                           1247  \n",
       "615                           1210  \n",
       "589                           1175  \n",
       "1285                          1122  \n",
       "405                           1056  \n",
       "778                            974  \n",
       "981                            794  \n",
       "485                            735  \n",
       "669                            627  \n",
       "1493                           573  \n",
       "301                            495  \n",
       "49                             480  \n",
       "1618                           472  \n",
       "1408                           467  \n",
       "1523                           463  \n",
       "720                            457  \n",
       "344                            452  \n",
       "274                            420  \n",
       "663                            392  "
      ]
     },
     "execution_count": 64,
     "metadata": {},
     "output_type": "execute_result"
    }
   ],
   "source": [
    "retained_industry_codes[1:21]"
   ]
  },
  {
   "cell_type": "code",
   "execution_count": 65,
   "metadata": {},
   "outputs": [
    {
     "data": {
      "text/html": [
       "<div>\n",
       "<style scoped>\n",
       "    .dataframe tbody tr th:only-of-type {\n",
       "        vertical-align: middle;\n",
       "    }\n",
       "\n",
       "    .dataframe tbody tr th {\n",
       "        vertical-align: top;\n",
       "    }\n",
       "\n",
       "    .dataframe thead th {\n",
       "        text-align: right;\n",
       "    }\n",
       "</style>\n",
       "<table border=\"1\" class=\"dataframe\">\n",
       "  <thead>\n",
       "    <tr style=\"text-align: right;\">\n",
       "      <th></th>\n",
       "      <th>industry_code</th>\n",
       "      <th>dropped_flag</th>\n",
       "      <th>count_of_dropped_employment</th>\n",
       "    </tr>\n",
       "  </thead>\n",
       "  <tbody>\n",
       "    <tr>\n",
       "      <th>777</th>\n",
       "      <td>Limited-Service Restaurants</td>\n",
       "      <td>0</td>\n",
       "      <td>2674</td>\n",
       "    </tr>\n",
       "    <tr>\n",
       "      <th>1284</th>\n",
       "      <td>Professional Employer Organizations</td>\n",
       "      <td>0</td>\n",
       "      <td>2553</td>\n",
       "    </tr>\n",
       "    <tr>\n",
       "      <th>588</th>\n",
       "      <td>Full-Service Restaurants</td>\n",
       "      <td>0</td>\n",
       "      <td>2378</td>\n",
       "    </tr>\n",
       "    <tr>\n",
       "      <th>614</th>\n",
       "      <td>General Warehousing and Storage</td>\n",
       "      <td>0</td>\n",
       "      <td>1939</td>\n",
       "    </tr>\n",
       "    <tr>\n",
       "      <th>610</th>\n",
       "      <td>General Medical and Surgical Hospitals</td>\n",
       "      <td>0</td>\n",
       "      <td>1743</td>\n",
       "    </tr>\n",
       "    <tr>\n",
       "      <th>462</th>\n",
       "      <td>Elementary and Secondary Schools</td>\n",
       "      <td>0</td>\n",
       "      <td>1472</td>\n",
       "    </tr>\n",
       "    <tr>\n",
       "      <th>404</th>\n",
       "      <td>Department Stores</td>\n",
       "      <td>0</td>\n",
       "      <td>1458</td>\n",
       "    </tr>\n",
       "    <tr>\n",
       "      <th>668</th>\n",
       "      <td>Hotels (except Casino Hotels) and Motels</td>\n",
       "      <td>0</td>\n",
       "      <td>1167</td>\n",
       "    </tr>\n",
       "    <tr>\n",
       "      <th>48</th>\n",
       "      <td>All Other General Merchandise Retailers</td>\n",
       "      <td>0</td>\n",
       "      <td>1115</td>\n",
       "    </tr>\n",
       "    <tr>\n",
       "      <th>1522</th>\n",
       "      <td>Telemarketing Bureaus and Other Contact Centers</td>\n",
       "      <td>0</td>\n",
       "      <td>1112</td>\n",
       "    </tr>\n",
       "    <tr>\n",
       "      <th>1492</th>\n",
       "      <td>Supermarkets and Other Grocery Retailers (exce...</td>\n",
       "      <td>0</td>\n",
       "      <td>1110</td>\n",
       "    </tr>\n",
       "    <tr>\n",
       "      <th>980</th>\n",
       "      <td>Offices of Physicians (except Mental Health Sp...</td>\n",
       "      <td>0</td>\n",
       "      <td>1084</td>\n",
       "    </tr>\n",
       "    <tr>\n",
       "      <th>484</th>\n",
       "      <td>Executive and Legislative Offices, Combined</td>\n",
       "      <td>0</td>\n",
       "      <td>956</td>\n",
       "    </tr>\n",
       "    <tr>\n",
       "      <th>468</th>\n",
       "      <td>Employment Placement Agencies</td>\n",
       "      <td>0</td>\n",
       "      <td>893</td>\n",
       "    </tr>\n",
       "    <tr>\n",
       "      <th>1407</th>\n",
       "      <td>Security Guards and Patrol Services</td>\n",
       "      <td>0</td>\n",
       "      <td>841</td>\n",
       "    </tr>\n",
       "    <tr>\n",
       "      <th>875</th>\n",
       "      <td>Motion Picture and Video Production</td>\n",
       "      <td>0</td>\n",
       "      <td>804</td>\n",
       "    </tr>\n",
       "    <tr>\n",
       "      <th>719</th>\n",
       "      <td>Insurance Agencies and Brokerages</td>\n",
       "      <td>0</td>\n",
       "      <td>789</td>\n",
       "    </tr>\n",
       "    <tr>\n",
       "      <th>598</th>\n",
       "      <td>Gasoline Stations with Convenience Stores</td>\n",
       "      <td>0</td>\n",
       "      <td>736</td>\n",
       "    </tr>\n",
       "    <tr>\n",
       "      <th>300</th>\n",
       "      <td>Computer Systems Design Services</td>\n",
       "      <td>0</td>\n",
       "      <td>734</td>\n",
       "    </tr>\n",
       "    <tr>\n",
       "      <th>357</th>\n",
       "      <td>Couriers and Express Delivery Services</td>\n",
       "      <td>0</td>\n",
       "      <td>723</td>\n",
       "    </tr>\n",
       "  </tbody>\n",
       "</table>\n",
       "</div>"
      ],
      "text/plain": [
       "                                          industry_code  dropped_flag  \\\n",
       "777                        Limited-Service Restaurants              0   \n",
       "1284                Professional Employer Organizations             0   \n",
       "588                           Full-Service Restaurants              0   \n",
       "614                    General Warehousing and Storage              0   \n",
       "610             General Medical and Surgical Hospitals              0   \n",
       "462                   Elementary and Secondary Schools              0   \n",
       "404                                  Department Stores              0   \n",
       "668           Hotels (except Casino Hotels) and Motels              0   \n",
       "48             All Other General Merchandise Retailers              0   \n",
       "1522   Telemarketing Bureaus and Other Contact Centers              0   \n",
       "1492  Supermarkets and Other Grocery Retailers (exce...             0   \n",
       "980   Offices of Physicians (except Mental Health Sp...             0   \n",
       "484        Executive and Legislative Offices, Combined              0   \n",
       "468                      Employment Placement Agencies              0   \n",
       "1407               Security Guards and Patrol Services              0   \n",
       "875                Motion Picture and Video Production              0   \n",
       "719                  Insurance Agencies and Brokerages              0   \n",
       "598          Gasoline Stations with Convenience Stores              0   \n",
       "300                   Computer Systems Design Services              0   \n",
       "357              Couriers and Express Delivery Services             0   \n",
       "\n",
       "      count_of_dropped_employment  \n",
       "777                          2674  \n",
       "1284                         2553  \n",
       "588                          2378  \n",
       "614                          1939  \n",
       "610                          1743  \n",
       "462                          1472  \n",
       "404                          1458  \n",
       "668                          1167  \n",
       "48                           1115  \n",
       "1522                         1112  \n",
       "1492                         1110  \n",
       "980                          1084  \n",
       "484                           956  \n",
       "468                           893  \n",
       "1407                          841  \n",
       "875                           804  \n",
       "719                           789  \n",
       "598                           736  \n",
       "300                           734  \n",
       "357                           723  "
      ]
     },
     "execution_count": 65,
     "metadata": {},
     "output_type": "execute_result"
    }
   ],
   "source": [
    "dropped_industry_codes[1:21]"
   ]
  },
  {
   "cell_type": "markdown",
   "metadata": {},
   "source": [
    "### Total Industry Counts \n",
    "\n",
    "more inclusive count - i.e. if someone switched jobs"
   ]
  },
  {
   "cell_type": "code",
   "execution_count": 66,
   "metadata": {},
   "outputs": [
    {
     "data": {
      "text/html": [
       "<div>\n",
       "<style scoped>\n",
       "    .dataframe tbody tr th:only-of-type {\n",
       "        vertical-align: middle;\n",
       "    }\n",
       "\n",
       "    .dataframe tbody tr th {\n",
       "        vertical-align: top;\n",
       "    }\n",
       "\n",
       "    .dataframe thead th {\n",
       "        text-align: right;\n",
       "    }\n",
       "</style>\n",
       "<table border=\"1\" class=\"dataframe\">\n",
       "  <thead>\n",
       "    <tr style=\"text-align: right;\">\n",
       "      <th></th>\n",
       "      <th>col1</th>\n",
       "      <th>count</th>\n",
       "    </tr>\n",
       "  </thead>\n",
       "  <tbody>\n",
       "    <tr>\n",
       "      <th>792</th>\n",
       "      <td>Temporary Help Services</td>\n",
       "      <td>35247</td>\n",
       "    </tr>\n",
       "    <tr>\n",
       "      <th>304</th>\n",
       "      <td>Full-Service Restaurants</td>\n",
       "      <td>9890</td>\n",
       "    </tr>\n",
       "    <tr>\n",
       "      <th>403</th>\n",
       "      <td>Limited-Service Restaurants</td>\n",
       "      <td>9573</td>\n",
       "    </tr>\n",
       "    <tr>\n",
       "      <th>663</th>\n",
       "      <td>Professional Employer Organizations</td>\n",
       "      <td>9452</td>\n",
       "    </tr>\n",
       "    <tr>\n",
       "      <th>317</th>\n",
       "      <td>General Warehousing and Storage</td>\n",
       "      <td>8945</td>\n",
       "    </tr>\n",
       "    <tr>\n",
       "      <th>315</th>\n",
       "      <td>General Medical and Surgical Hospitals</td>\n",
       "      <td>8869</td>\n",
       "    </tr>\n",
       "    <tr>\n",
       "      <th>209</th>\n",
       "      <td>Department Stores</td>\n",
       "      <td>6873</td>\n",
       "    </tr>\n",
       "    <tr>\n",
       "      <th>238</th>\n",
       "      <td>Elementary and Secondary Schools</td>\n",
       "      <td>6844</td>\n",
       "    </tr>\n",
       "    <tr>\n",
       "      <th>507</th>\n",
       "      <td>Offices of Physicians (except Mental Health Sp...</td>\n",
       "      <td>5147</td>\n",
       "    </tr>\n",
       "    <tr>\n",
       "      <th>346</th>\n",
       "      <td>Hotels (except Casino Hotels) and Motels</td>\n",
       "      <td>4944</td>\n",
       "    </tr>\n",
       "    <tr>\n",
       "      <th>788</th>\n",
       "      <td>Telemarketing Bureaus and Other Contact Centers</td>\n",
       "      <td>4448</td>\n",
       "    </tr>\n",
       "    <tr>\n",
       "      <th>772</th>\n",
       "      <td>Supermarkets and Other Grocery Retailers (exce...</td>\n",
       "      <td>4412</td>\n",
       "    </tr>\n",
       "    <tr>\n",
       "      <th>249</th>\n",
       "      <td>Executive and Legislative Offices, Combined</td>\n",
       "      <td>4201</td>\n",
       "    </tr>\n",
       "    <tr>\n",
       "      <th>25</th>\n",
       "      <td>All Other General Merchandise Retailers</td>\n",
       "      <td>4101</td>\n",
       "    </tr>\n",
       "    <tr>\n",
       "      <th>241</th>\n",
       "      <td>Employment Placement Agencies</td>\n",
       "      <td>3590</td>\n",
       "    </tr>\n",
       "    <tr>\n",
       "      <th>156</th>\n",
       "      <td>Computer Systems Design Services</td>\n",
       "      <td>3534</td>\n",
       "    </tr>\n",
       "    <tr>\n",
       "      <th>726</th>\n",
       "      <td>Security Guards and Patrol Services</td>\n",
       "      <td>3505</td>\n",
       "    </tr>\n",
       "    <tr>\n",
       "      <th>373</th>\n",
       "      <td>Insurance Agencies and Brokerages</td>\n",
       "      <td>3083</td>\n",
       "    </tr>\n",
       "    <tr>\n",
       "      <th>343</th>\n",
       "      <td>Home Health Care Services</td>\n",
       "      <td>2987</td>\n",
       "    </tr>\n",
       "    <tr>\n",
       "      <th>836</th>\n",
       "      <td>Wholesale Trade Agents and Brokers</td>\n",
       "      <td>2800</td>\n",
       "    </tr>\n",
       "    <tr>\n",
       "      <th>453</th>\n",
       "      <td>Motion Picture and Video Production</td>\n",
       "      <td>2748</td>\n",
       "    </tr>\n",
       "    <tr>\n",
       "      <th>341</th>\n",
       "      <td>Home Centers</td>\n",
       "      <td>2583</td>\n",
       "    </tr>\n",
       "    <tr>\n",
       "      <th>196</th>\n",
       "      <td>Custom Computer Programming Services</td>\n",
       "      <td>2559</td>\n",
       "    </tr>\n",
       "    <tr>\n",
       "      <th>129</th>\n",
       "      <td>Child Care Services</td>\n",
       "      <td>2557</td>\n",
       "    </tr>\n",
       "    <tr>\n",
       "      <th>309</th>\n",
       "      <td>Gasoline Stations with Convenience Stores</td>\n",
       "      <td>2540</td>\n",
       "    </tr>\n",
       "    <tr>\n",
       "      <th>313</th>\n",
       "      <td>General Freight Trucking, Long-Distance, Truck...</td>\n",
       "      <td>2489</td>\n",
       "    </tr>\n",
       "    <tr>\n",
       "      <th>178</th>\n",
       "      <td>Corporate, Subsidiary, and Regional Managing O...</td>\n",
       "      <td>2449</td>\n",
       "    </tr>\n",
       "    <tr>\n",
       "      <th>243</th>\n",
       "      <td>Engineering Services</td>\n",
       "      <td>2421</td>\n",
       "    </tr>\n",
       "    <tr>\n",
       "      <th>142</th>\n",
       "      <td>Colleges, Universities, and Professional Schools</td>\n",
       "      <td>2414</td>\n",
       "    </tr>\n",
       "    <tr>\n",
       "      <th>185</th>\n",
       "      <td>Couriers and Express Delivery Services</td>\n",
       "      <td>2400</td>\n",
       "    </tr>\n",
       "  </tbody>\n",
       "</table>\n",
       "</div>"
      ],
      "text/plain": [
       "                                                  col1  count\n",
       "792                            Temporary Help Services  35247\n",
       "304                          Full-Service Restaurants    9890\n",
       "403                       Limited-Service Restaurants    9573\n",
       "663                Professional Employer Organizations   9452\n",
       "317                   General Warehousing and Storage    8945\n",
       "315            General Medical and Surgical Hospitals    8869\n",
       "209                                 Department Stores    6873\n",
       "238                  Elementary and Secondary Schools    6844\n",
       "507  Offices of Physicians (except Mental Health Sp...   5147\n",
       "346          Hotels (except Casino Hotels) and Motels    4944\n",
       "788   Telemarketing Bureaus and Other Contact Centers    4448\n",
       "772  Supermarkets and Other Grocery Retailers (exce...   4412\n",
       "249       Executive and Legislative Offices, Combined    4201\n",
       "25            All Other General Merchandise Retailers    4101\n",
       "241                     Employment Placement Agencies    3590\n",
       "156                  Computer Systems Design Services    3534\n",
       "726               Security Guards and Patrol Services    3505\n",
       "373                 Insurance Agencies and Brokerages    3083\n",
       "343                          Home Health Care Services   2987\n",
       "836                Wholesale Trade Agents and Brokers    2800\n",
       "453               Motion Picture and Video Production    2748\n",
       "341                                      Home Centers    2583\n",
       "196              Custom Computer Programming Services    2559\n",
       "129                               Child Care Services    2557\n",
       "309         Gasoline Stations with Convenience Stores    2540\n",
       "313  General Freight Trucking, Long-Distance, Truck...   2489\n",
       "178  Corporate, Subsidiary, and Regional Managing O...   2449\n",
       "243                               Engineering Services   2421\n",
       "142  Colleges, Universities, and Professional Schools    2414\n",
       "185             Couriers and Express Delivery Services   2400"
      ]
     },
     "execution_count": 66,
     "metadata": {},
     "output_type": "execute_result"
    }
   ],
   "source": [
    "columns = [\n",
    "    'industry_code_of_employment_1st_quarter_after_exit_quarter',\n",
    "    \"industry_code_of_employment_2nd_quarter_after_exit_quarter\",\n",
    "    \"industry_code_of_employment_3rd_quarter_after_exit_quarter\",\n",
    "    \"industry_code_of_employment_4th_quarter_after_exit_quarter\"\n",
    "]\n",
    "\n",
    "df1 = data[\"industry_code_of_employment_1st_quarter_after_exit_quarter\"].value_counts().reset_index()\n",
    "df2 = data[\"industry_code_of_employment_2nd_quarter_after_exit_quarter\"].value_counts().reset_index()\n",
    "df3 = data[\"industry_code_of_employment_3rd_quarter_after_exit_quarter\"].value_counts().reset_index()\n",
    "df4 = data[\"industry_code_of_employment_4th_quarter_after_exit_quarter\"].value_counts().reset_index()\n",
    "\n",
    "df1.columns = ['col1', 'count']\n",
    "df2.columns = ['col1', 'count']\n",
    "df3.columns = ['col1', 'count']\n",
    "df4.columns = ['col1', 'count']\n",
    "\n",
    "df_industry_counts = pd.concat([df1, df2, df3, df4])\n",
    "df_industry_counts = df_industry_counts.groupby('col1').sum().reset_index()\n",
    "df_industry_counts.sort_values('count', ascending=False)[:30]"
   ]
  },
  {
   "cell_type": "code",
   "execution_count": 67,
   "metadata": {},
   "outputs": [],
   "source": [
    "df_industry_counts.columns = ['industry_code', 'count']"
   ]
  },
  {
   "cell_type": "code",
   "execution_count": 68,
   "metadata": {},
   "outputs": [],
   "source": [
    "df_industry_counts.to_csv('dashboard_data/industry_counts.csv')"
   ]
  },
  {
   "cell_type": "markdown",
   "metadata": {},
   "source": [
    "### Consolidating employment status to see if they were ever employed after the program\n"
   ]
  },
  {
   "cell_type": "code",
   "execution_count": 69,
   "metadata": {},
   "outputs": [
    {
     "name": "stderr",
     "output_type": "stream",
     "text": [
      "/var/folders/d4/rcb0hfcs0bzgr7z0mw72lc_w0000gn/T/ipykernel_44399/3118702770.py:11: FutureWarning:\n",
      "\n",
      "Downcasting object dtype arrays on .fillna, .ffill, .bfill is deprecated and will change in a future version. Call result.infer_objects(copy=False) instead. To opt-in to the future behavior, set `pd.set_option('future.no_silent_downcasting', True)`\n",
      "\n",
      "/var/folders/d4/rcb0hfcs0bzgr7z0mw72lc_w0000gn/T/ipykernel_44399/3118702770.py:13: FutureWarning:\n",
      "\n",
      "Downcasting object dtype arrays on .fillna, .ffill, .bfill is deprecated and will change in a future version. Call result.infer_objects(copy=False) instead. To opt-in to the future behavior, set `pd.set_option('future.no_silent_downcasting', True)`\n",
      "\n"
     ]
    },
    {
     "data": {
      "text/plain": [
       "employment_status_after_program\n",
       "0    242301\n",
       "1    128629\n",
       "Name: count, dtype: int64"
      ]
     },
     "execution_count": 69,
     "metadata": {},
     "output_type": "execute_result"
    }
   ],
   "source": [
    "temp = data.copy()\n",
    "\n",
    "cols = [\"type_of_employment_match_1st_quarter_after_exit_quarter_wioa\",\n",
    "    \"type_of_employment_match_2nd_quarter_after_exit_quarter_wioa\",\n",
    "    \"type_of_employment_match_3rd_quarter_after_exit_quarter_wioa\",\n",
    "    \"type_of_employment_match_4th_quarter_after_exit_quarter_wioa\"\n",
    "]\n",
    "\n",
    "temp[cols] = temp[cols].replace(0,pd.NA)\n",
    "\n",
    "data['employment_status_after_program'] = temp[cols].bfill(axis=1).iloc[:, 0]\n",
    "\n",
    "data['employment_status_after_program'] = data['employment_status_after_program'].fillna(0)\n",
    "\n",
    "data['employment_status_after_program'].value_counts()"
   ]
  },
  {
   "cell_type": "markdown",
   "metadata": {},
   "source": [
    "#### Employment status at each quarter"
   ]
  },
  {
   "cell_type": "code",
   "execution_count": 70,
   "metadata": {},
   "outputs": [],
   "source": [
    "\n",
    "# Define the relevant columns and corresponding quarter numbers\n",
    "quarters = {\n",
    "    \"type_of_employment_match_1st_quarter_after_exit_quarter_wioa\": 1,\n",
    "    \"type_of_employment_match_2nd_quarter_after_exit_quarter_wioa\": 2,\n",
    "    \"type_of_employment_match_3rd_quarter_after_exit_quarter_wioa\": 3,\n",
    "    \"type_of_employment_match_4th_quarter_after_exit_quarter_wioa\": 4,\n",
    "}\n",
    "\n",
    "# Process all quarters in a single step\n",
    "df_list = [\n",
    "    data[col].value_counts().reset_index().assign(quarter=quarter).rename(columns={\"index\": \"col1\", col: \"count\"})\n",
    "    for col, quarter in quarters.items()\n",
    "]\n",
    "\n",
    "# Concatenate all quarter data into one DataFrame\n",
    "df_quarterly_employment = pd.concat(df_list, ignore_index=True)\n",
    "\n",
    "\n"
   ]
  },
  {
   "cell_type": "code",
   "execution_count": 71,
   "metadata": {},
   "outputs": [
    {
     "data": {
      "text/html": [
       "<div>\n",
       "<style scoped>\n",
       "    .dataframe tbody tr th:only-of-type {\n",
       "        vertical-align: middle;\n",
       "    }\n",
       "\n",
       "    .dataframe tbody tr th {\n",
       "        vertical-align: top;\n",
       "    }\n",
       "\n",
       "    .dataframe thead th {\n",
       "        text-align: right;\n",
       "    }\n",
       "</style>\n",
       "<table border=\"1\" class=\"dataframe\">\n",
       "  <thead>\n",
       "    <tr style=\"text-align: right;\">\n",
       "      <th></th>\n",
       "      <th>employment_status</th>\n",
       "      <th>count</th>\n",
       "      <th>quarter</th>\n",
       "    </tr>\n",
       "  </thead>\n",
       "  <tbody>\n",
       "    <tr>\n",
       "      <th>0</th>\n",
       "      <td>0</td>\n",
       "      <td>263827</td>\n",
       "      <td>1</td>\n",
       "    </tr>\n",
       "    <tr>\n",
       "      <th>1</th>\n",
       "      <td>1</td>\n",
       "      <td>107103</td>\n",
       "      <td>1</td>\n",
       "    </tr>\n",
       "    <tr>\n",
       "      <th>2</th>\n",
       "      <td>0</td>\n",
       "      <td>276125</td>\n",
       "      <td>2</td>\n",
       "    </tr>\n",
       "    <tr>\n",
       "      <th>3</th>\n",
       "      <td>1</td>\n",
       "      <td>94805</td>\n",
       "      <td>2</td>\n",
       "    </tr>\n",
       "    <tr>\n",
       "      <th>4</th>\n",
       "      <td>0</td>\n",
       "      <td>290317</td>\n",
       "      <td>3</td>\n",
       "    </tr>\n",
       "  </tbody>\n",
       "</table>\n",
       "</div>"
      ],
      "text/plain": [
       "   employment_status   count  quarter\n",
       "0                  0  263827        1\n",
       "1                  1  107103        1\n",
       "2                  0  276125        2\n",
       "3                  1   94805        2\n",
       "4                  0  290317        3"
      ]
     },
     "execution_count": 71,
     "metadata": {},
     "output_type": "execute_result"
    }
   ],
   "source": [
    "df_quarterly_employment.columns = ['employment_status', 'count', 'quarter']\n",
    "df_quarterly_employment.head(5)"
   ]
  },
  {
   "cell_type": "code",
   "execution_count": 72,
   "metadata": {},
   "outputs": [],
   "source": [
    "df_quarterly_employment.to_csv('dashboard_data/quarterly_employment.csv')"
   ]
  },
  {
   "cell_type": "code",
   "execution_count": 73,
   "metadata": {},
   "outputs": [
    {
     "data": {
      "application/vnd.plotly.v1+json": {
       "config": {
        "plotlyServerURL": "https://plot.ly"
       },
       "data": [
        {
         "alignmentgroup": "True",
         "hovertemplate": "Quarter=%{x}<br>Count=%{y}<br>Employment Status=%{marker.color}<extra></extra>",
         "legendgroup": "",
         "marker": {
          "color": [
           0,
           1,
           0,
           1,
           0,
           1,
           0,
           1
          ],
          "coloraxis": "coloraxis",
          "pattern": {
           "shape": ""
          }
         },
         "name": "",
         "offsetgroup": "",
         "orientation": "v",
         "showlegend": false,
         "textposition": "auto",
         "type": "bar",
         "x": [
          1,
          1,
          2,
          2,
          3,
          3,
          4,
          4
         ],
         "xaxis": "x",
         "y": [
          263827,
          107103,
          276125,
          94805,
          290317,
          80613,
          305973,
          64957
         ],
         "yaxis": "y"
        }
       ],
       "layout": {
        "barmode": "stack",
        "coloraxis": {
         "colorbar": {
          "title": {
           "text": "Employment Status"
          }
         },
         "colorscale": [
          [
           0,
           "#0d0887"
          ],
          [
           0.1111111111111111,
           "#46039f"
          ],
          [
           0.2222222222222222,
           "#7201a8"
          ],
          [
           0.3333333333333333,
           "#9c179e"
          ],
          [
           0.4444444444444444,
           "#bd3786"
          ],
          [
           0.5555555555555556,
           "#d8576b"
          ],
          [
           0.6666666666666666,
           "#ed7953"
          ],
          [
           0.7777777777777778,
           "#fb9f3a"
          ],
          [
           0.8888888888888888,
           "#fdca26"
          ],
          [
           1,
           "#f0f921"
          ]
         ]
        },
        "legend": {
         "tracegroupgap": 0
        },
        "template": {
         "data": {
          "bar": [
           {
            "error_x": {
             "color": "#2a3f5f"
            },
            "error_y": {
             "color": "#2a3f5f"
            },
            "marker": {
             "line": {
              "color": "#E5ECF6",
              "width": 0.5
             },
             "pattern": {
              "fillmode": "overlay",
              "size": 10,
              "solidity": 0.2
             }
            },
            "type": "bar"
           }
          ],
          "barpolar": [
           {
            "marker": {
             "line": {
              "color": "#E5ECF6",
              "width": 0.5
             },
             "pattern": {
              "fillmode": "overlay",
              "size": 10,
              "solidity": 0.2
             }
            },
            "type": "barpolar"
           }
          ],
          "carpet": [
           {
            "aaxis": {
             "endlinecolor": "#2a3f5f",
             "gridcolor": "white",
             "linecolor": "white",
             "minorgridcolor": "white",
             "startlinecolor": "#2a3f5f"
            },
            "baxis": {
             "endlinecolor": "#2a3f5f",
             "gridcolor": "white",
             "linecolor": "white",
             "minorgridcolor": "white",
             "startlinecolor": "#2a3f5f"
            },
            "type": "carpet"
           }
          ],
          "choropleth": [
           {
            "colorbar": {
             "outlinewidth": 0,
             "ticks": ""
            },
            "type": "choropleth"
           }
          ],
          "contour": [
           {
            "colorbar": {
             "outlinewidth": 0,
             "ticks": ""
            },
            "colorscale": [
             [
              0,
              "#0d0887"
             ],
             [
              0.1111111111111111,
              "#46039f"
             ],
             [
              0.2222222222222222,
              "#7201a8"
             ],
             [
              0.3333333333333333,
              "#9c179e"
             ],
             [
              0.4444444444444444,
              "#bd3786"
             ],
             [
              0.5555555555555556,
              "#d8576b"
             ],
             [
              0.6666666666666666,
              "#ed7953"
             ],
             [
              0.7777777777777778,
              "#fb9f3a"
             ],
             [
              0.8888888888888888,
              "#fdca26"
             ],
             [
              1,
              "#f0f921"
             ]
            ],
            "type": "contour"
           }
          ],
          "contourcarpet": [
           {
            "colorbar": {
             "outlinewidth": 0,
             "ticks": ""
            },
            "type": "contourcarpet"
           }
          ],
          "heatmap": [
           {
            "colorbar": {
             "outlinewidth": 0,
             "ticks": ""
            },
            "colorscale": [
             [
              0,
              "#0d0887"
             ],
             [
              0.1111111111111111,
              "#46039f"
             ],
             [
              0.2222222222222222,
              "#7201a8"
             ],
             [
              0.3333333333333333,
              "#9c179e"
             ],
             [
              0.4444444444444444,
              "#bd3786"
             ],
             [
              0.5555555555555556,
              "#d8576b"
             ],
             [
              0.6666666666666666,
              "#ed7953"
             ],
             [
              0.7777777777777778,
              "#fb9f3a"
             ],
             [
              0.8888888888888888,
              "#fdca26"
             ],
             [
              1,
              "#f0f921"
             ]
            ],
            "type": "heatmap"
           }
          ],
          "heatmapgl": [
           {
            "colorbar": {
             "outlinewidth": 0,
             "ticks": ""
            },
            "colorscale": [
             [
              0,
              "#0d0887"
             ],
             [
              0.1111111111111111,
              "#46039f"
             ],
             [
              0.2222222222222222,
              "#7201a8"
             ],
             [
              0.3333333333333333,
              "#9c179e"
             ],
             [
              0.4444444444444444,
              "#bd3786"
             ],
             [
              0.5555555555555556,
              "#d8576b"
             ],
             [
              0.6666666666666666,
              "#ed7953"
             ],
             [
              0.7777777777777778,
              "#fb9f3a"
             ],
             [
              0.8888888888888888,
              "#fdca26"
             ],
             [
              1,
              "#f0f921"
             ]
            ],
            "type": "heatmapgl"
           }
          ],
          "histogram": [
           {
            "marker": {
             "pattern": {
              "fillmode": "overlay",
              "size": 10,
              "solidity": 0.2
             }
            },
            "type": "histogram"
           }
          ],
          "histogram2d": [
           {
            "colorbar": {
             "outlinewidth": 0,
             "ticks": ""
            },
            "colorscale": [
             [
              0,
              "#0d0887"
             ],
             [
              0.1111111111111111,
              "#46039f"
             ],
             [
              0.2222222222222222,
              "#7201a8"
             ],
             [
              0.3333333333333333,
              "#9c179e"
             ],
             [
              0.4444444444444444,
              "#bd3786"
             ],
             [
              0.5555555555555556,
              "#d8576b"
             ],
             [
              0.6666666666666666,
              "#ed7953"
             ],
             [
              0.7777777777777778,
              "#fb9f3a"
             ],
             [
              0.8888888888888888,
              "#fdca26"
             ],
             [
              1,
              "#f0f921"
             ]
            ],
            "type": "histogram2d"
           }
          ],
          "histogram2dcontour": [
           {
            "colorbar": {
             "outlinewidth": 0,
             "ticks": ""
            },
            "colorscale": [
             [
              0,
              "#0d0887"
             ],
             [
              0.1111111111111111,
              "#46039f"
             ],
             [
              0.2222222222222222,
              "#7201a8"
             ],
             [
              0.3333333333333333,
              "#9c179e"
             ],
             [
              0.4444444444444444,
              "#bd3786"
             ],
             [
              0.5555555555555556,
              "#d8576b"
             ],
             [
              0.6666666666666666,
              "#ed7953"
             ],
             [
              0.7777777777777778,
              "#fb9f3a"
             ],
             [
              0.8888888888888888,
              "#fdca26"
             ],
             [
              1,
              "#f0f921"
             ]
            ],
            "type": "histogram2dcontour"
           }
          ],
          "mesh3d": [
           {
            "colorbar": {
             "outlinewidth": 0,
             "ticks": ""
            },
            "type": "mesh3d"
           }
          ],
          "parcoords": [
           {
            "line": {
             "colorbar": {
              "outlinewidth": 0,
              "ticks": ""
             }
            },
            "type": "parcoords"
           }
          ],
          "pie": [
           {
            "automargin": true,
            "type": "pie"
           }
          ],
          "scatter": [
           {
            "fillpattern": {
             "fillmode": "overlay",
             "size": 10,
             "solidity": 0.2
            },
            "type": "scatter"
           }
          ],
          "scatter3d": [
           {
            "line": {
             "colorbar": {
              "outlinewidth": 0,
              "ticks": ""
             }
            },
            "marker": {
             "colorbar": {
              "outlinewidth": 0,
              "ticks": ""
             }
            },
            "type": "scatter3d"
           }
          ],
          "scattercarpet": [
           {
            "marker": {
             "colorbar": {
              "outlinewidth": 0,
              "ticks": ""
             }
            },
            "type": "scattercarpet"
           }
          ],
          "scattergeo": [
           {
            "marker": {
             "colorbar": {
              "outlinewidth": 0,
              "ticks": ""
             }
            },
            "type": "scattergeo"
           }
          ],
          "scattergl": [
           {
            "marker": {
             "colorbar": {
              "outlinewidth": 0,
              "ticks": ""
             }
            },
            "type": "scattergl"
           }
          ],
          "scattermapbox": [
           {
            "marker": {
             "colorbar": {
              "outlinewidth": 0,
              "ticks": ""
             }
            },
            "type": "scattermapbox"
           }
          ],
          "scatterpolar": [
           {
            "marker": {
             "colorbar": {
              "outlinewidth": 0,
              "ticks": ""
             }
            },
            "type": "scatterpolar"
           }
          ],
          "scatterpolargl": [
           {
            "marker": {
             "colorbar": {
              "outlinewidth": 0,
              "ticks": ""
             }
            },
            "type": "scatterpolargl"
           }
          ],
          "scatterternary": [
           {
            "marker": {
             "colorbar": {
              "outlinewidth": 0,
              "ticks": ""
             }
            },
            "type": "scatterternary"
           }
          ],
          "surface": [
           {
            "colorbar": {
             "outlinewidth": 0,
             "ticks": ""
            },
            "colorscale": [
             [
              0,
              "#0d0887"
             ],
             [
              0.1111111111111111,
              "#46039f"
             ],
             [
              0.2222222222222222,
              "#7201a8"
             ],
             [
              0.3333333333333333,
              "#9c179e"
             ],
             [
              0.4444444444444444,
              "#bd3786"
             ],
             [
              0.5555555555555556,
              "#d8576b"
             ],
             [
              0.6666666666666666,
              "#ed7953"
             ],
             [
              0.7777777777777778,
              "#fb9f3a"
             ],
             [
              0.8888888888888888,
              "#fdca26"
             ],
             [
              1,
              "#f0f921"
             ]
            ],
            "type": "surface"
           }
          ],
          "table": [
           {
            "cells": {
             "fill": {
              "color": "#EBF0F8"
             },
             "line": {
              "color": "white"
             }
            },
            "header": {
             "fill": {
              "color": "#C8D4E3"
             },
             "line": {
              "color": "white"
             }
            },
            "type": "table"
           }
          ]
         },
         "layout": {
          "annotationdefaults": {
           "arrowcolor": "#2a3f5f",
           "arrowhead": 0,
           "arrowwidth": 1
          },
          "autotypenumbers": "strict",
          "coloraxis": {
           "colorbar": {
            "outlinewidth": 0,
            "ticks": ""
           }
          },
          "colorscale": {
           "diverging": [
            [
             0,
             "#8e0152"
            ],
            [
             0.1,
             "#c51b7d"
            ],
            [
             0.2,
             "#de77ae"
            ],
            [
             0.3,
             "#f1b6da"
            ],
            [
             0.4,
             "#fde0ef"
            ],
            [
             0.5,
             "#f7f7f7"
            ],
            [
             0.6,
             "#e6f5d0"
            ],
            [
             0.7,
             "#b8e186"
            ],
            [
             0.8,
             "#7fbc41"
            ],
            [
             0.9,
             "#4d9221"
            ],
            [
             1,
             "#276419"
            ]
           ],
           "sequential": [
            [
             0,
             "#0d0887"
            ],
            [
             0.1111111111111111,
             "#46039f"
            ],
            [
             0.2222222222222222,
             "#7201a8"
            ],
            [
             0.3333333333333333,
             "#9c179e"
            ],
            [
             0.4444444444444444,
             "#bd3786"
            ],
            [
             0.5555555555555556,
             "#d8576b"
            ],
            [
             0.6666666666666666,
             "#ed7953"
            ],
            [
             0.7777777777777778,
             "#fb9f3a"
            ],
            [
             0.8888888888888888,
             "#fdca26"
            ],
            [
             1,
             "#f0f921"
            ]
           ],
           "sequentialminus": [
            [
             0,
             "#0d0887"
            ],
            [
             0.1111111111111111,
             "#46039f"
            ],
            [
             0.2222222222222222,
             "#7201a8"
            ],
            [
             0.3333333333333333,
             "#9c179e"
            ],
            [
             0.4444444444444444,
             "#bd3786"
            ],
            [
             0.5555555555555556,
             "#d8576b"
            ],
            [
             0.6666666666666666,
             "#ed7953"
            ],
            [
             0.7777777777777778,
             "#fb9f3a"
            ],
            [
             0.8888888888888888,
             "#fdca26"
            ],
            [
             1,
             "#f0f921"
            ]
           ]
          },
          "colorway": [
           "#636efa",
           "#EF553B",
           "#00cc96",
           "#ab63fa",
           "#FFA15A",
           "#19d3f3",
           "#FF6692",
           "#B6E880",
           "#FF97FF",
           "#FECB52"
          ],
          "font": {
           "color": "#2a3f5f"
          },
          "geo": {
           "bgcolor": "white",
           "lakecolor": "white",
           "landcolor": "#E5ECF6",
           "showlakes": true,
           "showland": true,
           "subunitcolor": "white"
          },
          "hoverlabel": {
           "align": "left"
          },
          "hovermode": "closest",
          "mapbox": {
           "style": "light"
          },
          "paper_bgcolor": "white",
          "plot_bgcolor": "#E5ECF6",
          "polar": {
           "angularaxis": {
            "gridcolor": "white",
            "linecolor": "white",
            "ticks": ""
           },
           "bgcolor": "#E5ECF6",
           "radialaxis": {
            "gridcolor": "white",
            "linecolor": "white",
            "ticks": ""
           }
          },
          "scene": {
           "xaxis": {
            "backgroundcolor": "#E5ECF6",
            "gridcolor": "white",
            "gridwidth": 2,
            "linecolor": "white",
            "showbackground": true,
            "ticks": "",
            "zerolinecolor": "white"
           },
           "yaxis": {
            "backgroundcolor": "#E5ECF6",
            "gridcolor": "white",
            "gridwidth": 2,
            "linecolor": "white",
            "showbackground": true,
            "ticks": "",
            "zerolinecolor": "white"
           },
           "zaxis": {
            "backgroundcolor": "#E5ECF6",
            "gridcolor": "white",
            "gridwidth": 2,
            "linecolor": "white",
            "showbackground": true,
            "ticks": "",
            "zerolinecolor": "white"
           }
          },
          "shapedefaults": {
           "line": {
            "color": "#2a3f5f"
           }
          },
          "ternary": {
           "aaxis": {
            "gridcolor": "white",
            "linecolor": "white",
            "ticks": ""
           },
           "baxis": {
            "gridcolor": "white",
            "linecolor": "white",
            "ticks": ""
           },
           "bgcolor": "#E5ECF6",
           "caxis": {
            "gridcolor": "white",
            "linecolor": "white",
            "ticks": ""
           }
          },
          "title": {
           "x": 0.05
          },
          "xaxis": {
           "automargin": true,
           "gridcolor": "white",
           "linecolor": "white",
           "ticks": "",
           "title": {
            "standoff": 15
           },
           "zerolinecolor": "white",
           "zerolinewidth": 2
          },
          "yaxis": {
           "automargin": true,
           "gridcolor": "white",
           "linecolor": "white",
           "ticks": "",
           "title": {
            "standoff": 15
           },
           "zerolinecolor": "white",
           "zerolinewidth": 2
          }
         }
        },
        "title": {
         "text": "Employment Status by Quarter"
        },
        "xaxis": {
         "anchor": "y",
         "domain": [
          0,
          1
         ],
         "title": {
          "text": "Quarter"
         }
        },
        "yaxis": {
         "anchor": "x",
         "domain": [
          0,
          1
         ],
         "title": {
          "text": "Count"
         }
        }
       }
      }
     },
     "metadata": {},
     "output_type": "display_data"
    }
   ],
   "source": [
    "custom_colors = px.colors.qualitative.Vivid  # Vibrant color scheme\n",
    "\n",
    "fig = px.bar(\n",
    "    df_quarterly_employment, \n",
    "    x=\"quarter\", \n",
    "    y=\"count\", \n",
    "    color=\"employment_status\",  # Equivalent to hue in Seabor\n",
    "    barmode=\"stack\",  # Groups bars instead of stacking\n",
    "    title=\"Employment Status by Quarter\",\n",
    "    labels={\"quarter\": \"Quarter\", \"count\": \"Count\", \"employment_status\": \"Employment Status\"},\n",
    "    color_discrete_sequence=custom_colors\n",
    ")\n",
    "\n",
    "# Show the plot\n",
    "fig.show()"
   ]
  },
  {
   "cell_type": "markdown",
   "metadata": {},
   "source": [
    "#### PCT Change by Industry"
   ]
  },
  {
   "cell_type": "code",
   "execution_count": 74,
   "metadata": {},
   "outputs": [],
   "source": [
    "df1 = data.groupby('industry_code_of_employment_1st_quarter_after_exit_quarter')['type_of_employment_match_1st_quarter_after_exit_quarter_wioa'].value_counts().reset_index()\n",
    "df2 = data.groupby('industry_code_of_employment_2nd_quarter_after_exit_quarter')['type_of_employment_match_2nd_quarter_after_exit_quarter_wioa'].value_counts().reset_index()\n",
    "df3 = data.groupby('industry_code_of_employment_3rd_quarter_after_exit_quarter')['type_of_employment_match_3rd_quarter_after_exit_quarter_wioa'].value_counts().reset_index()\n",
    "df4 = data.groupby('industry_code_of_employment_4th_quarter_after_exit_quarter')['type_of_employment_match_4th_quarter_after_exit_quarter_wioa'].value_counts().reset_index()\n",
    "\n",
    "df1.columns = ['industry_code', 'employed', 'count']\n",
    "df2.columns = ['industry_code', 'employed', 'count']\n",
    "df3.columns = ['industry_code', 'employed', 'count']\n",
    "df4.columns = ['industry_code', 'employed', 'count']\n",
    "\n",
    "df1['quarter'] = 1\n",
    "df2['quarter'] = 2\n",
    "df3['quarter'] = 3\n",
    "df4['quarter'] = 4\n",
    "\n",
    "df = pd.concat([df1, df2, df3, df4])\n",
    "employed = df.loc[df.employed == 1].groupby(['industry_code', 'quarter'])['count'].sum().reset_index()\n",
    "unemployed = df.loc[df.employed == 0].groupby(['industry_code', 'quarter'])['count'].sum().reset_index()\n",
    "\n",
    "employed['pct_change'] = employed['count'].pct_change() \n",
    "unemployed['pct_change'] = unemployed['count'].pct_change()\n",
    "\n",
    "employed_group = employed.groupby('industry_code')['pct_change'].mean().sort_values(ascending=False)\n",
    "unemployed_group = unemployed.groupby('industry_code')['pct_change'].mean().sort_values(ascending=False)\n"
   ]
  },
  {
   "cell_type": "code",
   "execution_count": 75,
   "metadata": {},
   "outputs": [],
   "source": [
    "employed_group.to_csv('dashboard_data/employment_pct_change.csv')"
   ]
  },
  {
   "cell_type": "markdown",
   "metadata": {},
   "source": [
    "#### how does retention affect wages? "
   ]
  },
  {
   "cell_type": "code",
   "execution_count": 76,
   "metadata": {},
   "outputs": [],
   "source": [
    "wage_columns = ['wages_3rd_quarter_prior_to_participation_quarter',\n",
    "'wages_2nd_quarter_prior_to_participation_quarter',\n",
    "'wages_1st_quarter_prior_to_participation_quarter']\n",
    "\n",
    "\n",
    "data[\"average_wages_before\"] = data[wage_columns].mean(axis=1)\n",
    "\n",
    "wage_after_columns = ['wages_1st_quarter_after_exit_quarter_wioa',\n",
    "'wages_2nd_quarter_after_exit_quarter_wioa',\n",
    "'wages_3rd_quarter_after_exit_quarter_wioa',\n",
    "'wages_4th_quarter_after_exit_quarter_wioa']\n",
    "\n",
    "\n",
    "data[\"average_wages_after\"] = data[wage_after_columns].mean(axis=1)"
   ]
  },
  {
   "cell_type": "code",
   "execution_count": 77,
   "metadata": {},
   "outputs": [
    {
     "data": {
      "text/html": [
       "<div>\n",
       "<style scoped>\n",
       "    .dataframe tbody tr th:only-of-type {\n",
       "        vertical-align: middle;\n",
       "    }\n",
       "\n",
       "    .dataframe tbody tr th {\n",
       "        vertical-align: top;\n",
       "    }\n",
       "\n",
       "    .dataframe thead th {\n",
       "        text-align: right;\n",
       "    }\n",
       "</style>\n",
       "<table border=\"1\" class=\"dataframe\">\n",
       "  <thead>\n",
       "    <tr style=\"text-align: right;\">\n",
       "      <th></th>\n",
       "      <th>industry_code</th>\n",
       "      <th>average_wages_before</th>\n",
       "      <th>quarter</th>\n",
       "      <th>average_wages_after</th>\n",
       "      <th>wage_change</th>\n",
       "    </tr>\n",
       "  </thead>\n",
       "  <tbody>\n",
       "    <tr>\n",
       "      <th>0</th>\n",
       "      <td>Adhesive Manufacturing</td>\n",
       "      <td>9188.807692</td>\n",
       "      <td>1</td>\n",
       "      <td>9392.644231</td>\n",
       "      <td>203.836538</td>\n",
       "    </tr>\n",
       "    <tr>\n",
       "      <th>1</th>\n",
       "      <td>Administration of Air and Water Resource and S...</td>\n",
       "      <td>3382.666667</td>\n",
       "      <td>1</td>\n",
       "      <td>5209.950000</td>\n",
       "      <td>1827.283333</td>\n",
       "    </tr>\n",
       "    <tr>\n",
       "      <th>2</th>\n",
       "      <td>Administration of Conservation Programs</td>\n",
       "      <td>3322.088235</td>\n",
       "      <td>1</td>\n",
       "      <td>3759.941176</td>\n",
       "      <td>437.852941</td>\n",
       "    </tr>\n",
       "    <tr>\n",
       "      <th>3</th>\n",
       "      <td>Administration of Education Programs</td>\n",
       "      <td>4821.725490</td>\n",
       "      <td>1</td>\n",
       "      <td>6987.500000</td>\n",
       "      <td>2165.774510</td>\n",
       "    </tr>\n",
       "    <tr>\n",
       "      <th>4</th>\n",
       "      <td>Administration of Housing Programs</td>\n",
       "      <td>7539.641667</td>\n",
       "      <td>1</td>\n",
       "      <td>6538.681250</td>\n",
       "      <td>-1000.960417</td>\n",
       "    </tr>\n",
       "  </tbody>\n",
       "</table>\n",
       "</div>"
      ],
      "text/plain": [
       "                                       industry_code  average_wages_before  \\\n",
       "0                             Adhesive Manufacturing           9188.807692   \n",
       "1  Administration of Air and Water Resource and S...           3382.666667   \n",
       "2           Administration of Conservation Programs            3322.088235   \n",
       "3              Administration of Education Programs            4821.725490   \n",
       "4                Administration of Housing Programs            7539.641667   \n",
       "\n",
       "   quarter  average_wages_after  wage_change  \n",
       "0        1          9392.644231   203.836538  \n",
       "1        1          5209.950000  1827.283333  \n",
       "2        1          3759.941176   437.852941  \n",
       "3        1          6987.500000  2165.774510  \n",
       "4        1          6538.681250 -1000.960417  "
      ]
     },
     "execution_count": 77,
     "metadata": {},
     "output_type": "execute_result"
    }
   ],
   "source": [
    "\n",
    "# Define quarters and corresponding column names\n",
    "quarters = [1, 2, 3, 4]\n",
    "industry_columns = [\n",
    "    \"industry_code_of_employment_1st_quarter_after_exit_quarter\",\n",
    "    \"industry_code_of_employment_2nd_quarter_after_exit_quarter\",\n",
    "    \"industry_code_of_employment_3rd_quarter_after_exit_quarter\",\n",
    "    \"industry_code_of_employment_4th_quarter_after_exit_quarter\"\n",
    "]\n",
    "\n",
    "# Function to calculate mean wages for a given column and label it with the correct quarter\n",
    "def compute_average_wages(data, wage_column):\n",
    "    df_list = []\n",
    "    for quarter, industry_col in zip(quarters, industry_columns):\n",
    "        df_temp = (\n",
    "            data.groupby(industry_col)[wage_column]\n",
    "            .mean()\n",
    "            .reset_index()\n",
    "            .rename(columns={industry_col: \"industry_code\", wage_column: wage_column})\n",
    "        )\n",
    "        df_temp[\"quarter\"] = quarter\n",
    "        df_list.append(df_temp)\n",
    "    \n",
    "    return pd.concat(df_list, ignore_index=True)\n",
    "\n",
    "# Compute wages before and after\n",
    "df_before = compute_average_wages(data, \"average_wages_before\")\n",
    "df_after = compute_average_wages(data, \"average_wages_after\")\n",
    "\n",
    "# Merge and calculate wage change\n",
    "wage_change = df_before.merge(df_after, on=[\"industry_code\", \"quarter\"])\n",
    "wage_change[\"wage_change\"] = wage_change[\"average_wages_after\"] - wage_change[\"average_wages_before\"]\n",
    "\n",
    "# Display final DataFrame\n",
    "wage_change.head()"
   ]
  },
  {
   "cell_type": "code",
   "execution_count": 78,
   "metadata": {},
   "outputs": [],
   "source": [
    "industry_shorthand = {\n",
    "    \"Manufacturing\": \"Mfg\",\n",
    "    \"Transportation\": \"Trans\",\n",
    "    \"Construction\": \"Const\",\n",
    "    \"Information Technology\": \"IT\",\n",
    "    \"Health Care\": \"Health\",\n",
    "    \"Retail Trade\": \"Retail\",\n",
    "    \"Wholesale Trade\": \"Wholesale\",\n",
    "    \"Financial Services\": \"Finance\",\n",
    "    \"Real Estate and Rental\": \"Real Est\",\n",
    "    \"Professional and Technical Services\": \"Pro Tech\",\n",
    "    \"Education Services\": \"Edu\",\n",
    "    \"Public Administration\": \"Govt\",\n",
    "    \"Accommodation and Food Services\": \"Accom & Food\",\n",
    "    \"Arts, Entertainment, and Recreation\": \"Arts & Rec\",\n",
    "    \"Other Services\": \"Other Services\"\n",
    "}\n",
    "\n",
    "for key, value in industry_shorthand.items():\n",
    "    wage_change[\"industry_code\"] = wage_change[\"industry_code\"].str.replace(key, value)"
   ]
  },
  {
   "cell_type": "code",
   "execution_count": 79,
   "metadata": {},
   "outputs": [],
   "source": [
    "wage_change.to_csv('dashboard_data/wage_change.csv')"
   ]
  },
  {
   "cell_type": "markdown",
   "metadata": {},
   "source": [
    "how to win competition? \n"
   ]
  },
  {
   "cell_type": "code",
   "execution_count": 82,
   "metadata": {},
   "outputs": [
    {
     "data": {
      "text/html": [
       "<div>\n",
       "<style scoped>\n",
       "    .dataframe tbody tr th:only-of-type {\n",
       "        vertical-align: middle;\n",
       "    }\n",
       "\n",
       "    .dataframe tbody tr th {\n",
       "        vertical-align: top;\n",
       "    }\n",
       "\n",
       "    .dataframe thead th {\n",
       "        text-align: right;\n",
       "    }\n",
       "</style>\n",
       "<table border=\"1\" class=\"dataframe\">\n",
       "  <thead>\n",
       "    <tr style=\"text-align: right;\">\n",
       "      <th></th>\n",
       "      <th>industry_code</th>\n",
       "      <th>pct_change</th>\n",
       "    </tr>\n",
       "  </thead>\n",
       "  <tbody>\n",
       "    <tr>\n",
       "      <th>0</th>\n",
       "      <td>Temporary Help Services</td>\n",
       "      <td>124.747146</td>\n",
       "    </tr>\n",
       "    <tr>\n",
       "      <th>1</th>\n",
       "      <td>Hotels (except Casino Hotels) and Motels</td>\n",
       "      <td>93.713948</td>\n",
       "    </tr>\n",
       "    <tr>\n",
       "      <th>2</th>\n",
       "      <td>Security Guards and Patrol Services</td>\n",
       "      <td>88.554594</td>\n",
       "    </tr>\n",
       "    <tr>\n",
       "      <th>3</th>\n",
       "      <td>Elementary and Secondary Schools</td>\n",
       "      <td>61.042195</td>\n",
       "    </tr>\n",
       "    <tr>\n",
       "      <th>4</th>\n",
       "      <td>Department Stores</td>\n",
       "      <td>58.686728</td>\n",
       "    </tr>\n",
       "  </tbody>\n",
       "</table>\n",
       "</div>"
      ],
      "text/plain": [
       "                               industry_code  pct_change\n",
       "0                    Temporary Help Services  124.747146\n",
       "1  Hotels (except Casino Hotels) and Motels    93.713948\n",
       "2       Security Guards and Patrol Services    88.554594\n",
       "3          Elementary and Secondary Schools    61.042195\n",
       "4                         Department Stores    58.686728"
      ]
     },
     "execution_count": 82,
     "metadata": {},
     "output_type": "execute_result"
    }
   ],
   "source": [
    "employed_group = employed_group.reset_index()\n",
    "employed_group.head(5)"
   ]
  },
  {
   "cell_type": "code",
   "execution_count": 83,
   "metadata": {},
   "outputs": [
    {
     "data": {
      "text/html": [
       "<div>\n",
       "<style scoped>\n",
       "    .dataframe tbody tr th:only-of-type {\n",
       "        vertical-align: middle;\n",
       "    }\n",
       "\n",
       "    .dataframe tbody tr th {\n",
       "        vertical-align: top;\n",
       "    }\n",
       "\n",
       "    .dataframe thead th {\n",
       "        text-align: right;\n",
       "    }\n",
       "</style>\n",
       "<table border=\"1\" class=\"dataframe\">\n",
       "  <thead>\n",
       "    <tr style=\"text-align: right;\">\n",
       "      <th></th>\n",
       "      <th>industry_code</th>\n",
       "      <th>pct_change</th>\n",
       "    </tr>\n",
       "  </thead>\n",
       "  <tbody>\n",
       "    <tr>\n",
       "      <th>0</th>\n",
       "      <td>Temporary Help Services</td>\n",
       "      <td>124.747146</td>\n",
       "    </tr>\n",
       "    <tr>\n",
       "      <th>1</th>\n",
       "      <td>Hotels (except Casino Hotels) and Motels</td>\n",
       "      <td>93.713948</td>\n",
       "    </tr>\n",
       "    <tr>\n",
       "      <th>2</th>\n",
       "      <td>Security Guards and Patrol Services</td>\n",
       "      <td>88.554594</td>\n",
       "    </tr>\n",
       "    <tr>\n",
       "      <th>3</th>\n",
       "      <td>Elementary and Secondary Schools</td>\n",
       "      <td>61.042195</td>\n",
       "    </tr>\n",
       "    <tr>\n",
       "      <th>4</th>\n",
       "      <td>Department Stores</td>\n",
       "      <td>58.686728</td>\n",
       "    </tr>\n",
       "  </tbody>\n",
       "</table>\n",
       "</div>"
      ],
      "text/plain": [
       "                               industry_code  pct_change\n",
       "0                    Temporary Help Services  124.747146\n",
       "1  Hotels (except Casino Hotels) and Motels    93.713948\n",
       "2       Security Guards and Patrol Services    88.554594\n",
       "3          Elementary and Secondary Schools    61.042195\n",
       "4                         Department Stores    58.686728"
      ]
     },
     "execution_count": 83,
     "metadata": {},
     "output_type": "execute_result"
    }
   ],
   "source": [
    "\n",
    "\n",
    "# Compute the bottom 20 industries by average wage change\n",
    "employed_group[\"industry_code\"] = employed_group[\"industry_code\"].astype(str).str.slice(0, 75)\n",
    "employed_group.head(5)"
   ]
  },
  {
   "cell_type": "code",
   "execution_count": 84,
   "metadata": {},
   "outputs": [
    {
     "data": {
      "application/vnd.plotly.v1+json": {
       "config": {
        "plotlyServerURL": "https://plot.ly"
       },
       "data": [
        {
         "alignmentgroup": "True",
         "hovertemplate": "Average Employment % Change=%{text}<br>Industry Code=%{y}<extra></extra>",
         "legendgroup": "",
         "marker": {
          "color": "#636efa",
          "pattern": {
           "shape": ""
          }
         },
         "name": "",
         "offsetgroup": "",
         "orientation": "h",
         "showlegend": false,
         "text": [
          -0.6137931034482759,
          -0.6456521739130434,
          -0.6666666666666667,
          -0.6944444444444444,
          -0.6982142857142857,
          -0.8,
          -0.8125,
          -0.8235294117647058,
          -0.84,
          -0.85,
          -0.8518518518518519,
          -0.875,
          -0.8823529411764706,
          -0.8974358974358975,
          -0.9272727272727272,
          -0.9361702127659575,
          -0.9552238805970149,
          -0.9647058823529412,
          -0.9693877551020408,
          -0.9941520467836258
         ],
         "textposition": "outside",
         "texttemplate": "%{text:.2f}",
         "type": "bar",
         "x": [
          -0.6137931034482759,
          -0.6456521739130434,
          -0.6666666666666667,
          -0.6944444444444444,
          -0.6982142857142857,
          -0.8,
          -0.8125,
          -0.8235294117647058,
          -0.84,
          -0.85,
          -0.8518518518518519,
          -0.875,
          -0.8823529411764706,
          -0.8974358974358975,
          -0.9272727272727272,
          -0.9361702127659575,
          -0.9552238805970149,
          -0.9647058823529412,
          -0.9693877551020408,
          -0.9941520467836258
         ],
         "xaxis": "x",
         "y": [
          "Other Electronic Component Manufacturing ",
          "Wineries ",
          "Deep Sea Freight Transportation ",
          "Bed-and-Breakfast Inns ",
          "Port and Harbor Operations",
          "Dry, Condensed, and Evaporated Dairy Product Manufacturing ",
          "Spring Manufacturing ",
          "Line-Haul Railroads ",
          "Other Communication and Energy Wire Manufacturing ",
          "Power-Driven Handtool Manufacturing ",
          "Apple Orchards ",
          "Tire Retreading ",
          "Steel Wire Drawing ",
          "Air and Gas Compressor Manufacturing ",
          "Research and Development in Nanotechnology ",
          "Potato Farming ",
          "American Indian and Alaska Native Tribal Governments ",
          "Inland Water Freight Transportation ",
          "Skiing Facilities",
          "Custom Roll Forming "
         ],
         "yaxis": "y"
        }
       ],
       "layout": {
        "barmode": "relative",
        "height": 800,
        "legend": {
         "tracegroupgap": 0
        },
        "template": {
         "data": {
          "bar": [
           {
            "error_x": {
             "color": "#2a3f5f"
            },
            "error_y": {
             "color": "#2a3f5f"
            },
            "marker": {
             "line": {
              "color": "#E5ECF6",
              "width": 0.5
             },
             "pattern": {
              "fillmode": "overlay",
              "size": 10,
              "solidity": 0.2
             }
            },
            "type": "bar"
           }
          ],
          "barpolar": [
           {
            "marker": {
             "line": {
              "color": "#E5ECF6",
              "width": 0.5
             },
             "pattern": {
              "fillmode": "overlay",
              "size": 10,
              "solidity": 0.2
             }
            },
            "type": "barpolar"
           }
          ],
          "carpet": [
           {
            "aaxis": {
             "endlinecolor": "#2a3f5f",
             "gridcolor": "white",
             "linecolor": "white",
             "minorgridcolor": "white",
             "startlinecolor": "#2a3f5f"
            },
            "baxis": {
             "endlinecolor": "#2a3f5f",
             "gridcolor": "white",
             "linecolor": "white",
             "minorgridcolor": "white",
             "startlinecolor": "#2a3f5f"
            },
            "type": "carpet"
           }
          ],
          "choropleth": [
           {
            "colorbar": {
             "outlinewidth": 0,
             "ticks": ""
            },
            "type": "choropleth"
           }
          ],
          "contour": [
           {
            "colorbar": {
             "outlinewidth": 0,
             "ticks": ""
            },
            "colorscale": [
             [
              0,
              "#0d0887"
             ],
             [
              0.1111111111111111,
              "#46039f"
             ],
             [
              0.2222222222222222,
              "#7201a8"
             ],
             [
              0.3333333333333333,
              "#9c179e"
             ],
             [
              0.4444444444444444,
              "#bd3786"
             ],
             [
              0.5555555555555556,
              "#d8576b"
             ],
             [
              0.6666666666666666,
              "#ed7953"
             ],
             [
              0.7777777777777778,
              "#fb9f3a"
             ],
             [
              0.8888888888888888,
              "#fdca26"
             ],
             [
              1,
              "#f0f921"
             ]
            ],
            "type": "contour"
           }
          ],
          "contourcarpet": [
           {
            "colorbar": {
             "outlinewidth": 0,
             "ticks": ""
            },
            "type": "contourcarpet"
           }
          ],
          "heatmap": [
           {
            "colorbar": {
             "outlinewidth": 0,
             "ticks": ""
            },
            "colorscale": [
             [
              0,
              "#0d0887"
             ],
             [
              0.1111111111111111,
              "#46039f"
             ],
             [
              0.2222222222222222,
              "#7201a8"
             ],
             [
              0.3333333333333333,
              "#9c179e"
             ],
             [
              0.4444444444444444,
              "#bd3786"
             ],
             [
              0.5555555555555556,
              "#d8576b"
             ],
             [
              0.6666666666666666,
              "#ed7953"
             ],
             [
              0.7777777777777778,
              "#fb9f3a"
             ],
             [
              0.8888888888888888,
              "#fdca26"
             ],
             [
              1,
              "#f0f921"
             ]
            ],
            "type": "heatmap"
           }
          ],
          "heatmapgl": [
           {
            "colorbar": {
             "outlinewidth": 0,
             "ticks": ""
            },
            "colorscale": [
             [
              0,
              "#0d0887"
             ],
             [
              0.1111111111111111,
              "#46039f"
             ],
             [
              0.2222222222222222,
              "#7201a8"
             ],
             [
              0.3333333333333333,
              "#9c179e"
             ],
             [
              0.4444444444444444,
              "#bd3786"
             ],
             [
              0.5555555555555556,
              "#d8576b"
             ],
             [
              0.6666666666666666,
              "#ed7953"
             ],
             [
              0.7777777777777778,
              "#fb9f3a"
             ],
             [
              0.8888888888888888,
              "#fdca26"
             ],
             [
              1,
              "#f0f921"
             ]
            ],
            "type": "heatmapgl"
           }
          ],
          "histogram": [
           {
            "marker": {
             "pattern": {
              "fillmode": "overlay",
              "size": 10,
              "solidity": 0.2
             }
            },
            "type": "histogram"
           }
          ],
          "histogram2d": [
           {
            "colorbar": {
             "outlinewidth": 0,
             "ticks": ""
            },
            "colorscale": [
             [
              0,
              "#0d0887"
             ],
             [
              0.1111111111111111,
              "#46039f"
             ],
             [
              0.2222222222222222,
              "#7201a8"
             ],
             [
              0.3333333333333333,
              "#9c179e"
             ],
             [
              0.4444444444444444,
              "#bd3786"
             ],
             [
              0.5555555555555556,
              "#d8576b"
             ],
             [
              0.6666666666666666,
              "#ed7953"
             ],
             [
              0.7777777777777778,
              "#fb9f3a"
             ],
             [
              0.8888888888888888,
              "#fdca26"
             ],
             [
              1,
              "#f0f921"
             ]
            ],
            "type": "histogram2d"
           }
          ],
          "histogram2dcontour": [
           {
            "colorbar": {
             "outlinewidth": 0,
             "ticks": ""
            },
            "colorscale": [
             [
              0,
              "#0d0887"
             ],
             [
              0.1111111111111111,
              "#46039f"
             ],
             [
              0.2222222222222222,
              "#7201a8"
             ],
             [
              0.3333333333333333,
              "#9c179e"
             ],
             [
              0.4444444444444444,
              "#bd3786"
             ],
             [
              0.5555555555555556,
              "#d8576b"
             ],
             [
              0.6666666666666666,
              "#ed7953"
             ],
             [
              0.7777777777777778,
              "#fb9f3a"
             ],
             [
              0.8888888888888888,
              "#fdca26"
             ],
             [
              1,
              "#f0f921"
             ]
            ],
            "type": "histogram2dcontour"
           }
          ],
          "mesh3d": [
           {
            "colorbar": {
             "outlinewidth": 0,
             "ticks": ""
            },
            "type": "mesh3d"
           }
          ],
          "parcoords": [
           {
            "line": {
             "colorbar": {
              "outlinewidth": 0,
              "ticks": ""
             }
            },
            "type": "parcoords"
           }
          ],
          "pie": [
           {
            "automargin": true,
            "type": "pie"
           }
          ],
          "scatter": [
           {
            "fillpattern": {
             "fillmode": "overlay",
             "size": 10,
             "solidity": 0.2
            },
            "type": "scatter"
           }
          ],
          "scatter3d": [
           {
            "line": {
             "colorbar": {
              "outlinewidth": 0,
              "ticks": ""
             }
            },
            "marker": {
             "colorbar": {
              "outlinewidth": 0,
              "ticks": ""
             }
            },
            "type": "scatter3d"
           }
          ],
          "scattercarpet": [
           {
            "marker": {
             "colorbar": {
              "outlinewidth": 0,
              "ticks": ""
             }
            },
            "type": "scattercarpet"
           }
          ],
          "scattergeo": [
           {
            "marker": {
             "colorbar": {
              "outlinewidth": 0,
              "ticks": ""
             }
            },
            "type": "scattergeo"
           }
          ],
          "scattergl": [
           {
            "marker": {
             "colorbar": {
              "outlinewidth": 0,
              "ticks": ""
             }
            },
            "type": "scattergl"
           }
          ],
          "scattermapbox": [
           {
            "marker": {
             "colorbar": {
              "outlinewidth": 0,
              "ticks": ""
             }
            },
            "type": "scattermapbox"
           }
          ],
          "scatterpolar": [
           {
            "marker": {
             "colorbar": {
              "outlinewidth": 0,
              "ticks": ""
             }
            },
            "type": "scatterpolar"
           }
          ],
          "scatterpolargl": [
           {
            "marker": {
             "colorbar": {
              "outlinewidth": 0,
              "ticks": ""
             }
            },
            "type": "scatterpolargl"
           }
          ],
          "scatterternary": [
           {
            "marker": {
             "colorbar": {
              "outlinewidth": 0,
              "ticks": ""
             }
            },
            "type": "scatterternary"
           }
          ],
          "surface": [
           {
            "colorbar": {
             "outlinewidth": 0,
             "ticks": ""
            },
            "colorscale": [
             [
              0,
              "#0d0887"
             ],
             [
              0.1111111111111111,
              "#46039f"
             ],
             [
              0.2222222222222222,
              "#7201a8"
             ],
             [
              0.3333333333333333,
              "#9c179e"
             ],
             [
              0.4444444444444444,
              "#bd3786"
             ],
             [
              0.5555555555555556,
              "#d8576b"
             ],
             [
              0.6666666666666666,
              "#ed7953"
             ],
             [
              0.7777777777777778,
              "#fb9f3a"
             ],
             [
              0.8888888888888888,
              "#fdca26"
             ],
             [
              1,
              "#f0f921"
             ]
            ],
            "type": "surface"
           }
          ],
          "table": [
           {
            "cells": {
             "fill": {
              "color": "#EBF0F8"
             },
             "line": {
              "color": "white"
             }
            },
            "header": {
             "fill": {
              "color": "#C8D4E3"
             },
             "line": {
              "color": "white"
             }
            },
            "type": "table"
           }
          ]
         },
         "layout": {
          "annotationdefaults": {
           "arrowcolor": "#2a3f5f",
           "arrowhead": 0,
           "arrowwidth": 1
          },
          "autotypenumbers": "strict",
          "coloraxis": {
           "colorbar": {
            "outlinewidth": 0,
            "ticks": ""
           }
          },
          "colorscale": {
           "diverging": [
            [
             0,
             "#8e0152"
            ],
            [
             0.1,
             "#c51b7d"
            ],
            [
             0.2,
             "#de77ae"
            ],
            [
             0.3,
             "#f1b6da"
            ],
            [
             0.4,
             "#fde0ef"
            ],
            [
             0.5,
             "#f7f7f7"
            ],
            [
             0.6,
             "#e6f5d0"
            ],
            [
             0.7,
             "#b8e186"
            ],
            [
             0.8,
             "#7fbc41"
            ],
            [
             0.9,
             "#4d9221"
            ],
            [
             1,
             "#276419"
            ]
           ],
           "sequential": [
            [
             0,
             "#0d0887"
            ],
            [
             0.1111111111111111,
             "#46039f"
            ],
            [
             0.2222222222222222,
             "#7201a8"
            ],
            [
             0.3333333333333333,
             "#9c179e"
            ],
            [
             0.4444444444444444,
             "#bd3786"
            ],
            [
             0.5555555555555556,
             "#d8576b"
            ],
            [
             0.6666666666666666,
             "#ed7953"
            ],
            [
             0.7777777777777778,
             "#fb9f3a"
            ],
            [
             0.8888888888888888,
             "#fdca26"
            ],
            [
             1,
             "#f0f921"
            ]
           ],
           "sequentialminus": [
            [
             0,
             "#0d0887"
            ],
            [
             0.1111111111111111,
             "#46039f"
            ],
            [
             0.2222222222222222,
             "#7201a8"
            ],
            [
             0.3333333333333333,
             "#9c179e"
            ],
            [
             0.4444444444444444,
             "#bd3786"
            ],
            [
             0.5555555555555556,
             "#d8576b"
            ],
            [
             0.6666666666666666,
             "#ed7953"
            ],
            [
             0.7777777777777778,
             "#fb9f3a"
            ],
            [
             0.8888888888888888,
             "#fdca26"
            ],
            [
             1,
             "#f0f921"
            ]
           ]
          },
          "colorway": [
           "#636efa",
           "#EF553B",
           "#00cc96",
           "#ab63fa",
           "#FFA15A",
           "#19d3f3",
           "#FF6692",
           "#B6E880",
           "#FF97FF",
           "#FECB52"
          ],
          "font": {
           "color": "#2a3f5f"
          },
          "geo": {
           "bgcolor": "white",
           "lakecolor": "white",
           "landcolor": "#E5ECF6",
           "showlakes": true,
           "showland": true,
           "subunitcolor": "white"
          },
          "hoverlabel": {
           "align": "left"
          },
          "hovermode": "closest",
          "mapbox": {
           "style": "light"
          },
          "paper_bgcolor": "white",
          "plot_bgcolor": "#E5ECF6",
          "polar": {
           "angularaxis": {
            "gridcolor": "white",
            "linecolor": "white",
            "ticks": ""
           },
           "bgcolor": "#E5ECF6",
           "radialaxis": {
            "gridcolor": "white",
            "linecolor": "white",
            "ticks": ""
           }
          },
          "scene": {
           "xaxis": {
            "backgroundcolor": "#E5ECF6",
            "gridcolor": "white",
            "gridwidth": 2,
            "linecolor": "white",
            "showbackground": true,
            "ticks": "",
            "zerolinecolor": "white"
           },
           "yaxis": {
            "backgroundcolor": "#E5ECF6",
            "gridcolor": "white",
            "gridwidth": 2,
            "linecolor": "white",
            "showbackground": true,
            "ticks": "",
            "zerolinecolor": "white"
           },
           "zaxis": {
            "backgroundcolor": "#E5ECF6",
            "gridcolor": "white",
            "gridwidth": 2,
            "linecolor": "white",
            "showbackground": true,
            "ticks": "",
            "zerolinecolor": "white"
           }
          },
          "shapedefaults": {
           "line": {
            "color": "#2a3f5f"
           }
          },
          "ternary": {
           "aaxis": {
            "gridcolor": "white",
            "linecolor": "white",
            "ticks": ""
           },
           "baxis": {
            "gridcolor": "white",
            "linecolor": "white",
            "ticks": ""
           },
           "bgcolor": "#E5ECF6",
           "caxis": {
            "gridcolor": "white",
            "linecolor": "white",
            "ticks": ""
           }
          },
          "title": {
           "x": 0.05
          },
          "xaxis": {
           "automargin": true,
           "gridcolor": "white",
           "linecolor": "white",
           "ticks": "",
           "title": {
            "standoff": 15
           },
           "zerolinecolor": "white",
           "zerolinewidth": 2
          },
          "yaxis": {
           "automargin": true,
           "gridcolor": "white",
           "linecolor": "white",
           "ticks": "",
           "title": {
            "standoff": 15
           },
           "zerolinecolor": "white",
           "zerolinewidth": 2
          }
         }
        },
        "title": {
         "text": "Bottom 20 Industries by Employment Count % Change"
        },
        "xaxis": {
         "anchor": "y",
         "domain": [
          0,
          1
         ],
         "title": {
          "text": "Average Employment % Change"
         }
        },
        "yaxis": {
         "anchor": "x",
         "categoryorder": "total ascending",
         "domain": [
          0,
          1
         ],
         "title": {
          "text": "Industry Code"
         }
        }
       }
      }
     },
     "metadata": {},
     "output_type": "display_data"
    }
   ],
   "source": [
    "\n",
    "# Create a horizontal bar chart\n",
    "fig = px.bar(\n",
    "    employed_group[-20:], \n",
    "    x=\"pct_change\", \n",
    "    y=\"industry_code\", \n",
    "    orientation=\"h\", \n",
    "    title=\"Bottom 20 Industries by Employment Count % Change\",\n",
    "    labels={\"pct_change\": \"Average Employment % Change\", \"industry_code\": \"Industry Code\"},\n",
    "    text=\"pct_change\"\n",
    ")\n",
    "\n",
    "# Improve layout\n",
    "fig.update_traces(texttemplate=\"%{text:.2f}\", textposition=\"outside\")\n",
    "fig.update_layout(yaxis=dict(categoryorder=\"total ascending\"))\n",
    "\n",
    "# make it taller \n",
    "fig.update_layout(height=800)\n",
    "\n",
    "# Show the plot\n",
    "fig.show()"
   ]
  },
  {
   "cell_type": "code",
   "execution_count": 85,
   "metadata": {},
   "outputs": [
    {
     "data": {
      "application/vnd.plotly.v1+json": {
       "config": {
        "plotlyServerURL": "https://plot.ly"
       },
       "data": [
        {
         "alignmentgroup": "True",
         "hovertemplate": "Average Employment % Change=%{text}<br>Industry Code=%{y}<extra></extra>",
         "legendgroup": "",
         "marker": {
          "color": "#636efa",
          "pattern": {
           "shape": ""
          }
         },
         "name": "",
         "offsetgroup": "",
         "orientation": "h",
         "showlegend": false,
         "text": [
          124.7471459195073,
          93.71394812269142,
          88.55459400034334,
          61.04219502674008,
          58.68672800509565,
          50.99811504916389,
          50.22498464416861,
          42.155627351771514,
          41.79450051546406,
          40.762275413630746,
          36.393569192439095,
          36.217692759478034,
          35.79423308683704,
          27.910923415250895,
          27.60917298400631,
          27.142559131760034,
          25.95287790952589,
          24.56040530683127,
          22.561018729296517,
          21.69500014402581
         ],
         "textposition": "outside",
         "texttemplate": "%{text:.2f}",
         "type": "bar",
         "x": [
          124.7471459195073,
          93.71394812269142,
          88.55459400034334,
          61.04219502674008,
          58.68672800509565,
          50.99811504916389,
          50.22498464416861,
          42.155627351771514,
          41.79450051546406,
          40.762275413630746,
          36.393569192439095,
          36.217692759478034,
          35.79423308683704,
          27.910923415250895,
          27.60917298400631,
          27.142559131760034,
          25.95287790952589,
          24.56040530683127,
          22.561018729296517,
          21.69500014402581
         ],
         "xaxis": "x",
         "y": [
          "Temporary Help Services",
          "Hotels (except Casino Hotels) and Motels ",
          "Security Guards and Patrol Services ",
          "Elementary and Secondary Schools ",
          "Department Stores ",
          "Motion Picture and Video Production ",
          "Limited-Service Restaurants ",
          "General Warehousing and Storage ",
          "Scheduled Passenger Air Transportation ",
          "Child Care Services ",
          "All Other General Merchandise Retailers ",
          "Custom Computer Programming Services ",
          "Engineering Services",
          "Janitorial Services ",
          "Telemarketing Bureaus and Other Contact Centers ",
          "Tax Preparation Services ",
          "Supermarkets and Other Grocery Retailers (except Convenience Retailers) ",
          "Poultry Processing ",
          "New Car Dealers ",
          "Wired Telecommunications Carriers "
         ],
         "yaxis": "y"
        }
       ],
       "layout": {
        "barmode": "relative",
        "height": 800,
        "legend": {
         "tracegroupgap": 0
        },
        "template": {
         "data": {
          "bar": [
           {
            "error_x": {
             "color": "#2a3f5f"
            },
            "error_y": {
             "color": "#2a3f5f"
            },
            "marker": {
             "line": {
              "color": "#E5ECF6",
              "width": 0.5
             },
             "pattern": {
              "fillmode": "overlay",
              "size": 10,
              "solidity": 0.2
             }
            },
            "type": "bar"
           }
          ],
          "barpolar": [
           {
            "marker": {
             "line": {
              "color": "#E5ECF6",
              "width": 0.5
             },
             "pattern": {
              "fillmode": "overlay",
              "size": 10,
              "solidity": 0.2
             }
            },
            "type": "barpolar"
           }
          ],
          "carpet": [
           {
            "aaxis": {
             "endlinecolor": "#2a3f5f",
             "gridcolor": "white",
             "linecolor": "white",
             "minorgridcolor": "white",
             "startlinecolor": "#2a3f5f"
            },
            "baxis": {
             "endlinecolor": "#2a3f5f",
             "gridcolor": "white",
             "linecolor": "white",
             "minorgridcolor": "white",
             "startlinecolor": "#2a3f5f"
            },
            "type": "carpet"
           }
          ],
          "choropleth": [
           {
            "colorbar": {
             "outlinewidth": 0,
             "ticks": ""
            },
            "type": "choropleth"
           }
          ],
          "contour": [
           {
            "colorbar": {
             "outlinewidth": 0,
             "ticks": ""
            },
            "colorscale": [
             [
              0,
              "#0d0887"
             ],
             [
              0.1111111111111111,
              "#46039f"
             ],
             [
              0.2222222222222222,
              "#7201a8"
             ],
             [
              0.3333333333333333,
              "#9c179e"
             ],
             [
              0.4444444444444444,
              "#bd3786"
             ],
             [
              0.5555555555555556,
              "#d8576b"
             ],
             [
              0.6666666666666666,
              "#ed7953"
             ],
             [
              0.7777777777777778,
              "#fb9f3a"
             ],
             [
              0.8888888888888888,
              "#fdca26"
             ],
             [
              1,
              "#f0f921"
             ]
            ],
            "type": "contour"
           }
          ],
          "contourcarpet": [
           {
            "colorbar": {
             "outlinewidth": 0,
             "ticks": ""
            },
            "type": "contourcarpet"
           }
          ],
          "heatmap": [
           {
            "colorbar": {
             "outlinewidth": 0,
             "ticks": ""
            },
            "colorscale": [
             [
              0,
              "#0d0887"
             ],
             [
              0.1111111111111111,
              "#46039f"
             ],
             [
              0.2222222222222222,
              "#7201a8"
             ],
             [
              0.3333333333333333,
              "#9c179e"
             ],
             [
              0.4444444444444444,
              "#bd3786"
             ],
             [
              0.5555555555555556,
              "#d8576b"
             ],
             [
              0.6666666666666666,
              "#ed7953"
             ],
             [
              0.7777777777777778,
              "#fb9f3a"
             ],
             [
              0.8888888888888888,
              "#fdca26"
             ],
             [
              1,
              "#f0f921"
             ]
            ],
            "type": "heatmap"
           }
          ],
          "heatmapgl": [
           {
            "colorbar": {
             "outlinewidth": 0,
             "ticks": ""
            },
            "colorscale": [
             [
              0,
              "#0d0887"
             ],
             [
              0.1111111111111111,
              "#46039f"
             ],
             [
              0.2222222222222222,
              "#7201a8"
             ],
             [
              0.3333333333333333,
              "#9c179e"
             ],
             [
              0.4444444444444444,
              "#bd3786"
             ],
             [
              0.5555555555555556,
              "#d8576b"
             ],
             [
              0.6666666666666666,
              "#ed7953"
             ],
             [
              0.7777777777777778,
              "#fb9f3a"
             ],
             [
              0.8888888888888888,
              "#fdca26"
             ],
             [
              1,
              "#f0f921"
             ]
            ],
            "type": "heatmapgl"
           }
          ],
          "histogram": [
           {
            "marker": {
             "pattern": {
              "fillmode": "overlay",
              "size": 10,
              "solidity": 0.2
             }
            },
            "type": "histogram"
           }
          ],
          "histogram2d": [
           {
            "colorbar": {
             "outlinewidth": 0,
             "ticks": ""
            },
            "colorscale": [
             [
              0,
              "#0d0887"
             ],
             [
              0.1111111111111111,
              "#46039f"
             ],
             [
              0.2222222222222222,
              "#7201a8"
             ],
             [
              0.3333333333333333,
              "#9c179e"
             ],
             [
              0.4444444444444444,
              "#bd3786"
             ],
             [
              0.5555555555555556,
              "#d8576b"
             ],
             [
              0.6666666666666666,
              "#ed7953"
             ],
             [
              0.7777777777777778,
              "#fb9f3a"
             ],
             [
              0.8888888888888888,
              "#fdca26"
             ],
             [
              1,
              "#f0f921"
             ]
            ],
            "type": "histogram2d"
           }
          ],
          "histogram2dcontour": [
           {
            "colorbar": {
             "outlinewidth": 0,
             "ticks": ""
            },
            "colorscale": [
             [
              0,
              "#0d0887"
             ],
             [
              0.1111111111111111,
              "#46039f"
             ],
             [
              0.2222222222222222,
              "#7201a8"
             ],
             [
              0.3333333333333333,
              "#9c179e"
             ],
             [
              0.4444444444444444,
              "#bd3786"
             ],
             [
              0.5555555555555556,
              "#d8576b"
             ],
             [
              0.6666666666666666,
              "#ed7953"
             ],
             [
              0.7777777777777778,
              "#fb9f3a"
             ],
             [
              0.8888888888888888,
              "#fdca26"
             ],
             [
              1,
              "#f0f921"
             ]
            ],
            "type": "histogram2dcontour"
           }
          ],
          "mesh3d": [
           {
            "colorbar": {
             "outlinewidth": 0,
             "ticks": ""
            },
            "type": "mesh3d"
           }
          ],
          "parcoords": [
           {
            "line": {
             "colorbar": {
              "outlinewidth": 0,
              "ticks": ""
             }
            },
            "type": "parcoords"
           }
          ],
          "pie": [
           {
            "automargin": true,
            "type": "pie"
           }
          ],
          "scatter": [
           {
            "fillpattern": {
             "fillmode": "overlay",
             "size": 10,
             "solidity": 0.2
            },
            "type": "scatter"
           }
          ],
          "scatter3d": [
           {
            "line": {
             "colorbar": {
              "outlinewidth": 0,
              "ticks": ""
             }
            },
            "marker": {
             "colorbar": {
              "outlinewidth": 0,
              "ticks": ""
             }
            },
            "type": "scatter3d"
           }
          ],
          "scattercarpet": [
           {
            "marker": {
             "colorbar": {
              "outlinewidth": 0,
              "ticks": ""
             }
            },
            "type": "scattercarpet"
           }
          ],
          "scattergeo": [
           {
            "marker": {
             "colorbar": {
              "outlinewidth": 0,
              "ticks": ""
             }
            },
            "type": "scattergeo"
           }
          ],
          "scattergl": [
           {
            "marker": {
             "colorbar": {
              "outlinewidth": 0,
              "ticks": ""
             }
            },
            "type": "scattergl"
           }
          ],
          "scattermapbox": [
           {
            "marker": {
             "colorbar": {
              "outlinewidth": 0,
              "ticks": ""
             }
            },
            "type": "scattermapbox"
           }
          ],
          "scatterpolar": [
           {
            "marker": {
             "colorbar": {
              "outlinewidth": 0,
              "ticks": ""
             }
            },
            "type": "scatterpolar"
           }
          ],
          "scatterpolargl": [
           {
            "marker": {
             "colorbar": {
              "outlinewidth": 0,
              "ticks": ""
             }
            },
            "type": "scatterpolargl"
           }
          ],
          "scatterternary": [
           {
            "marker": {
             "colorbar": {
              "outlinewidth": 0,
              "ticks": ""
             }
            },
            "type": "scatterternary"
           }
          ],
          "surface": [
           {
            "colorbar": {
             "outlinewidth": 0,
             "ticks": ""
            },
            "colorscale": [
             [
              0,
              "#0d0887"
             ],
             [
              0.1111111111111111,
              "#46039f"
             ],
             [
              0.2222222222222222,
              "#7201a8"
             ],
             [
              0.3333333333333333,
              "#9c179e"
             ],
             [
              0.4444444444444444,
              "#bd3786"
             ],
             [
              0.5555555555555556,
              "#d8576b"
             ],
             [
              0.6666666666666666,
              "#ed7953"
             ],
             [
              0.7777777777777778,
              "#fb9f3a"
             ],
             [
              0.8888888888888888,
              "#fdca26"
             ],
             [
              1,
              "#f0f921"
             ]
            ],
            "type": "surface"
           }
          ],
          "table": [
           {
            "cells": {
             "fill": {
              "color": "#EBF0F8"
             },
             "line": {
              "color": "white"
             }
            },
            "header": {
             "fill": {
              "color": "#C8D4E3"
             },
             "line": {
              "color": "white"
             }
            },
            "type": "table"
           }
          ]
         },
         "layout": {
          "annotationdefaults": {
           "arrowcolor": "#2a3f5f",
           "arrowhead": 0,
           "arrowwidth": 1
          },
          "autotypenumbers": "strict",
          "coloraxis": {
           "colorbar": {
            "outlinewidth": 0,
            "ticks": ""
           }
          },
          "colorscale": {
           "diverging": [
            [
             0,
             "#8e0152"
            ],
            [
             0.1,
             "#c51b7d"
            ],
            [
             0.2,
             "#de77ae"
            ],
            [
             0.3,
             "#f1b6da"
            ],
            [
             0.4,
             "#fde0ef"
            ],
            [
             0.5,
             "#f7f7f7"
            ],
            [
             0.6,
             "#e6f5d0"
            ],
            [
             0.7,
             "#b8e186"
            ],
            [
             0.8,
             "#7fbc41"
            ],
            [
             0.9,
             "#4d9221"
            ],
            [
             1,
             "#276419"
            ]
           ],
           "sequential": [
            [
             0,
             "#0d0887"
            ],
            [
             0.1111111111111111,
             "#46039f"
            ],
            [
             0.2222222222222222,
             "#7201a8"
            ],
            [
             0.3333333333333333,
             "#9c179e"
            ],
            [
             0.4444444444444444,
             "#bd3786"
            ],
            [
             0.5555555555555556,
             "#d8576b"
            ],
            [
             0.6666666666666666,
             "#ed7953"
            ],
            [
             0.7777777777777778,
             "#fb9f3a"
            ],
            [
             0.8888888888888888,
             "#fdca26"
            ],
            [
             1,
             "#f0f921"
            ]
           ],
           "sequentialminus": [
            [
             0,
             "#0d0887"
            ],
            [
             0.1111111111111111,
             "#46039f"
            ],
            [
             0.2222222222222222,
             "#7201a8"
            ],
            [
             0.3333333333333333,
             "#9c179e"
            ],
            [
             0.4444444444444444,
             "#bd3786"
            ],
            [
             0.5555555555555556,
             "#d8576b"
            ],
            [
             0.6666666666666666,
             "#ed7953"
            ],
            [
             0.7777777777777778,
             "#fb9f3a"
            ],
            [
             0.8888888888888888,
             "#fdca26"
            ],
            [
             1,
             "#f0f921"
            ]
           ]
          },
          "colorway": [
           "#636efa",
           "#EF553B",
           "#00cc96",
           "#ab63fa",
           "#FFA15A",
           "#19d3f3",
           "#FF6692",
           "#B6E880",
           "#FF97FF",
           "#FECB52"
          ],
          "font": {
           "color": "#2a3f5f"
          },
          "geo": {
           "bgcolor": "white",
           "lakecolor": "white",
           "landcolor": "#E5ECF6",
           "showlakes": true,
           "showland": true,
           "subunitcolor": "white"
          },
          "hoverlabel": {
           "align": "left"
          },
          "hovermode": "closest",
          "mapbox": {
           "style": "light"
          },
          "paper_bgcolor": "white",
          "plot_bgcolor": "#E5ECF6",
          "polar": {
           "angularaxis": {
            "gridcolor": "white",
            "linecolor": "white",
            "ticks": ""
           },
           "bgcolor": "#E5ECF6",
           "radialaxis": {
            "gridcolor": "white",
            "linecolor": "white",
            "ticks": ""
           }
          },
          "scene": {
           "xaxis": {
            "backgroundcolor": "#E5ECF6",
            "gridcolor": "white",
            "gridwidth": 2,
            "linecolor": "white",
            "showbackground": true,
            "ticks": "",
            "zerolinecolor": "white"
           },
           "yaxis": {
            "backgroundcolor": "#E5ECF6",
            "gridcolor": "white",
            "gridwidth": 2,
            "linecolor": "white",
            "showbackground": true,
            "ticks": "",
            "zerolinecolor": "white"
           },
           "zaxis": {
            "backgroundcolor": "#E5ECF6",
            "gridcolor": "white",
            "gridwidth": 2,
            "linecolor": "white",
            "showbackground": true,
            "ticks": "",
            "zerolinecolor": "white"
           }
          },
          "shapedefaults": {
           "line": {
            "color": "#2a3f5f"
           }
          },
          "ternary": {
           "aaxis": {
            "gridcolor": "white",
            "linecolor": "white",
            "ticks": ""
           },
           "baxis": {
            "gridcolor": "white",
            "linecolor": "white",
            "ticks": ""
           },
           "bgcolor": "#E5ECF6",
           "caxis": {
            "gridcolor": "white",
            "linecolor": "white",
            "ticks": ""
           }
          },
          "title": {
           "x": 0.05
          },
          "xaxis": {
           "automargin": true,
           "gridcolor": "white",
           "linecolor": "white",
           "ticks": "",
           "title": {
            "standoff": 15
           },
           "zerolinecolor": "white",
           "zerolinewidth": 2
          },
          "yaxis": {
           "automargin": true,
           "gridcolor": "white",
           "linecolor": "white",
           "ticks": "",
           "title": {
            "standoff": 15
           },
           "zerolinecolor": "white",
           "zerolinewidth": 2
          }
         }
        },
        "title": {
         "text": "Top 20 Industries by Employment Count % Change"
        },
        "xaxis": {
         "anchor": "y",
         "domain": [
          0,
          1
         ],
         "title": {
          "text": "Average Employment % Change"
         }
        },
        "yaxis": {
         "anchor": "x",
         "categoryorder": "total ascending",
         "domain": [
          0,
          1
         ],
         "title": {
          "text": "Industry Code"
         }
        }
       }
      }
     },
     "metadata": {},
     "output_type": "display_data"
    }
   ],
   "source": [
    "\n",
    "# Create a horizontal bar chart\n",
    "fig = px.bar(\n",
    "    employed_group[:20], \n",
    "    x=\"pct_change\", \n",
    "    y=\"industry_code\", \n",
    "    orientation=\"h\", \n",
    "    title=\"Top 20 Industries by Employment Count % Change\",\n",
    "    labels={\"pct_change\": \"Average Employment % Change\", \"industry_code\": \"Industry Code\"},\n",
    "    text=\"pct_change\"\n",
    ")\n",
    "\n",
    "# Improve layout\n",
    "fig.update_traces(texttemplate=\"%{text:.2f}\", textposition=\"outside\")\n",
    "fig.update_layout(yaxis=dict(categoryorder=\"total ascending\"))\n",
    "\n",
    "# make it taller \n",
    "fig.update_layout(height=800)\n",
    "\n",
    "# Show the plot\n",
    "fig.show()"
   ]
  },
  {
   "cell_type": "code",
   "execution_count": null,
   "metadata": {},
   "outputs": [],
   "source": []
  },
  {
   "cell_type": "code",
   "execution_count": null,
   "metadata": {},
   "outputs": [],
   "source": []
  },
  {
   "cell_type": "code",
   "execution_count": null,
   "metadata": {},
   "outputs": [],
   "source": []
  }
 ],
 "metadata": {
  "kernelspec": {
   "display_name": "Python 3",
   "language": "python",
   "name": "python3"
  },
  "language_info": {
   "codemirror_mode": {
    "name": "ipython",
    "version": 3
   },
   "file_extension": ".py",
   "mimetype": "text/x-python",
   "name": "python",
   "nbconvert_exporter": "python",
   "pygments_lexer": "ipython3",
   "version": "3.12.2"
  }
 },
 "nbformat": 4,
 "nbformat_minor": 2
}
