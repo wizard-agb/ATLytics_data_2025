{
 "cells": [
  {
   "cell_type": "code",
   "execution_count": null,
   "metadata": {},
   "outputs": [],
   "source": [
    "import pandas as pd\n",
    "import klib as kl\n"
   ]
  },
  {
   "cell_type": "code",
   "execution_count": null,
   "metadata": {},
   "outputs": [],
   "source": [
    "data = pd.read_csv('data/WIOA_GA_2022.csv')\n",
    "data.head()"
   ]
  },
  {
   "cell_type": "code",
   "execution_count": null,
   "metadata": {},
   "outputs": [],
   "source": [
    "field_lookups = pd.read_csv('reference_data/reference_table_lookups.csv').iloc[:,:6]\n",
    "field_lookups_dict = field_lookups[['DATA ELEMENT NO.', 'DATA ELEMENT NAME']].drop_duplicates()\n",
    "field_lookups_dict = dict(zip(field_lookups_dict['DATA ELEMENT NO.'], field_lookups_dict['DATA ELEMENT NAME']))"
   ]
  },
  {
   "cell_type": "code",
   "execution_count": null,
   "metadata": {},
   "outputs": [],
   "source": [
    "field_lookups.head(5)"
   ]
  },
  {
   "cell_type": "code",
   "execution_count": null,
   "metadata": {},
   "outputs": [],
   "source": [
    "\n",
    "df_cols = [col.replace('PIRL','') for col in  data.columns]\n",
    "columns = [field_lookups_dict.get(col, col) for col in df_cols]\n",
    "data.columns = columns\n",
    "\n",
    "data = kl.clean_column_names(data)\n",
    "\n",
    "data.head(5)"
   ]
  },
  {
   "cell_type": "code",
   "execution_count": null,
   "metadata": {},
   "outputs": [],
   "source": [
    "data.shape"
   ]
  },
  {
   "cell_type": "code",
   "execution_count": null,
   "metadata": {},
   "outputs": [],
   "source": [
    "# data.to_csv('data/with_column_names.csv')"
   ]
  },
  {
   "cell_type": "markdown",
   "metadata": {},
   "source": [
    "### Null Value Checks\n",
    "\n",
    "probably need to be handled. Likely with zero fill. "
   ]
  },
  {
   "cell_type": "code",
   "execution_count": null,
   "metadata": {},
   "outputs": [],
   "source": [
    "# change setting\n",
    "pd.set_option('display.max_rows', None)  # Show all rows\n"
   ]
  },
  {
   "cell_type": "markdown",
   "metadata": {},
   "source": [
    "### columns of interest\n",
    "\n",
    "\n",
    "foster_care_youth_status_at_program_entry_wioa\t\n",
    "homeless_participant,_homeless_children_and_youths,_or_runaway_youth_at_program_entry_wioa\t\n",
    "ex_offender_status_at_program_entry_wioa\t\n",
    "low_income_status_at_program_entry_wioa\t\n",
    "english_language_learner_at_program_entry_wioa\t\n",
    "basic_skills_deficient_low_levels_of_literacy_at_program_entry\t\n",
    "cultural_barriers_at_program_entry_wioa\t\n",
    "single_parent_at_program_entry_wioa\t\n",
    "displaced_homemaker_at_program_entry_wioa\n",
    "\n",
    "recipient_of_incumbent_worker_training\t\n",
    "rapid_response\t\n",
    "adult_education_wioa\t\n",
    "job_corps_wioa\t\n",
    "veterans_programs\t\n",
    "vocational_education\t\n",
    "vocational_rehabilitation_wioa\t\n",
    "wagner_peyser_employment_service_wioa\t\n",
    "employment_and_training_services_related_to_snap\n",
    "registered_apprenticeship_program\t\n",
    "national_dislocated_worker_grants_dwg\n",
    "\n",
    "date_of_program_entry_wioa\t\n",
    "date_of_program_exit_wioa\n",
    "\n",
    "received_training_wioa\n",
    "type_of_work_experience\n",
    "\n",
    "most_recent_date_of_self_service_activities\n",
    "most_recent_date_accessed_information_only_activities\n",
    "date_of_most_recent_reportable_individual_contact\n",
    "most_recent_date_received_basic_career_services_staff_assisted\n",
    "most_recent_date_received_basic_career_services_self_service_information_only\n",
    "date_of_first_basic_career_service_staff_assisted\n",
    "date_of_first_basic_career_service_self_service_information_only\n",
    "\n",
    "individual_with_a_disability_wioa\t\n",
    "category_of_disability\n",
    "employment_status_at_program_entry_wioa\n",
    "long_term_unemployed_at_program_entry_wioa\n",
    "occupational_code_of_most_recent_employment_prior_to_participation_if_available\n",
    "industry_code_of_employment_1st_quarter_prior_to_participation\t\n",
    "industry_code_of_employment_2nd_quarter_prior_to_participation\t\n",
    "industry_code_of_employment_3rd_quarter_prior_to_participation\n",
    "highest_educational_level_completed_at_program_entry_wioa\n",
    "school_status_at_program_entry_wioa\n",
    "eligible_training_provider_cip_code_wioa\n",
    "occupational_skills_training_code_hash_1\n",
    "\n",
    "type_of_employment_match_1st_quarter_after_exit_quarter_wioa\n",
    "type_of_employment_match_2nd_quarter_after_exit_quarter_wioa\n",
    "type_of_employment_match_3rd_quarter_after_exit_quarter_wioa\n",
    "type_of_employment_match_4th_quarter_after_exit_quarter_wioa\n",
    "industry_code_of_employment_1st_quarter_after_exit_quarter\t\n",
    "industry_code_of_employment_2nd_quarter_after_exit_quarter\t\n",
    "industry_code_of_employment_3rd_quarter_after_exit_quarter\t\n",
    "industry_code_of_employment_4th_quarter_after_exit_quarter\n",
    "\n",
    "retention_with_the_same_employer_in_the_2nd_quarter_and_the_4th_quarter_wioa\n",
    "\n",
    "wages_3rd_quarter_prior_to_participation_quarter\t\n",
    "wages_2nd_quarter_prior_to_participation_quarter\t\n",
    "wages_1st_quarter_prior_to_participation_quarter\t\n",
    "wages_1st_quarter_after_exit_quarter_wioa\t\n",
    "wages_2nd_quarter_after_exit_quarter_wioa\t\n",
    "wages_3rd_quarter_after_exit_quarter_wioa\t\n",
    "wages_4th_quarter_after_exit_quarter_wioa\n",
    "\n",
    "type_of_recognized_credential_wioa\n",
    "date_attained_recognized_credential_wioa\n",
    "\n",
    "wioa_median_earnings_quarter_2\n",
    "\n",
    "age_at_participation\n",
    "\n"
   ]
  },
  {
   "cell_type": "code",
   "execution_count": null,
   "metadata": {},
   "outputs": [],
   "source": [
    "# Demographic & Background Information\n",
    "demographics = [\n",
    "    \"foster_care_youth_status_at_program_entry_wioa\",\n",
    "    \"homeless_participant,_homeless_children_and_youths,_or_runaway_youth_at_program_entry_wioa\",\n",
    "    \"ex_offender_status_at_program_entry_wioa\",\n",
    "    \"low_income_status_at_program_entry_wioa\",\n",
    "    \"english_language_learner_at_program_entry_wioa\",\n",
    "    \"basic_skills_deficient_low_levels_of_literacy_at_program_entry\",\n",
    "    \"cultural_barriers_at_program_entry_wioa\",\n",
    "    \"single_parent_at_program_entry_wioa\",\n",
    "    \"displaced_homemaker_at_program_entry_wioa\",\n",
    "    \"individual_with_a_disability_wioa\",\n",
    "    \"category_of_disability\"\n",
    "]\n",
    "\n",
    "# Education & Training Information\n",
    "education_training = [\n",
    "    \"highest_educational_level_completed_at_program_entry_wioa\",\n",
    "    \"school_status_at_program_entry_wioa\",\n",
    "    \"adult_education_wioa\",\n",
    "    \"job_corps_wioa\",\n",
    "    \"vocational_education\",\n",
    "    \"vocational_rehabilitation_wioa\",\n",
    "    \"eligible_training_provider_cip_code_wioa\",\n",
    "    \"occupational_skills_training_code_hash_1\",\n",
    "    \"received_training_wioa\",\n",
    "    \"type_of_work_experience\",\n",
    "    \"type_of_recognized_credential_wioa\",\n",
    "    \"date_attained_recognized_credential_wioa\"\n",
    "]\n",
    "\n",
    "# Employment & Industry Information (Pre-Participation)\n",
    "employment_pre = [\n",
    "    \"employment_status_at_program_entry_wioa\",\n",
    "    \"long_term_unemployed_at_program_entry_wioa\",\n",
    "    \"occupational_code_of_most_recent_employment_prior_to_participation_if_available\",\n",
    "    \"industry_code_of_employment_1st_quarter_prior_to_participation\",\n",
    "    \"industry_code_of_employment_2nd_quarter_prior_to_participation\",\n",
    "    \"industry_code_of_employment_3rd_quarter_prior_to_participation\"\n",
    "]\n",
    "\n",
    "# Employment & Industry Information (Post-Exit)\n",
    "employment_post = [\n",
    "    \"type_of_employment_match_1st_quarter_after_exit_quarter_wioa\",\n",
    "    \"type_of_employment_match_2nd_quarter_after_exit_quarter_wioa\",\n",
    "    \"type_of_employment_match_3rd_quarter_after_exit_quarter_wioa\",\n",
    "    \"type_of_employment_match_4th_quarter_after_exit_quarter_wioa\",\n",
    "    \"industry_code_of_employment_1st_quarter_after_exit_quarter\",\n",
    "    \"industry_code_of_employment_2nd_quarter_after_exit_quarter\",\n",
    "    \"industry_code_of_employment_3rd_quarter_after_exit_quarter\",\n",
    "    \"industry_code_of_employment_4th_quarter_after_exit_quarter\",\n",
    "    \"retention_with_the_same_employer_in_the_2nd_quarter_and_the_4th_quarter_wioa\"\n",
    "]\n",
    "\n",
    "# Wages & Earnings\n",
    "wages_earnings = [\n",
    "    \"wages_3rd_quarter_prior_to_participation_quarter\",\n",
    "    \"wages_2nd_quarter_prior_to_participation_quarter\",\n",
    "    \"wages_1st_quarter_prior_to_participation_quarter\",\n",
    "    \"wages_1st_quarter_after_exit_quarter_wioa\",\n",
    "    \"wages_2nd_quarter_after_exit_quarter_wioa\",\n",
    "    \"wages_3rd_quarter_after_exit_quarter_wioa\",\n",
    "    \"wages_4th_quarter_after_exit_quarter_wioa\",\n",
    "    \"wioa_median_earnings_quarter_2\"\n",
    "]\n",
    "\n",
    "# Program Participation & Services Received\n",
    "program_participation = [\n",
    "    \"recipient_of_incumbent_worker_training\",\n",
    "    \"rapid_response\",\n",
    "    \"wagner_peyser_employment_service_wioa\",\n",
    "    \"employment_and_training_services_related_to_snap\",\n",
    "    \"registered_apprenticeship_program\",\n",
    "    \"national_dislocated_worker_grants_dwg\",\n",
    "    \"veterans_programs\"\n",
    "]\n",
    "\n",
    "# Program Entry & Exit Dates\n",
    "program_dates = [\n",
    "    \"date_of_program_entry_wioa\",\n",
    "    \"date_of_program_exit_wioa\"\n",
    "]\n",
    "\n",
    "# Career Services & Participation History\n",
    "career_services = [\n",
    "    \"most_recent_date_of_self_service_activities\",\n",
    "    \"most_recent_date_accessed_information_only_activities\",\n",
    "    \"date_of_most_recent_reportable_individual_contact\",\n",
    "    \"most_recent_date_received_basic_career_services_staff_assisted\",\n",
    "    \"most_recent_date_received_basic_career_services_self_service_information_only\",\n",
    "    \"date_of_first_basic_career_service_staff_assisted\",\n",
    "    \"date_of_first_basic_career_service_self_service_information_only\"\n",
    "]\n",
    "\n",
    "# Miscellaneous\n",
    "miscellaneous = [\"age_at_participation\"]\n"
   ]
  },
  {
   "cell_type": "code",
   "execution_count": null,
   "metadata": {},
   "outputs": [],
   "source": [
    "print(data.shape)\n",
    "all_columns = demographics + education_training + employment_pre + employment_post + wages_earnings + program_participation + program_dates + career_services + miscellaneous\n",
    "data = data[all_columns]\n",
    "print(data.shape)"
   ]
  },
  {
   "cell_type": "code",
   "execution_count": null,
   "metadata": {},
   "outputs": [],
   "source": [
    "naics_lookup = pd.read_csv('reference_data/2022_NAICS_Structure.csv')\n",
    "naics_lookup = naics_lookup.iloc[2:, 1:3]\n",
    "naics_lookup_dict = dict(zip(naics_lookup['Unnamed: 1'].astype(str), naics_lookup['Unnamed: 2']))\n",
    "\n",
    "cip_codes = pd.read_csv('reference_data/CipCode2010.csv')\n",
    "cip_codes['CIPCode'] = cip_codes['CIPCode'].astype(str).replace('.','')\n",
    "cip_codes_dict = dict(zip(cip_codes['CIPCode'], cip_codes['CIPTitle']))\n",
    "\n",
    "occupational_codes = pd.read_csv('reference_data/occupation_code_ref.csv')\n",
    "occupational_codes['O*NET-SOC Code'] = occupational_codes['O*NET-SOC Code'].astype(str).replace(r'[.,-]','', regex=True)\n",
    "occupational_codes_dict = dict(zip(occupational_codes['O*NET-SOC Code'], occupational_codes['Title']))\n"
   ]
  },
  {
   "cell_type": "code",
   "execution_count": null,
   "metadata": {},
   "outputs": [],
   "source": [
    "\n",
    "for col in all_columns:\n",
    "    data[col] = data[col].fillna('0').astype(int).astype(str)\n",
    "\n",
    "    # 9 means the data is not applicable to the specified row. so we can replace with 0.\n",
    "    if len(set(data[col].unique()) - (set(['0','1','9']))) == 0:\n",
    "        data[col] = data[col].str.replace('9', '0')\n",
    "        data[col] = pd.to_numeric(data[col], errors='coerce')  # Convert non-numeric to NaN\n",
    "        data[col] = data[col].fillna(0).astype(int)\n",
    "    \n",
    "    elif len(set(data[col].unique()) - (set(['0','1']))) == 0:\n",
    "        data[col] = pd.to_numeric(data[col], errors='coerce')\n",
    "        \n",
    "    elif 'date' in col:\n",
    "        print(data[col].unique())\n",
    "        data[col] = pd.to_datetime(data[col], format='%Y%m%d', errors='coerce')\n",
    "        \n",
    "    elif 'wages' in col or 'earnings' in col:\n",
    "        data[col] = pd.to_numeric(data[col], errors='coerce')\n",
    "    \n",
    "    elif 'industry_code' in col:\n",
    "        data[col] = data[col].map(naics_lookup_dict)\n",
    "\n",
    "    elif 'age' in col:\n",
    "        data[col] = pd.to_numeric(data[col], errors='coerce')\n",
    "        \n",
    "    # 2 is the same as 1, just 'verified with addtl info' and 9 is the same as 0\n",
    "    elif len(set(data[col].unique()) - (set(['0','1','2','9']))) == 0 or len(set(data[col].unique()) - (set(['0','1','2']))) == 0 or len(set(data[col].unique()) - (set(['0','1','4']))) == 0:\n",
    "        data[col] = data[col].str.replace('9', '0')\n",
    "        data[col] = data[col].str.replace('2', '1')\n",
    "        data[col] = data[col].str.replace('4', '1') # data entry error here\n",
    "        data[col] = pd.to_numeric(data[col], errors='coerce')\n",
    "   \n",
    "    elif col == 'type_of_work_experience':\n",
    "        work_experience_dict = {\n",
    "            '1': \"summer employment/internship\",\n",
    "            '2': \"non-summer internship/employment\",\n",
    "            '3': \"pre-apprenticeship program.\",\n",
    "            '4': \"job shadowing.\",\n",
    "            '5': \"on-the-job training\",\n",
    "            '6': \"transitional job\",\n",
    "            '7': \"other work experience.\",\n",
    "            '0': \"no work experience.\",\n",
    "            \"\": \"This data element does not apply to the participant.\"\n",
    "        }\n",
    "        data[col] = data[col].map(work_experience_dict)\n",
    "\n",
    "    elif col == 'type_of_recognized_credential_wioa':\n",
    "        education_credentials_dict = {\n",
    "            \"1\": \"Secondary School Diploma or Equivalency\",\n",
    "            \"2\": \"AA or AS Diploma/Degree\",\n",
    "            \"3\": \"BA or BS Diploma/Degree\",\n",
    "            \"4\": \"Occupational Licensure\",\n",
    "            \"5\": \"Occupational Certificate\",\n",
    "            \"6\": \"Occupational Certification\",\n",
    "            \"7\": \"Other Recognized Diploma, Degree, or Certificate\",\n",
    "            \"0\": \"No Recognized Credential\"\n",
    "        }\n",
    "        data[col] = data[col].map(education_credentials_dict)\n",
    "\n",
    "    elif col == 'employment_status_at_program_entry_wioa':\n",
    "        employment_status_dict = {\n",
    "            \"1\": \"Employed\",\n",
    "            \"2\": \"Employed, but Received Notice of Termination of Employment or Military Separation is Pending\",\n",
    "            \"3\": \"Not in Labor Force\",\n",
    "            \"0\": \"Unemployed\"\n",
    "        }\n",
    "        data[col] = data[col].map(employment_status_dict)\n",
    "\n",
    "    elif col == 'category_of_disability':\n",
    "        disability_status_dict = {\n",
    "            \"1\": \"Physical/Chronic Health Condition\",\n",
    "            \"2\": \"Physical/Mobility Impairment\",\n",
    "            \"3\": \"Mental or Psychiatric Disability\",\n",
    "            \"4\": \"Vision-related Disability\",\n",
    "            \"5\": \"Hearing-related Disability\",\n",
    "            \"6\": \"Learning Disability\",\n",
    "            \"7\": \"Cognitive/Intellectual Disability\",\n",
    "            \"9\": \"Participant did not disclose type of disability\",\n",
    "            \"0\": \"No Disability\"\n",
    "        }\n",
    "\n",
    "        data[col] = data[col].map(disability_status_dict)\n",
    "\n",
    "    elif col == 'highest_educational_level_completed_at_program_entry_wioa':\n",
    "        educational_attainment_dict = {\n",
    "            \"1\": \"Attained secondary school diploma\",\n",
    "            \"2\": \"Attained a secondary school equivalency\",\n",
    "            \"3\": \"Received a certificate of attendance/completion from an Individualized Education Program (IEP)\",\n",
    "            \"4\": \"Completed one or more years of postsecondary education\",\n",
    "            \"5\": \"Attained a postsecondary technical or vocational certificate (non-degree)\",\n",
    "            \"6\": \"Attained an Associate's degree\",\n",
    "            \"7\": \"Attained a Bachelor's degree\",\n",
    "            \"8\": \"Attained a degree beyond a Bachelor's degree\",\n",
    "            \"0\": \"No educational level completed\"\n",
    "        }\n",
    "\n",
    "        data[col] = data[col].map(educational_attainment_dict)\n",
    "\n",
    "    elif col == 'school_status_at_program_entry_wioa':\n",
    "        school_attendance_status_dict = {\n",
    "            \"1\": \"In-school, secondary school or less\",\n",
    "            \"2\": \"In-school, Alternative School\",\n",
    "            \"3\": \"In-school, Postsecondary school\",\n",
    "            \"4\": \"Not attending school or Secondary School Dropout\",\n",
    "            \"5\": \"Not attending school; secondary school graduate or has a recognized equivalent\",\n",
    "            \"6\": \"Not attending school; within age of compulsory school attendance\"\n",
    "        }\n",
    "\n",
    "        data[col] = data[col].map(school_attendance_status_dict)\n",
    "\n",
    "    elif col == 'eligible_training_provider_cip_code_wioa':\n",
    "        \n",
    "        data[col] = data[col].map(cip_codes_dict)\n",
    "\n",
    "    elif col == 'occupational_code_of_most_recent_employment_prior_to_participation_if_available' or col == 'occupational_skills_training_code_hash_1':\n",
    "\n",
    "        data[col] = data[col].map(occupational_codes_dict)\n",
    "\n",
    "    else:\n",
    "        print(col)\n",
    "        print(data[col].unique())\n",
    "    \n"
   ]
  },
  {
   "cell_type": "markdown",
   "metadata": {},
   "source": [
    "### Consolidate columns into single column "
   ]
  },
  {
   "cell_type": "markdown",
   "metadata": {},
   "source": [
    "foster_care_youth_status_at_program_entry_wioa\t\n",
    "homeless_participant,_homeless_children_and_youths,_or_runaway_youth_at_program_entry_wioa\t\n",
    "ex_offender_status_at_program_entry_wioa\t\n",
    "low_income_status_at_program_entry_wioa\t\n",
    "english_language_learner_at_program_entry_wioa\t\n",
    "basic_skills_deficient_low_levels_of_literacy_at_program_entry\t\n",
    "cultural_barriers_at_program_entry_wioa\t\n",
    "single_parent_at_program_entry_wioa\t\n",
    "displaced_homemaker_at_program_entry_wioa"
   ]
  },
  {
   "cell_type": "code",
   "execution_count": null,
   "metadata": {},
   "outputs": [],
   "source": [
    "categorical_columns = [\n",
    "    \"foster_care_youth_status_at_program_entry_wioa\",\n",
    "    \"homeless_participant,_homeless_children_and_youths,_or_runaway_youth_at_program_entry_wioa\",\n",
    "    \"ex_offender_status_at_program_entry_wioa\",\n",
    "    \"low_income_status_at_program_entry_wioa\",\n",
    "    \"english_language_learner_at_program_entry_wioa\",\n",
    "    \"basic_skills_deficient_low_levels_of_literacy_at_program_entry\",\n",
    "    \"cultural_barriers_at_program_entry_wioa\",\n",
    "    \"single_parent_at_program_entry_wioa\",\n",
    "    \"displaced_homemaker_at_program_entry_wioa\"\n",
    "]\n",
    "\n",
    "data[categorical_columns]"
   ]
  },
  {
   "cell_type": "code",
   "execution_count": null,
   "metadata": {},
   "outputs": [],
   "source": [
    "pd.set_option('display.max_columns', None)\n",
    "\n",
    "data.head(5)"
   ]
  },
  {
   "cell_type": "code",
   "execution_count": null,
   "metadata": {},
   "outputs": [],
   "source": [
    "data = kl.convert_datatypes(data)\n",
    "data_dtypes = data.dtypes"
   ]
  },
  {
   "cell_type": "code",
   "execution_count": null,
   "metadata": {},
   "outputs": [],
   "source": [
    "data_dtypes.values"
   ]
  },
  {
   "cell_type": "code",
   "execution_count": null,
   "metadata": {},
   "outputs": [],
   "source": [
    "cat_cols = [col for col, dtype in data_dtypes.items() if dtype == 'category']\n",
    "num_cols = [col for col, dtype in data_dtypes.items() if dtype == 'int32' or dtype == 'int8']\n",
    "date_cols = [col for col, dtype in data_dtypes.items() if dtype == '<M8[ns]']"
   ]
  },
  {
   "cell_type": "code",
   "execution_count": null,
   "metadata": {},
   "outputs": [],
   "source": [
    "import matplotlib.pyplot as plt\n",
    "import seaborn as sns\n",
    "import plotly.express as px\n"
   ]
  },
  {
   "cell_type": "code",
   "execution_count": null,
   "metadata": {},
   "outputs": [],
   "source": [
    "\n",
    "def plot_categorical_features(df, feature):\n",
    "    \"\"\"Plots bar charts for categorical features using Seaborn one at a time.\"\"\"\n",
    "    plt.figure(figsize=(8, 4))\n",
    "    sns.countplot(data=df, x=feature)\n",
    "    plt.title(f'Distribution of {feature}')\n",
    "    plt.xlabel(feature)\n",
    "    plt.ylabel('Count')\n",
    "    plt.xticks(rotation=45)\n",
    "    plt.show()"
   ]
  },
  {
   "cell_type": "code",
   "execution_count": null,
   "metadata": {},
   "outputs": [],
   "source": [
    "for col in cat_cols:\n",
    "    plot_categorical_features(data, col)\n",
    "    "
   ]
  },
  {
   "cell_type": "code",
   "execution_count": null,
   "metadata": {},
   "outputs": [],
   "source": [
    "def plot_numerical_features(df, feature):\n",
    "    \"\"\"Plots histograms and boxplots for numerical features using Seaborn one at a time.\"\"\"\n",
    "        # Histogram\n",
    "    plt.figure(figsize=(8, 4))\n",
    "    sns.histplot(data=df, x=feature)\n",
    "    plt.title(f'Histogram of {feature}')\n",
    "    plt.xlabel(feature)\n",
    "    plt.show()"
   ]
  },
  {
   "cell_type": "code",
   "execution_count": null,
   "metadata": {},
   "outputs": [],
   "source": [
    "for col in num_cols:\n",
    "    plot_numerical_features(data, col)"
   ]
  },
  {
   "cell_type": "code",
   "execution_count": null,
   "metadata": {},
   "outputs": [],
   "source": []
  },
  {
   "cell_type": "code",
   "execution_count": null,
   "metadata": {},
   "outputs": [],
   "source": []
  },
  {
   "cell_type": "code",
   "execution_count": null,
   "metadata": {},
   "outputs": [],
   "source": []
  },
  {
   "cell_type": "code",
   "execution_count": null,
   "metadata": {},
   "outputs": [],
   "source": [
    "display(data.isna().sum().reset_index().sort_values(ascending=False, by=0))"
   ]
  },
  {
   "cell_type": "code",
   "execution_count": null,
   "metadata": {},
   "outputs": [],
   "source": [
    "import pandas as pd\n",
    "import matplotlib.pyplot as plt\n",
    "import seaborn as sns\n",
    "\n",
    "# Set seaborn style\n",
    "sns.set_style(\"whitegrid\")\n",
    "\n",
    "def plot_gender_distribution(df):\n",
    "    plt.figure(figsize=(6, 4))\n",
    "    sns.countplot(x='sex_wioa', data=df, palette='pastel')\n",
    "    plt.title('Gender Distribution')\n",
    "    plt.xlabel('Gender')\n",
    "    plt.ylabel('Count')\n",
    "    plt.show()\n",
    "\n",
    "def plot_age_distribution(df):\n",
    "    plt.figure(figsize=(6, 4))\n",
    "    sns.histplot(df['age_at_participation'], bins=20, kde=True, color='skyblue')\n",
    "    plt.title('Age Distribution of Participants')\n",
    "    plt.xlabel('Age')\n",
    "    plt.ylabel('Count')\n",
    "    plt.show()\n",
    "\n",
    "def plot_employment_status(df):\n",
    "    plt.figure(figsize=(6, 4))\n",
    "    sns.countplot(x='employment_status_at_program_entry_wioa', data=df, palette='muted')\n",
    "    plt.title('Employment Status at Program Entry')\n",
    "    plt.xlabel('Employment Status')\n",
    "    plt.ylabel('Count')\n",
    "    plt.xticks(rotation=45)\n",
    "    plt.show()\n",
    "\n",
    "\n",
    "def plot_veteran_status(df):\n",
    "    plt.figure(figsize=(6, 4))\n",
    "    sns.countplot(x='veteran_status', data=df, palette='Set2')\n",
    "    plt.title('Veteran Status Breakdown')\n",
    "    plt.xlabel('Veteran Status')\n",
    "    plt.ylabel('Count')\n",
    "    plt.show()\n",
    "\n",
    "def plot_education_level(df):\n",
    "    plt.figure(figsize=(8, 4))\n",
    "    sns.countplot(y='highest_educational_level_completed_at_program_entry_wioa', data=df, palette='viridis')\n",
    "    plt.title('Education Level at Program Entry')\n",
    "    plt.xlabel('Count')\n",
    "    plt.ylabel('Education Level')\n",
    "    plt.show()\n",
    "\n",
    "def plot_program_participation(df):\n",
    "    plt.figure(figsize=(6, 4))\n",
    "    sns.histplot(df['program_year_of_exit'], bins=10, kde=True, color='coral')\n",
    "    plt.title('Program Participation Over Time')\n",
    "    plt.xlabel('Program Year of Exit')\n",
    "    plt.ylabel('Count')\n",
    "    plt.show()\n",
    "\n",
    "def plot_employment_rate(df):\n",
    "    rate_columns = ['wioa_employment_rate_quarter_2', 'wioa_employment_rate_quarter_4']\n",
    "    df_melted = df[rate_columns].melt(var_name='Quarter', value_name='Employment Rate')\n",
    "    \n",
    "    plt.figure(figsize=(6, 4))\n",
    "    sns.barplot(x='Quarter', y='Employment Rate', data=df_melted, palette='Blues')\n",
    "    plt.title('Employment Rate After Program')\n",
    "    plt.xlabel('Quarter')\n",
    "    plt.ylabel('Employment Rate')\n",
    "    plt.show()\n",
    "\n",
    "def plot_exit_reasons(df):\n",
    "    plt.figure(figsize=(8, 4))\n",
    "    sns.countplot(y='other_reasons_for_exit_wioa', data=df, palette='coolwarm')\n",
    "    plt.title('Reasons for Program Exit')\n",
    "    plt.xlabel('Count')\n",
    "    plt.ylabel('Exit Reason')\n",
    "    plt.show()\n",
    "\n",
    "def plot_assistance_impact(df):\n",
    "    assistance_columns = ['supplemental_nutrition_assistance_program_snap', 'other_public_assistance_recipient']\n",
    "    df_assist = df[assistance_columns].sum()\n",
    "    \n",
    "    plt.figure(figsize=(6, 4))\n",
    "    df_assist.plot(kind='bar', color=['blue', 'orange'])\n",
    "    plt.title('Impact of Public Assistance on Program Participation')\n",
    "    plt.xlabel('Public Assistance Type')\n",
    "    plt.ylabel('Count')\n",
    "    plt.xticks(rotation=45)\n",
    "    plt.show()\n"
   ]
  },
  {
   "cell_type": "code",
   "execution_count": null,
   "metadata": {},
   "outputs": [],
   "source": [
    "plot_gender_distribution(data)"
   ]
  },
  {
   "cell_type": "code",
   "execution_count": null,
   "metadata": {},
   "outputs": [],
   "source": [
    "plot_age_distribution(data)"
   ]
  },
  {
   "cell_type": "code",
   "execution_count": null,
   "metadata": {},
   "outputs": [],
   "source": [
    "plot_assistance_impact(data)"
   ]
  },
  {
   "cell_type": "code",
   "execution_count": null,
   "metadata": {},
   "outputs": [],
   "source": [
    "plot_education_level(data)"
   ]
  },
  {
   "cell_type": "code",
   "execution_count": null,
   "metadata": {},
   "outputs": [],
   "source": [
    "plot_employment_status(data)"
   ]
  },
  {
   "cell_type": "code",
   "execution_count": null,
   "metadata": {},
   "outputs": [],
   "source": [
    "plot_employment_rate(data)"
   ]
  },
  {
   "cell_type": "code",
   "execution_count": null,
   "metadata": {},
   "outputs": [],
   "source": [
    "plot_exit_reasons(data)"
   ]
  },
  {
   "cell_type": "code",
   "execution_count": null,
   "metadata": {},
   "outputs": [],
   "source": [
    "plot_program_participation(data)"
   ]
  },
  {
   "cell_type": "code",
   "execution_count": null,
   "metadata": {},
   "outputs": [],
   "source": [
    "plot_veteran_status(data)"
   ]
  },
  {
   "cell_type": "code",
   "execution_count": null,
   "metadata": {},
   "outputs": [],
   "source": []
  }
 ],
 "metadata": {
  "kernelspec": {
   "display_name": "Python 3",
   "language": "python",
   "name": "python3"
  },
  "language_info": {
   "codemirror_mode": {
    "name": "ipython",
    "version": 3
   },
   "file_extension": ".py",
   "mimetype": "text/x-python",
   "name": "python",
   "nbconvert_exporter": "python",
   "pygments_lexer": "ipython3",
   "version": "3.12.2"
  }
 },
 "nbformat": 4,
 "nbformat_minor": 2
}
